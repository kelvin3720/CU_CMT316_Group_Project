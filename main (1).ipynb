{
  "cells": [
    {
      "cell_type": "markdown",
      "id": "28d182dc",
      "metadata": {
        "id": "28d182dc"
      },
      "source": [
        "### Imports"
      ]
    },
    {
      "cell_type": "code",
      "execution_count": 2,
      "id": "5fb147de",
      "metadata": {
        "colab": {
          "base_uri": "https://localhost:8080/"
        },
        "id": "5fb147de",
        "outputId": "809d49fa-f1ed-41ca-d1ce-f8230a83de2b"
      },
      "outputs": [
        {
          "output_type": "stream",
          "name": "stdout",
          "text": [
            "\u001b[2K     \u001b[90m━━━━━━━━━━━━━━━━━━━━━━━━━━━━━━━━━━━━━━━━\u001b[0m \u001b[32m433.8/433.8 kB\u001b[0m \u001b[31m2.3 MB/s\u001b[0m eta \u001b[36m0:00:00\u001b[0m\n",
            "\u001b[?25h"
          ]
        }
      ],
      "source": [
        "# For Docker image tensorflow/tensorflow:2.14.0-gpu-juptyer and latest-gpu-jupyter\n",
        "# About the latest tag: sha256:efc25f8ad0ec337e8f4e2de9e7e8e391e6729481c7a7cae4bdea3137da7822c6\n",
        "!pip install -q emoji\n",
        "!pip install -q nltk\n",
        "!pip install -q scikit-learn\n",
        "!pip install -q transformers\n",
        "!pip install -q tf-keras"
      ]
    },
    {
      "cell_type": "code",
      "execution_count": 3,
      "id": "26a959c0",
      "metadata": {
        "id": "26a959c0"
      },
      "outputs": [],
      "source": [
        "from typing import Union\n",
        "from emoji import demojize, is_emoji\n",
        "import matplotlib.pyplot as plt\n",
        "from nltk.tokenize import TweetTokenizer\n",
        "import numpy as np\n",
        "from numpy import ndarray\n",
        "from sklearn.metrics import f1_score, recall_score\n",
        "import tensorflow as tf\n",
        "from transformers import (\n",
        "    BertConfig,\n",
        "    BertTokenizer,\n",
        "    TFBertForSequenceClassification,\n",
        ")"
      ]
    },
    {
      "cell_type": "code",
      "execution_count": 4,
      "id": "61904ce3",
      "metadata": {
        "colab": {
          "base_uri": "https://localhost:8080/"
        },
        "id": "61904ce3",
        "outputId": "f771a156-0a87-4d61-c115-aea2bd9af1bc"
      },
      "outputs": [
        {
          "output_type": "stream",
          "name": "stdout",
          "text": [
            "GPU not available, using CPU\n"
          ]
        }
      ],
      "source": [
        "# The device_name will be used in model.fit()\n",
        "gpu_devices = tf.config.experimental.list_physical_devices(\"GPU\")\n",
        "\n",
        "if gpu_devices:\n",
        "    print(\"GPU available, using GPU\")\n",
        "    tf.config.experimental.set_visible_devices(gpu_devices[0], \"GPU\")\n",
        "    device_name = \"/GPU:0\"\n",
        "else:\n",
        "    print(\"GPU not available, using CPU\")\n",
        "    device_name = \"/CPU:0\""
      ]
    },
    {
      "cell_type": "markdown",
      "id": "46b3f7e8",
      "metadata": {
        "id": "46b3f7e8"
      },
      "source": [
        "### Function for loading data set"
      ]
    },
    {
      "cell_type": "code",
      "execution_count": 5,
      "id": "29c7661b",
      "metadata": {
        "id": "29c7661b"
      },
      "outputs": [],
      "source": [
        "def load_text_file(file_path: str) -> list[str]:\n",
        "    \"\"\"\n",
        "    Load a text file and return an array of lines from the file.\n",
        "\n",
        "    Args:\n",
        "        file_path: str: The path to the file to load.\n",
        "\n",
        "    Returns:\n",
        "        list[str]: An array of lines from the file.\n",
        "    \"\"\"\n",
        "    with open(file_path, \"r\", encoding=\"utf-8\") as file:\n",
        "        lines = file.readlines()\n",
        "    return [line.strip() for line in lines]"
      ]
    },
    {
      "cell_type": "markdown",
      "id": "4751e373",
      "metadata": {
        "id": "4751e373"
      },
      "source": [
        "### Load the text files"
      ]
    },
    {
      "cell_type": "code",
      "execution_count": 6,
      "id": "819ff3c4",
      "metadata": {
        "id": "819ff3c4"
      },
      "outputs": [],
      "source": [
        "import requests\n",
        "\n",
        "def load_text_from_url(url):\n",
        "    response = requests.get(url)\n",
        "    if response.status_code == 200:\n",
        "        return response.text.splitlines()\n",
        "    else:\n",
        "        print(\"Failed to fetch data from URL:\", url)\n",
        "        return []\n",
        "\n",
        "train_text_path: str = \"https://raw.githubusercontent.com/cardiffnlp/tweeteval/main/datasets/sentiment/train_text.txt\"\n",
        "train_label_path: str = \"https://raw.githubusercontent.com/cardiffnlp/tweeteval/main/datasets/sentiment/train_labels.txt\"\n",
        "\n",
        "test_text_path: str = \"https://raw.githubusercontent.com/cardiffnlp/tweeteval/main/datasets/sentiment/test_text.txt\"\n",
        "test_label_path: str = \"https://raw.githubusercontent.com/cardiffnlp/tweeteval/main/datasets/sentiment/test_labels.txt\"\n",
        "\n",
        "validation_text_path: str = \"https://raw.githubusercontent.com/cardiffnlp/tweeteval/main/datasets/sentiment/val_text.txt\"\n",
        "validation_label_path: str = \"https://raw.githubusercontent.com/cardiffnlp/tweeteval/main/datasets/sentiment/val_labels.txt\"\n",
        "\n",
        "train_text: list[str] = load_text_from_url(train_text_path)\n",
        "train_label: list[str] = load_text_from_url(train_label_path)\n",
        "\n",
        "test_text: list[str] = load_text_from_url(test_text_path)\n",
        "test_label: list[str] = load_text_from_url(test_label_path)\n",
        "\n",
        "validation_text: list[str] = load_text_from_url(validation_text_path)\n",
        "validation_label: list[str] = load_text_from_url(validation_label_path)\n"
      ]
    },
    {
      "cell_type": "code",
      "source": [
        "from google.colab import drive\n",
        "drive.mount('/content/drive')"
      ],
      "metadata": {
        "colab": {
          "base_uri": "https://localhost:8080/",
          "height": 314
        },
        "id": "wrEdOun0SVH4",
        "outputId": "9f9f20f6-5f4a-47a9-f844-e91d20db8362"
      },
      "id": "wrEdOun0SVH4",
      "execution_count": 7,
      "outputs": [
        {
          "output_type": "error",
          "ename": "MessageError",
          "evalue": "Error: credential propagation was unsuccessful",
          "traceback": [
            "\u001b[0;31m---------------------------------------------------------------------------\u001b[0m",
            "\u001b[0;31mMessageError\u001b[0m                              Traceback (most recent call last)",
            "\u001b[0;32m<ipython-input-7-d5df0069828e>\u001b[0m in \u001b[0;36m<cell line: 2>\u001b[0;34m()\u001b[0m\n\u001b[1;32m      1\u001b[0m \u001b[0;32mfrom\u001b[0m \u001b[0mgoogle\u001b[0m\u001b[0;34m.\u001b[0m\u001b[0mcolab\u001b[0m \u001b[0;32mimport\u001b[0m \u001b[0mdrive\u001b[0m\u001b[0;34m\u001b[0m\u001b[0;34m\u001b[0m\u001b[0m\n\u001b[0;32m----> 2\u001b[0;31m \u001b[0mdrive\u001b[0m\u001b[0;34m.\u001b[0m\u001b[0mmount\u001b[0m\u001b[0;34m(\u001b[0m\u001b[0;34m'/content/drive'\u001b[0m\u001b[0;34m)\u001b[0m\u001b[0;34m\u001b[0m\u001b[0;34m\u001b[0m\u001b[0m\n\u001b[0m",
            "\u001b[0;32m/usr/local/lib/python3.10/dist-packages/google/colab/drive.py\u001b[0m in \u001b[0;36mmount\u001b[0;34m(mountpoint, force_remount, timeout_ms, readonly)\u001b[0m\n\u001b[1;32m     98\u001b[0m \u001b[0;32mdef\u001b[0m \u001b[0mmount\u001b[0m\u001b[0;34m(\u001b[0m\u001b[0mmountpoint\u001b[0m\u001b[0;34m,\u001b[0m \u001b[0mforce_remount\u001b[0m\u001b[0;34m=\u001b[0m\u001b[0;32mFalse\u001b[0m\u001b[0;34m,\u001b[0m \u001b[0mtimeout_ms\u001b[0m\u001b[0;34m=\u001b[0m\u001b[0;36m120000\u001b[0m\u001b[0;34m,\u001b[0m \u001b[0mreadonly\u001b[0m\u001b[0;34m=\u001b[0m\u001b[0;32mFalse\u001b[0m\u001b[0;34m)\u001b[0m\u001b[0;34m:\u001b[0m\u001b[0;34m\u001b[0m\u001b[0;34m\u001b[0m\u001b[0m\n\u001b[1;32m     99\u001b[0m   \u001b[0;34m\"\"\"Mount your Google Drive at the specified mountpoint path.\"\"\"\u001b[0m\u001b[0;34m\u001b[0m\u001b[0;34m\u001b[0m\u001b[0m\n\u001b[0;32m--> 100\u001b[0;31m   return _mount(\n\u001b[0m\u001b[1;32m    101\u001b[0m       \u001b[0mmountpoint\u001b[0m\u001b[0;34m,\u001b[0m\u001b[0;34m\u001b[0m\u001b[0;34m\u001b[0m\u001b[0m\n\u001b[1;32m    102\u001b[0m       \u001b[0mforce_remount\u001b[0m\u001b[0;34m=\u001b[0m\u001b[0mforce_remount\u001b[0m\u001b[0;34m,\u001b[0m\u001b[0;34m\u001b[0m\u001b[0;34m\u001b[0m\u001b[0m\n",
            "\u001b[0;32m/usr/local/lib/python3.10/dist-packages/google/colab/drive.py\u001b[0m in \u001b[0;36m_mount\u001b[0;34m(mountpoint, force_remount, timeout_ms, ephemeral, readonly)\u001b[0m\n\u001b[1;32m    131\u001b[0m   )\n\u001b[1;32m    132\u001b[0m   \u001b[0;32mif\u001b[0m \u001b[0mephemeral\u001b[0m\u001b[0;34m:\u001b[0m\u001b[0;34m\u001b[0m\u001b[0;34m\u001b[0m\u001b[0m\n\u001b[0;32m--> 133\u001b[0;31m     _message.blocking_request(\n\u001b[0m\u001b[1;32m    134\u001b[0m         \u001b[0;34m'request_auth'\u001b[0m\u001b[0;34m,\u001b[0m \u001b[0mrequest\u001b[0m\u001b[0;34m=\u001b[0m\u001b[0;34m{\u001b[0m\u001b[0;34m'authType'\u001b[0m\u001b[0;34m:\u001b[0m \u001b[0;34m'dfs_ephemeral'\u001b[0m\u001b[0;34m}\u001b[0m\u001b[0;34m,\u001b[0m \u001b[0mtimeout_sec\u001b[0m\u001b[0;34m=\u001b[0m\u001b[0;32mNone\u001b[0m\u001b[0;34m\u001b[0m\u001b[0;34m\u001b[0m\u001b[0m\n\u001b[1;32m    135\u001b[0m     )\n",
            "\u001b[0;32m/usr/local/lib/python3.10/dist-packages/google/colab/_message.py\u001b[0m in \u001b[0;36mblocking_request\u001b[0;34m(request_type, request, timeout_sec, parent)\u001b[0m\n\u001b[1;32m    174\u001b[0m       \u001b[0mrequest_type\u001b[0m\u001b[0;34m,\u001b[0m \u001b[0mrequest\u001b[0m\u001b[0;34m,\u001b[0m \u001b[0mparent\u001b[0m\u001b[0;34m=\u001b[0m\u001b[0mparent\u001b[0m\u001b[0;34m,\u001b[0m \u001b[0mexpect_reply\u001b[0m\u001b[0;34m=\u001b[0m\u001b[0;32mTrue\u001b[0m\u001b[0;34m\u001b[0m\u001b[0;34m\u001b[0m\u001b[0m\n\u001b[1;32m    175\u001b[0m   )\n\u001b[0;32m--> 176\u001b[0;31m   \u001b[0;32mreturn\u001b[0m \u001b[0mread_reply_from_input\u001b[0m\u001b[0;34m(\u001b[0m\u001b[0mrequest_id\u001b[0m\u001b[0;34m,\u001b[0m \u001b[0mtimeout_sec\u001b[0m\u001b[0;34m)\u001b[0m\u001b[0;34m\u001b[0m\u001b[0;34m\u001b[0m\u001b[0m\n\u001b[0m",
            "\u001b[0;32m/usr/local/lib/python3.10/dist-packages/google/colab/_message.py\u001b[0m in \u001b[0;36mread_reply_from_input\u001b[0;34m(message_id, timeout_sec)\u001b[0m\n\u001b[1;32m    101\u001b[0m     ):\n\u001b[1;32m    102\u001b[0m       \u001b[0;32mif\u001b[0m \u001b[0;34m'error'\u001b[0m \u001b[0;32min\u001b[0m \u001b[0mreply\u001b[0m\u001b[0;34m:\u001b[0m\u001b[0;34m\u001b[0m\u001b[0;34m\u001b[0m\u001b[0m\n\u001b[0;32m--> 103\u001b[0;31m         \u001b[0;32mraise\u001b[0m \u001b[0mMessageError\u001b[0m\u001b[0;34m(\u001b[0m\u001b[0mreply\u001b[0m\u001b[0;34m[\u001b[0m\u001b[0;34m'error'\u001b[0m\u001b[0;34m]\u001b[0m\u001b[0;34m)\u001b[0m\u001b[0;34m\u001b[0m\u001b[0;34m\u001b[0m\u001b[0m\n\u001b[0m\u001b[1;32m    104\u001b[0m       \u001b[0;32mreturn\u001b[0m \u001b[0mreply\u001b[0m\u001b[0;34m.\u001b[0m\u001b[0mget\u001b[0m\u001b[0;34m(\u001b[0m\u001b[0;34m'data'\u001b[0m\u001b[0;34m,\u001b[0m \u001b[0;32mNone\u001b[0m\u001b[0;34m)\u001b[0m\u001b[0;34m\u001b[0m\u001b[0;34m\u001b[0m\u001b[0m\n\u001b[1;32m    105\u001b[0m \u001b[0;34m\u001b[0m\u001b[0m\n",
            "\u001b[0;31mMessageError\u001b[0m: Error: credential propagation was unsuccessful"
          ]
        }
      ]
    },
    {
      "cell_type": "markdown",
      "id": "c6cd336c",
      "metadata": {
        "id": "c6cd336c"
      },
      "source": [
        "### Preprocessing"
      ]
    },
    {
      "cell_type": "markdown",
      "id": "f0aae0d0-4ea0-4f9b-abb5-42059d4c7ea0",
      "metadata": {
        "id": "f0aae0d0-4ea0-4f9b-abb5-42059d4c7ea0"
      },
      "source": [
        "Before implementing transformers, the major way to do data preprocessing was to use stopwords and `WordNetLemmatizer()` from nltk, with a manually created emoji dictionary, which maps emojis to a respective sentiment score.\n",
        "\n",
        "Tokens are vectorised based on word frequency, and features like sentent length, score from `nltk.sentiment.SentimentIntensityAnalyzer` are also added.\n",
        "\n",
        "The core function for data processing before implementing transformers:\n",
        "```python\n",
        "def text_processing(text: list[str], data: str) -> list[list[str]]:\n",
        "    \"\"\"\n",
        "    Process text data:\n",
        "    - Remove '@user'\n",
        "    - Remove hashtags\n",
        "    - Remove '-'\n",
        "    - Remove URLs\n",
        "    - Replace emojis with their corresponding sentiment.\n",
        "    - Replace punctuation marks.\n",
        "    - Tokenize the text.\n",
        "    - Normalize the text with nltk.\n",
        "    - Lowercase the text.\n",
        "    # Length of the line is added after vectorization.\n",
        "\n",
        "    Args:\n",
        "        text: list[str]: A list of text data.\n",
        "        data: str: The type of data (train, test, validation).\n",
        "\n",
        "    Returns:\n",
        "        list[list[str]]: A list of list of processed text data.\n",
        "    \"\"\"\n",
        "    processed_text = []\n",
        "    for line in text:\n",
        "        # Remove '@user'\n",
        "        line = line.replace(\"@user\", \" \")\n",
        "        # Remove hashtags\n",
        "        line = line.replace(\"#\", \" \")\n",
        "        # Remove '-'\n",
        "        line = line.replace(\"-\", \" \")\n",
        "        # Remove URLs (http, https, www)\n",
        "        line = \" \".join([word for word in line.split() if \"http\" not in word])\n",
        "        line = \" \".join([word for word in line.split() if \"www\" not in word])\n",
        "        # Replace emojis with their corresponding sentiment\n",
        "        line = replace_emojis(line)\n",
        "        # Replace punctuation marks\n",
        "        line = punctuation_replacement(line)\n",
        "        # Tokenize the text.\n",
        "        tokens = nltk.word_tokenize(line)\n",
        "        # Normalize the text using WordNetLemmatizer and tokenize the text\n",
        "        tokens = [lemmatizer.lemmatize(word) for word in tokens]\n",
        "        # Lowercase the text\n",
        "        tokens = [str(word).lower() for word in tokens]\n",
        "        processed_text.append(tokens)\n",
        "\n",
        "    return processed_text\n",
        "```\n",
        "\n",
        "More details can be found in commit `63c2c23`, 'removed slang sd', and more variant of this function can be found in the before `63c2c23`."
      ]
    },
    {
      "cell_type": "markdown",
      "id": "a5da2e83",
      "metadata": {
        "id": "a5da2e83"
      },
      "source": [
        "#### Declere global variables"
      ]
    },
    {
      "cell_type": "code",
      "execution_count": 8,
      "id": "3bc75d8f",
      "metadata": {
        "id": "3bc75d8f"
      },
      "outputs": [],
      "source": [
        "tokenizer = TweetTokenizer()"
      ]
    },
    {
      "cell_type": "markdown",
      "id": "3db4ecc5",
      "metadata": {
        "id": "3db4ecc5"
      },
      "source": [
        "### Functions for preprocessing"
      ]
    },
    {
      "cell_type": "code",
      "execution_count": 9,
      "id": "b14f5776",
      "metadata": {
        "id": "b14f5776"
      },
      "outputs": [],
      "source": [
        "def text_processing(text: list[str]) -> list[str]:\n",
        "    \"\"\"\n",
        "    Process text data:\n",
        "    - Remove \"@user\"\n",
        "    - Remove \"#\".\n",
        "    - Replace \"’\" and triple dots in one character (…).\n",
        "    - Tokenize and lowercase.\n",
        "    - Normalize the tokens and join the line.\n",
        "    - Replace specific strings.\n",
        "    - Remove excess space after processing.\n",
        "\n",
        "    Args:\n",
        "        text: list[str]: A list of text data.\n",
        "\n",
        "    Returns:\n",
        "        list[str]: A list of processed sentences\n",
        "    \"\"\"\n",
        "    processed_text = []\n",
        "    for line in text:\n",
        "        # Remove @user\n",
        "        line = line.replace(\"@user\", \"\")\n",
        "        # Remove #\n",
        "        line = line.replace(\"#\", \"\")\n",
        "        # Replace \"’\" and triple dots in one character (…)\n",
        "        line = line.replace(\"’\", \"'\").replace(\"…\", \"...\")\n",
        "        # Tokenize and lowercase\n",
        "        tokens = tokenizer.tokenize(line.lower())\n",
        "        # Normalize the tokens and join the line\n",
        "        line = \" \".join([normalize_token(token) for token in tokens])\n",
        "        # Replace specific strings\n",
        "        line = (\n",
        "            line.replace(\"cannot\", \"can not\")\n",
        "            .replace(\"can't\", \"can not\")\n",
        "            .replace(\"n't \", \" not \")\n",
        "            # Handle cases in English, where when \"n't\" is replace with\n",
        "            # \" not \", the meaning of the word will be invalid\n",
        "            .replace(\"wo not \", \"will not \")\n",
        "            .replace(\"sha not\", \"shall not\")\n",
        "            # \"ain't\" can be \"am/is/are not\", so it stays\n",
        "            .replace(\"ai not \", \"ain't \")\n",
        "        )\n",
        "        line = (\n",
        "            line.replace(\"'m \", \" am \")\n",
        "            .replace(\"'re \", \" are \")\n",
        "            .replace(\"'ll \", \" will \")\n",
        "            .replace(\"'ve \", \" have \")\n",
        "            # 's can mean ownership or \"is\"\n",
        "            .replace(\"'s \", \" 's \")\n",
        "            # 'd can mean \"would\" or \"had\"\n",
        "            .replace(\"'d \", \" 'd \")\n",
        "        )\n",
        "        # Remove excess spaces\n",
        "        line = \" \".join(line.split())\n",
        "        processed_text.append(line)\n",
        "\n",
        "    return processed_text\n",
        "\n",
        "\n",
        "def normalize_token(token: str) -> str:\n",
        "    \"\"\"\n",
        "    Normalize the provided token.\n",
        "    - Replace URLs with \"HTTPURL\".\n",
        "    - Replace emojis with respective string.\n",
        "\n",
        "    Args:\n",
        "        token: str: The string being normalized\n",
        "\n",
        "    Return:\n",
        "        str: The normalized string\n",
        "    \"\"\"\n",
        "    if token.startswith(\"http\") or token.startswith(\"www\"):\n",
        "        return \"HTTPURL\"\n",
        "    elif is_emoji(token):\n",
        "        return demojize(token)\n",
        "    else:\n",
        "        return token"
      ]
    },
    {
      "cell_type": "markdown",
      "id": "0aed5bf3",
      "metadata": {
        "id": "0aed5bf3"
      },
      "source": [
        "### Process the text data"
      ]
    },
    {
      "cell_type": "markdown",
      "id": "deba10fa",
      "metadata": {
        "id": "deba10fa"
      },
      "source": [
        "#### Process all text data\n",
        "\n",
        "See function docstring from text_processing()"
      ]
    },
    {
      "cell_type": "code",
      "execution_count": 10,
      "id": "1634a5eb",
      "metadata": {
        "id": "1634a5eb"
      },
      "outputs": [],
      "source": [
        "train_text: list[str] = text_processing(train_text)\n",
        "test_text: list[str] = text_processing(test_text)\n",
        "validation_text: list[str] = text_processing(validation_text)"
      ]
    },
    {
      "cell_type": "markdown",
      "id": "c41216d7",
      "metadata": {
        "id": "c41216d7"
      },
      "source": [
        "##### Convert the labels to integers"
      ]
    },
    {
      "cell_type": "code",
      "execution_count": 11,
      "id": "ed72b814-f6f8-4cdf-931b-edb903b16db0",
      "metadata": {
        "id": "ed72b814-f6f8-4cdf-931b-edb903b16db0"
      },
      "outputs": [],
      "source": [
        "validation_labels = [int(x) for x in validation_label]\n",
        "train_labels = [int(x) for x in train_label]\n",
        "test_labels = [int(x) for x in test_label]"
      ]
    },
    {
      "cell_type": "markdown",
      "id": "ebbc89e5-0ca5-4251-9be6-af7efa937b3c",
      "metadata": {
        "id": "ebbc89e5-0ca5-4251-9be6-af7efa937b3c"
      },
      "source": [
        "### Implementation - Transformers"
      ]
    },
    {
      "cell_type": "markdown",
      "id": "502ad47a-ecc2-4945-887b-98e6146089d2",
      "metadata": {
        "id": "502ad47a-ecc2-4945-887b-98e6146089d2"
      },
      "source": [
        "Before implementing transformers, I build a custom netural network for the classification of sentiment labels. Here is the core part of the neural netowk before I implemented transformers:\n",
        "\n",
        "```python\n",
        "# Create an Input layer\n",
        "input_layer = tf.keras.layers.Input(shape=(train_vectorized.shape[1],))\n",
        "\n",
        "dropout_rate = 0.7\n",
        "activation_function = \"sigmoid\"\n",
        "\n",
        "#tf.random.set_seed(2024)\n",
        "\n",
        "# Define the model\n",
        "neural_network = tf.keras.models.Sequential(\n",
        "    [\n",
        "        input_layer,\n",
        "        tf.keras.layers.Dense(2048, activation=activation_function),\n",
        "        tf.keras.layers.Dropout(dropout_rate),\n",
        "        tf.keras.layers.Dense(512, activation=activation_function),\n",
        "        tf.keras.layers.Dropout(dropout_rate),\n",
        "        tf.keras.layers.Dense(128, activation=activation_function),\n",
        "        tf.keras.layers.Dropout(dropout_rate),\n",
        "        tf.keras.layers.Dense(3, activation=\"softmax\"),\n",
        "    ]\n",
        ")\n",
        "\n",
        "# Define early stopping criteria\n",
        "early_stopping = tf.keras.callbacks.EarlyStopping(\n",
        "    monitor=\"val_loss\", patience=5, mode=\"min\", verbose=1\n",
        ")\n",
        "\n",
        "# Add parameters to Adam optimizer if needed\n",
        "modified_adam = tf.keras.optimizers.Adam()\n",
        "\n",
        "neural_network.compile(\n",
        "    optimizer=modified_adam, loss=\"categorical_crossentropy\", metrics=[\"accuracy\"]\n",
        ")\n",
        "\n",
        "rate_scheduler = tf.keras.callbacks.LearningRateScheduler(learning_rate_scheduler)\n",
        "\n",
        "with tf.device(device_name):\n",
        "    history = neural_network.fit(\n",
        "        train_vectorized,\n",
        "        train_label_one_hot,\n",
        "        validation_data=(validation_vectorized, validation_label_one_hot),\n",
        "        epochs=200,\n",
        "        batch_size=512,\n",
        "        callbacks=[early_stopping, rate_scheduler],\n",
        "    )\n",
        "```\n",
        "\n",
        "After parameters tunning and testings, the above model can reach a 64% accuracy. More details can be found in commit `63c2c23`, 'removed slang sd', and more variant of this function, parameters and their respective result can be found in the before `63c2c23`."
      ]
    },
    {
      "cell_type": "markdown",
      "id": "3d809898-c704-4cf5-964e-07079009b20c",
      "metadata": {
        "id": "3d809898-c704-4cf5-964e-07079009b20c"
      },
      "source": [
        " ##### Configurable parameters"
      ]
    },
    {
      "cell_type": "code",
      "execution_count": 12,
      "id": "1b9de556-1ef9-41dd-a82e-821995a0fa05",
      "metadata": {
        "colab": {
          "base_uri": "https://localhost:8080/",
          "height": 178,
          "referenced_widgets": [
            "73e72a476fe94a439a70a3c79666c223",
            "068651ab9d00436bbc53c5eab47b8c88",
            "f6ab6c5be1f2415a80dcddeb727f989f",
            "b220c07a54ee4816ba3bde3cf83e2268",
            "d76c6f6770a545268cbe5864b055be8d",
            "8d151c89d7a54855aea79dd396b24634",
            "741a032344514f9a9e3f0746ae96a9df",
            "bf1e2ea57086404890d35e47fb37a22e",
            "28bdfc8fa9e54cc4a68681c15fd3ffbb",
            "54994a14638f45d8a81b1f12e75db34f",
            "a3c4b92f25174db9b65b55b1659b6162"
          ]
        },
        "id": "1b9de556-1ef9-41dd-a82e-821995a0fa05",
        "outputId": "6ed5eb81-69d2-45b1-f17d-7112c73495f5"
      },
      "outputs": [
        {
          "output_type": "stream",
          "name": "stderr",
          "text": [
            "/usr/local/lib/python3.10/dist-packages/huggingface_hub/utils/_token.py:88: UserWarning: \n",
            "The secret `HF_TOKEN` does not exist in your Colab secrets.\n",
            "To authenticate with the Hugging Face Hub, create a token in your settings tab (https://huggingface.co/settings/tokens), set it as secret in your Google Colab and restart your session.\n",
            "You will be able to reuse this secret in all of your notebooks.\n",
            "Please note that authentication is recommended but still optional to access public models or datasets.\n",
            "  warnings.warn(\n"
          ]
        },
        {
          "output_type": "display_data",
          "data": {
            "text/plain": [
              "config.json:   0%|          | 0.00/570 [00:00<?, ?B/s]"
            ],
            "application/vnd.jupyter.widget-view+json": {
              "version_major": 2,
              "version_minor": 0,
              "model_id": "73e72a476fe94a439a70a3c79666c223"
            }
          },
          "metadata": {}
        }
      ],
      "source": [
        "number_of_epochs: int = 2\n",
        "batch_size: int = 16\n",
        "dropout_rate: float = 0.3\n",
        "learning_rate: float = 0.00001\n",
        "\n",
        "custom_config = BertConfig.from_pretrained(\"bert-base-uncased\")\n",
        "custom_config.hidden_dropout_prob = dropout_rate\n",
        "custom_config.num_labels = 3"
      ]
    },
    {
      "cell_type": "markdown",
      "id": "b366feea-f6df-4ad5-8240-f9d0e70f1821",
      "metadata": {
        "id": "b366feea-f6df-4ad5-8240-f9d0e70f1821"
      },
      "source": [
        "##### Load pre-trained BERT model and tokenizer"
      ]
    },
    {
      "cell_type": "code",
      "execution_count": 13,
      "id": "8643c148-a1cb-4e4c-a6e5-e9dd36e1c9fa",
      "metadata": {
        "colab": {
          "base_uri": "https://localhost:8080/",
          "height": 237,
          "referenced_widgets": [
            "bd722629276c4f3aafd1ad290590d811",
            "8c3034b52ac94350ae36a37a30c5aac6",
            "cf27716ff2664fca9679818f7104d626",
            "5717a4ef0ed0467590aad6f3f8557ba7",
            "0ca5d9ecf8b2402bbcff50ec4588fa5e",
            "6ccea97438c94c27b52ffb06df7d3517",
            "0fe681d6f01a4691ac485328e99aab41",
            "29c8a75d402d4f8aa2828a1e9aae2b7d",
            "0a2e87da8d0b470c9b8809d640a444cd",
            "a9442e9f099940ecb9bc463dcfe95835",
            "c535c6c1d301447488ca0f77d628b9c3",
            "97d110ae8345469cb6bcca4dca0a0e6f",
            "86b171f979df4acea49248352c2feca4",
            "59f1f56460bd46748c7123ae7a7261e4",
            "0f3238ac536049afbd68abbaad8ffdaa",
            "2e31ddee062f4079b032288ecc7a64f5",
            "f3befd19451d46e69522b6bf685b3ac0",
            "76a909d07c914b1db3947fde1c11d56a",
            "852903143cdc49dca1266ff09b531181",
            "902a934cc97944fca686883c5e0d05d1",
            "b74c4a4e23624545ab4c8dc8033cbe51",
            "ced2442d306c4ab6bcd0537ad6de6969",
            "5ba036ba02ff46b59a77b1fec64214ef",
            "88fe3caf74274604bd2767221ec24713",
            "108bf4598688418e8526a820ceda4367",
            "281cbb53287c4b55bd832e9c47cfe935",
            "53aa8af031ed42649c1944d03176e2e2",
            "39568a81483643b493c5514e23b2fad1",
            "ee11f9c007c345bdba6881d7cdc2a905",
            "d719a8a74f37457c90238a7302d186a2",
            "31d7abb1bb1d45989b555664822d6f61",
            "cabb33d60a404461b3f376d585dd94d9",
            "1d26f31a777443abb09745f674e09d85",
            "2425912893e34370a86aba976a093696",
            "96689a55dc524da29fd0f6117cc4c834",
            "128cfda2405545a29e5f9db320128f3b",
            "eaf7ecf71ed34266b09935a31c4d93d4",
            "6b6e206722ee4de2bea32535f0e5b770",
            "c30e3082afad4e3aa906d7e856b2cff4",
            "769fe09471b74ff5a66eb964f67129e1",
            "ce76c5ca1e824119ab757b40b795948b",
            "22197ce412134b1a8a6b58f86d4959c2",
            "7bbfa4e1c52042d7829a720bab7f304b",
            "76b559376cd74e56b87a6e04c3b78651"
          ]
        },
        "id": "8643c148-a1cb-4e4c-a6e5-e9dd36e1c9fa",
        "outputId": "c540efad-1e5d-47eb-896a-8ac89f944e9b"
      },
      "outputs": [
        {
          "output_type": "display_data",
          "data": {
            "text/plain": [
              "tokenizer_config.json:   0%|          | 0.00/48.0 [00:00<?, ?B/s]"
            ],
            "application/vnd.jupyter.widget-view+json": {
              "version_major": 2,
              "version_minor": 0,
              "model_id": "bd722629276c4f3aafd1ad290590d811"
            }
          },
          "metadata": {}
        },
        {
          "output_type": "display_data",
          "data": {
            "text/plain": [
              "vocab.txt:   0%|          | 0.00/232k [00:00<?, ?B/s]"
            ],
            "application/vnd.jupyter.widget-view+json": {
              "version_major": 2,
              "version_minor": 0,
              "model_id": "97d110ae8345469cb6bcca4dca0a0e6f"
            }
          },
          "metadata": {}
        },
        {
          "output_type": "display_data",
          "data": {
            "text/plain": [
              "tokenizer.json:   0%|          | 0.00/466k [00:00<?, ?B/s]"
            ],
            "application/vnd.jupyter.widget-view+json": {
              "version_major": 2,
              "version_minor": 0,
              "model_id": "5ba036ba02ff46b59a77b1fec64214ef"
            }
          },
          "metadata": {}
        },
        {
          "output_type": "display_data",
          "data": {
            "text/plain": [
              "model.safetensors:   0%|          | 0.00/440M [00:00<?, ?B/s]"
            ],
            "application/vnd.jupyter.widget-view+json": {
              "version_major": 2,
              "version_minor": 0,
              "model_id": "2425912893e34370a86aba976a093696"
            }
          },
          "metadata": {}
        },
        {
          "output_type": "stream",
          "name": "stderr",
          "text": [
            "All PyTorch model weights were used when initializing TFBertForSequenceClassification.\n",
            "\n",
            "Some weights or buffers of the TF 2.0 model TFBertForSequenceClassification were not initialized from the PyTorch model and are newly initialized: ['classifier.weight', 'classifier.bias']\n",
            "You should probably TRAIN this model on a down-stream task to be able to use it for predictions and inference.\n"
          ]
        }
      ],
      "source": [
        "tokenizer = BertTokenizer.from_pretrained(\"bert-base-uncased\")\n",
        "model = TFBertForSequenceClassification.from_pretrained(\n",
        "    \"bert-base-uncased\", config=custom_config\n",
        ")"
      ]
    },
    {
      "cell_type": "markdown",
      "id": "232072dc-40ba-4c66-b4b9-0081c5010ac4",
      "metadata": {
        "id": "232072dc-40ba-4c66-b4b9-0081c5010ac4"
      },
      "source": [
        "##### Tokenize and pad sequences"
      ]
    },
    {
      "cell_type": "code",
      "execution_count": 14,
      "id": "4e663579-f6e6-4d97-a767-bd6ef48bf315",
      "metadata": {
        "id": "4e663579-f6e6-4d97-a767-bd6ef48bf315"
      },
      "outputs": [],
      "source": [
        "train_encodings = tokenizer(\n",
        "    train_text, padding=True, truncation=True, return_tensors=\"tf\"\n",
        ")\n",
        "validation_encodings = tokenizer(\n",
        "    validation_text, padding=True, truncation=True, return_tensors=\"tf\"\n",
        ")"
      ]
    },
    {
      "cell_type": "markdown",
      "id": "2095a03b-8fce-47df-9a8f-d41ea66d17be",
      "metadata": {
        "id": "2095a03b-8fce-47df-9a8f-d41ea66d17be"
      },
      "source": [
        "##### Convert labels to TensorFlow tensors"
      ]
    },
    {
      "cell_type": "code",
      "execution_count": 15,
      "id": "be0a6012-10f2-4204-aef4-aa14ca493c9f",
      "metadata": {
        "id": "be0a6012-10f2-4204-aef4-aa14ca493c9f"
      },
      "outputs": [],
      "source": [
        "train_labels_tensor = tf.convert_to_tensor(tf.one_hot(train_labels, 3))\n",
        "validation_labels_tensor = tf.convert_to_tensor(tf.one_hot(validation_labels, 3))"
      ]
    },
    {
      "cell_type": "markdown",
      "id": "dd399b39-b558-4114-889c-5337811f179c",
      "metadata": {
        "id": "dd399b39-b558-4114-889c-5337811f179c"
      },
      "source": [
        "##### Define the model"
      ]
    },
    {
      "cell_type": "code",
      "execution_count": 16,
      "id": "39cd4674-92d9-4188-8743-2656d14cc988",
      "metadata": {
        "id": "39cd4674-92d9-4188-8743-2656d14cc988"
      },
      "outputs": [],
      "source": [
        "optimizer = tf.keras.optimizers.Adam(learning_rate=learning_rate)\n",
        "loss = tf.keras.losses.CategoricalCrossentropy(from_logits=True)\n",
        "model.compile(optimizer=optimizer, loss=loss, metrics=[\"accuracy\"])"
      ]
    },
    {
      "cell_type": "markdown",
      "id": "03f77df6-077d-42fe-b7cc-364db3cc3719",
      "metadata": {
        "id": "03f77df6-077d-42fe-b7cc-364db3cc3719"
      },
      "source": [
        "##### Variables for logging the history"
      ]
    },
    {
      "cell_type": "code",
      "execution_count": 17,
      "id": "67224cf8-f5d4-44ab-936a-b403e171e3e9",
      "metadata": {
        "id": "67224cf8-f5d4-44ab-936a-b403e171e3e9"
      },
      "outputs": [],
      "source": [
        "train_loss: list[float] = []\n",
        "train_accuracy: list[float] = []\n",
        "validation_loss: list[float] = []\n",
        "validation_accuracy: list[float] = []"
      ]
    },
    {
      "cell_type": "markdown",
      "id": "110d8c43-ac3a-4c43-ba58-54ce2d298a2b",
      "metadata": {
        "id": "110d8c43-ac3a-4c43-ba58-54ce2d298a2b"
      },
      "source": [
        "##### Train the model\n",
        "\n",
        "Because model.fit() will crash if I put validation_data inside\n",
        "\n",
        "I created a manual version of history = model.fit(), with validation data"
      ]
    },
    {
      "cell_type": "code",
      "execution_count": null,
      "id": "2e6c2410-2120-4d93-8fb8-45cfe146d846",
      "metadata": {
        "colab": {
          "base_uri": "https://localhost:8080/"
        },
        "id": "2e6c2410-2120-4d93-8fb8-45cfe146d846",
        "outputId": "71fb9a06-b07e-419b-bd15-3649ab60302c"
      },
      "outputs": [
        {
          "output_type": "stream",
          "name": "stderr",
          "text": [
            "WARNING:tensorflow:AutoGraph could not transform <function infer_framework at 0x7aa2fa929d80> and will run it as-is.\n",
            "Cause: for/else statement not yet supported\n",
            "To silence this warning, decorate the function with @tf.autograph.experimental.do_not_convert\n"
          ]
        },
        {
          "output_type": "stream",
          "name": "stdout",
          "text": [
            "WARNING: AutoGraph could not transform <function infer_framework at 0x7aa2fa929d80> and will run it as-is.\n",
            "Cause: for/else statement not yet supported\n",
            "To silence this warning, decorate the function with @tf.autograph.experimental.do_not_convert\n",
            "1230/2851 [===========>..................] - ETA: 7:53:14 - loss: 0.7812 - accuracy: 0.6336"
          ]
        }
      ],
      "source": [
        "with tf.device(device_name):\n",
        "    for i in range(number_of_epochs):\n",
        "        model.fit(train_encodings, train_labels_tensor, batch_size=batch_size)\n",
        "        # Get the loss and accuracy after the current epoch\n",
        "        loss, accuracy = model.evaluate(train_encodings, train_labels_tensor, verbose=0)\n",
        "        train_loss.append(loss)\n",
        "        train_accuracy.append(accuracy)\n",
        "        loss, accuracy = model.evaluate(\n",
        "            validation_encodings, validation_labels_tensor, verbose=0\n",
        "        )\n",
        "        validation_loss.append(loss)\n",
        "        validation_accuracy.append(accuracy)\n",
        "        print(f\"Epoch {i+1} done. Validation accuracy: {accuracy}, loss: {loss}\")"
      ]
    },
    {
      "cell_type": "code",
      "source": [],
      "metadata": {
        "id": "QHqwUkFWZuhe"
      },
      "id": "QHqwUkFWZuhe",
      "execution_count": null,
      "outputs": []
    },
    {
      "cell_type": "markdown",
      "id": "b589d760-c390-45d4-8074-569b1764e944",
      "metadata": {
        "id": "b589d760-c390-45d4-8074-569b1764e944"
      },
      "source": [
        "##### Plot the graphs"
      ]
    },
    {
      "cell_type": "code",
      "execution_count": null,
      "id": "364fb8cd-06eb-44b4-ad71-f885d7edd80e",
      "metadata": {
        "id": "364fb8cd-06eb-44b4-ad71-f885d7edd80e"
      },
      "outputs": [],
      "source": [
        "# Loss\n",
        "epochs = range(1, number_of_epochs + 1)\n",
        "plt.plot(epochs, train_loss, label=\"Training Loss\")\n",
        "plt.plot(epochs, validation_loss, label=\"Validation Loss\")\n",
        "plt.xlabel(\"Epoch\")\n",
        "plt.ylabel(\"Loss\")\n",
        "plt.legend()\n",
        "plt.show()\n",
        "\n",
        "# Accuracy\n",
        "plt.plot(epochs, train_accuracy, label=\"Training Accuracy\")\n",
        "plt.plot(epochs, validation_accuracy, label=\"Validation Accuracy\")\n",
        "plt.xlabel(\"Epoch\")\n",
        "plt.ylabel(\"Accuracy\")\n",
        "plt.legend()\n",
        "plt.show()"
      ]
    },
    {
      "cell_type": "markdown",
      "id": "4ed16ccb-67fe-47b1-9838-42b9ce41bea1",
      "metadata": {
        "id": "4ed16ccb-67fe-47b1-9838-42b9ce41bea1"
      },
      "source": [
        "### Function for optimising"
      ]
    },
    {
      "cell_type": "code",
      "execution_count": null,
      "id": "ce66f542-e53b-4191-9f8d-5818c8e54c91",
      "metadata": {
        "id": "ce66f542-e53b-4191-9f8d-5818c8e54c91"
      },
      "outputs": [],
      "source": [
        "def modify_decision_boundary(prediction: ndarray[float], boundary: float) -> list[int]:\n",
        "    \"\"\"\n",
        "    Adjust decision method, make the model tend to predict\n",
        "    \"Netural\" more, according to the distribution of the dataset\n",
        "\n",
        "    If either the score of positive or negative class is in the\n",
        "    +-boundary range of the netural score, and the remaining class is\n",
        "    not significant higher that the netural class\n",
        "    It will be classified as netural\n",
        "\n",
        "    Args:\n",
        "        prediction: ndarray[float]: The prediction with socres for each entry.\n",
        "        boundary: float: The boundary, should be between 0 and 1.\n",
        "\n",
        "    Return:\n",
        "        ndarray[int]: The new prediction\n",
        "    \"\"\"\n",
        "    final_result: list[int] = []\n",
        "    for row in prediction:\n",
        "        # If the class with the highest score is netural\n",
        "        if np.max(row) == row[1]:\n",
        "            final_result.append(1)\n",
        "            continue\n",
        "\n",
        "        negative: float = row[0]\n",
        "        netural: float = row[1]\n",
        "        positive: float = row[2]\n",
        "\n",
        "        # Get the netural score range\n",
        "        min_netural: float = netural * (1 - boundary)\n",
        "        max_netural: float = netural * (1 + boundary)\n",
        "\n",
        "        # If score for negative is in netural range and it is the class with highest score\n",
        "        if min_netural <= negative <= max_netural and np.max(row) == negative:\n",
        "            final_result.append(1)\n",
        "        # If score for positive is in netural range and it is the class with highest score\n",
        "        elif min_netural <= positive <= max_netural and np.max(row) == positive:\n",
        "            final_result.append(1)\n",
        "        elif np.max(row) == negative:\n",
        "            final_result.append(0)\n",
        "        elif np.max(row) == positive:\n",
        "            final_result.append(2)\n",
        "\n",
        "    return final_result"
      ]
    },
    {
      "cell_type": "markdown",
      "id": "dbb36605-2c39-474c-9260-35f62c24fc9f",
      "metadata": {
        "id": "dbb36605-2c39-474c-9260-35f62c24fc9f"
      },
      "source": [
        "##### Find the best boundary by validation data"
      ]
    },
    {
      "cell_type": "code",
      "execution_count": null,
      "id": "6611b8ee-00b3-4e39-b46d-3e9dfadfb032",
      "metadata": {
        "id": "6611b8ee-00b3-4e39-b46d-3e9dfadfb032"
      },
      "outputs": [],
      "source": [
        "validation_prediction = model.predict(validation_encodings)\n",
        "prediction_matrix: ndarray[float] = validation_prediction.logits\n",
        "\n",
        "start = 0.0\n",
        "boundary: list[float] = []\n",
        "while start < 1.0:\n",
        "    final_result = modify_decision_boundary(prediction_matrix, start)\n",
        "    boundary.append(recall_score(validation_labels, final_result, average=\"macro\"))\n",
        "    start += 0.01\n",
        "\n",
        "x_axis = list(range(100))\n",
        "plt.plot(x_axis, boundary)\n",
        "plt.xlabel(\"Boundary percentage\")\n",
        "plt.ylabel(\"Marco Recall\")\n",
        "plt.title(\"Recall on validation data with different boundaries\")\n",
        "plt.grid(True)\n",
        "plt.show()"
      ]
    },
    {
      "cell_type": "markdown",
      "id": "f8ad99d8-2dd0-4d4e-85e4-4491bae046ac",
      "metadata": {
        "id": "f8ad99d8-2dd0-4d4e-85e4-4491bae046ac"
      },
      "source": [
        "### Final test on the trained model"
      ]
    },
    {
      "cell_type": "markdown",
      "id": "f15e79dd-bb53-402f-9fbb-a7c62064a44c",
      "metadata": {
        "id": "f15e79dd-bb53-402f-9fbb-a7c62064a44c"
      },
      "source": [
        "##### F1 scores"
      ]
    },
    {
      "cell_type": "code",
      "execution_count": null,
      "id": "3e175877-9452-4eb1-9a40-07033bb71b7b",
      "metadata": {
        "id": "3e175877-9452-4eb1-9a40-07033bb71b7b"
      },
      "outputs": [],
      "source": [
        "test_encodings = tokenizer(\n",
        "    test_text, padding=True, truncation=True, return_tensors=\"tf\"\n",
        ")\n",
        "test_labels = tf.convert_to_tensor(tf.one_hot(test_labels, 3))\n",
        "\n",
        "netural_range: float = boundary.index(max(boundary)) * 0.01\n",
        "print(f\"Boundary used: {netural_range}\")\n",
        "\n",
        "test_prediction = model.predict(test_encodings)\n",
        "test_labels = np.argmax(test_labels, axis=1)\n",
        "prediction_matrix: ndarray[float] = test_prediction.logits\n",
        "\n",
        "final_result = modify_decision_boundary(prediction_matrix, netural_range)\n",
        "f1_scores_processed = f1_score(test_labels, final_result, average=None)\n",
        "macro_average_f1_processed = np.mean(f1_scores_processed)\n",
        "\n",
        "print(\"F1 scores for each class:\", f1_scores_processed)\n",
        "print(\"Macro-averaged F1 score:\", macro_average_f1_processed)"
      ]
    },
    {
      "cell_type": "markdown",
      "id": "13cd9d14-7d13-4405-8a0c-ec7732397f6d",
      "metadata": {
        "id": "13cd9d14-7d13-4405-8a0c-ec7732397f6d"
      },
      "source": [
        "##### Recall\n",
        "\n",
        "I used Marco-averaged recall as the metric to evaluate our model, according to [this paper](https://arxiv.org/pdf/2010.12421)."
      ]
    },
    {
      "cell_type": "code",
      "execution_count": null,
      "id": "d5e4df86-f355-4aa6-9b7d-9fe05dd9d903",
      "metadata": {
        "id": "d5e4df86-f355-4aa6-9b7d-9fe05dd9d903"
      },
      "outputs": [],
      "source": [
        "recall_per_class = recall_score(test_labels, final_result, average=None)\n",
        "macro_average_recall = sum(recall_per_class) / len(recall_per_class)\n",
        "\n",
        "print(\"Recall for each class:\", recall_per_class)\n",
        "print(\"Macro-averaged recall:\", macro_average_recall)"
      ]
    },
    {
      "cell_type": "code",
      "execution_count": null,
      "id": "bf55a0f1-fdfd-4c5e-9a18-67c589f2c470",
      "metadata": {
        "id": "bf55a0f1-fdfd-4c5e-9a18-67c589f2c470"
      },
      "outputs": [],
      "source": [
        "# model.save('71_recall_test.keras')"
      ]
    }
  ],
  "metadata": {
    "kernelspec": {
      "display_name": "Python 3 (ipykernel)",
      "language": "python",
      "name": "python3"
    },
    "language_info": {
      "codemirror_mode": {
        "name": "ipython",
        "version": 3
      },
      "file_extension": ".py",
      "mimetype": "text/x-python",
      "name": "python",
      "nbconvert_exporter": "python",
      "pygments_lexer": "ipython3",
      "version": "3.11.9"
    },
    "colab": {
      "provenance": []
    },
    "widgets": {
      "application/vnd.jupyter.widget-state+json": {
        "73e72a476fe94a439a70a3c79666c223": {
          "model_module": "@jupyter-widgets/controls",
          "model_name": "HBoxModel",
          "model_module_version": "1.5.0",
          "state": {
            "_dom_classes": [],
            "_model_module": "@jupyter-widgets/controls",
            "_model_module_version": "1.5.0",
            "_model_name": "HBoxModel",
            "_view_count": null,
            "_view_module": "@jupyter-widgets/controls",
            "_view_module_version": "1.5.0",
            "_view_name": "HBoxView",
            "box_style": "",
            "children": [
              "IPY_MODEL_068651ab9d00436bbc53c5eab47b8c88",
              "IPY_MODEL_f6ab6c5be1f2415a80dcddeb727f989f",
              "IPY_MODEL_b220c07a54ee4816ba3bde3cf83e2268"
            ],
            "layout": "IPY_MODEL_d76c6f6770a545268cbe5864b055be8d"
          }
        },
        "068651ab9d00436bbc53c5eab47b8c88": {
          "model_module": "@jupyter-widgets/controls",
          "model_name": "HTMLModel",
          "model_module_version": "1.5.0",
          "state": {
            "_dom_classes": [],
            "_model_module": "@jupyter-widgets/controls",
            "_model_module_version": "1.5.0",
            "_model_name": "HTMLModel",
            "_view_count": null,
            "_view_module": "@jupyter-widgets/controls",
            "_view_module_version": "1.5.0",
            "_view_name": "HTMLView",
            "description": "",
            "description_tooltip": null,
            "layout": "IPY_MODEL_8d151c89d7a54855aea79dd396b24634",
            "placeholder": "​",
            "style": "IPY_MODEL_741a032344514f9a9e3f0746ae96a9df",
            "value": "config.json: 100%"
          }
        },
        "f6ab6c5be1f2415a80dcddeb727f989f": {
          "model_module": "@jupyter-widgets/controls",
          "model_name": "FloatProgressModel",
          "model_module_version": "1.5.0",
          "state": {
            "_dom_classes": [],
            "_model_module": "@jupyter-widgets/controls",
            "_model_module_version": "1.5.0",
            "_model_name": "FloatProgressModel",
            "_view_count": null,
            "_view_module": "@jupyter-widgets/controls",
            "_view_module_version": "1.5.0",
            "_view_name": "ProgressView",
            "bar_style": "success",
            "description": "",
            "description_tooltip": null,
            "layout": "IPY_MODEL_bf1e2ea57086404890d35e47fb37a22e",
            "max": 570,
            "min": 0,
            "orientation": "horizontal",
            "style": "IPY_MODEL_28bdfc8fa9e54cc4a68681c15fd3ffbb",
            "value": 570
          }
        },
        "b220c07a54ee4816ba3bde3cf83e2268": {
          "model_module": "@jupyter-widgets/controls",
          "model_name": "HTMLModel",
          "model_module_version": "1.5.0",
          "state": {
            "_dom_classes": [],
            "_model_module": "@jupyter-widgets/controls",
            "_model_module_version": "1.5.0",
            "_model_name": "HTMLModel",
            "_view_count": null,
            "_view_module": "@jupyter-widgets/controls",
            "_view_module_version": "1.5.0",
            "_view_name": "HTMLView",
            "description": "",
            "description_tooltip": null,
            "layout": "IPY_MODEL_54994a14638f45d8a81b1f12e75db34f",
            "placeholder": "​",
            "style": "IPY_MODEL_a3c4b92f25174db9b65b55b1659b6162",
            "value": " 570/570 [00:00&lt;00:00, 26.6kB/s]"
          }
        },
        "d76c6f6770a545268cbe5864b055be8d": {
          "model_module": "@jupyter-widgets/base",
          "model_name": "LayoutModel",
          "model_module_version": "1.2.0",
          "state": {
            "_model_module": "@jupyter-widgets/base",
            "_model_module_version": "1.2.0",
            "_model_name": "LayoutModel",
            "_view_count": null,
            "_view_module": "@jupyter-widgets/base",
            "_view_module_version": "1.2.0",
            "_view_name": "LayoutView",
            "align_content": null,
            "align_items": null,
            "align_self": null,
            "border": null,
            "bottom": null,
            "display": null,
            "flex": null,
            "flex_flow": null,
            "grid_area": null,
            "grid_auto_columns": null,
            "grid_auto_flow": null,
            "grid_auto_rows": null,
            "grid_column": null,
            "grid_gap": null,
            "grid_row": null,
            "grid_template_areas": null,
            "grid_template_columns": null,
            "grid_template_rows": null,
            "height": null,
            "justify_content": null,
            "justify_items": null,
            "left": null,
            "margin": null,
            "max_height": null,
            "max_width": null,
            "min_height": null,
            "min_width": null,
            "object_fit": null,
            "object_position": null,
            "order": null,
            "overflow": null,
            "overflow_x": null,
            "overflow_y": null,
            "padding": null,
            "right": null,
            "top": null,
            "visibility": null,
            "width": null
          }
        },
        "8d151c89d7a54855aea79dd396b24634": {
          "model_module": "@jupyter-widgets/base",
          "model_name": "LayoutModel",
          "model_module_version": "1.2.0",
          "state": {
            "_model_module": "@jupyter-widgets/base",
            "_model_module_version": "1.2.0",
            "_model_name": "LayoutModel",
            "_view_count": null,
            "_view_module": "@jupyter-widgets/base",
            "_view_module_version": "1.2.0",
            "_view_name": "LayoutView",
            "align_content": null,
            "align_items": null,
            "align_self": null,
            "border": null,
            "bottom": null,
            "display": null,
            "flex": null,
            "flex_flow": null,
            "grid_area": null,
            "grid_auto_columns": null,
            "grid_auto_flow": null,
            "grid_auto_rows": null,
            "grid_column": null,
            "grid_gap": null,
            "grid_row": null,
            "grid_template_areas": null,
            "grid_template_columns": null,
            "grid_template_rows": null,
            "height": null,
            "justify_content": null,
            "justify_items": null,
            "left": null,
            "margin": null,
            "max_height": null,
            "max_width": null,
            "min_height": null,
            "min_width": null,
            "object_fit": null,
            "object_position": null,
            "order": null,
            "overflow": null,
            "overflow_x": null,
            "overflow_y": null,
            "padding": null,
            "right": null,
            "top": null,
            "visibility": null,
            "width": null
          }
        },
        "741a032344514f9a9e3f0746ae96a9df": {
          "model_module": "@jupyter-widgets/controls",
          "model_name": "DescriptionStyleModel",
          "model_module_version": "1.5.0",
          "state": {
            "_model_module": "@jupyter-widgets/controls",
            "_model_module_version": "1.5.0",
            "_model_name": "DescriptionStyleModel",
            "_view_count": null,
            "_view_module": "@jupyter-widgets/base",
            "_view_module_version": "1.2.0",
            "_view_name": "StyleView",
            "description_width": ""
          }
        },
        "bf1e2ea57086404890d35e47fb37a22e": {
          "model_module": "@jupyter-widgets/base",
          "model_name": "LayoutModel",
          "model_module_version": "1.2.0",
          "state": {
            "_model_module": "@jupyter-widgets/base",
            "_model_module_version": "1.2.0",
            "_model_name": "LayoutModel",
            "_view_count": null,
            "_view_module": "@jupyter-widgets/base",
            "_view_module_version": "1.2.0",
            "_view_name": "LayoutView",
            "align_content": null,
            "align_items": null,
            "align_self": null,
            "border": null,
            "bottom": null,
            "display": null,
            "flex": null,
            "flex_flow": null,
            "grid_area": null,
            "grid_auto_columns": null,
            "grid_auto_flow": null,
            "grid_auto_rows": null,
            "grid_column": null,
            "grid_gap": null,
            "grid_row": null,
            "grid_template_areas": null,
            "grid_template_columns": null,
            "grid_template_rows": null,
            "height": null,
            "justify_content": null,
            "justify_items": null,
            "left": null,
            "margin": null,
            "max_height": null,
            "max_width": null,
            "min_height": null,
            "min_width": null,
            "object_fit": null,
            "object_position": null,
            "order": null,
            "overflow": null,
            "overflow_x": null,
            "overflow_y": null,
            "padding": null,
            "right": null,
            "top": null,
            "visibility": null,
            "width": null
          }
        },
        "28bdfc8fa9e54cc4a68681c15fd3ffbb": {
          "model_module": "@jupyter-widgets/controls",
          "model_name": "ProgressStyleModel",
          "model_module_version": "1.5.0",
          "state": {
            "_model_module": "@jupyter-widgets/controls",
            "_model_module_version": "1.5.0",
            "_model_name": "ProgressStyleModel",
            "_view_count": null,
            "_view_module": "@jupyter-widgets/base",
            "_view_module_version": "1.2.0",
            "_view_name": "StyleView",
            "bar_color": null,
            "description_width": ""
          }
        },
        "54994a14638f45d8a81b1f12e75db34f": {
          "model_module": "@jupyter-widgets/base",
          "model_name": "LayoutModel",
          "model_module_version": "1.2.0",
          "state": {
            "_model_module": "@jupyter-widgets/base",
            "_model_module_version": "1.2.0",
            "_model_name": "LayoutModel",
            "_view_count": null,
            "_view_module": "@jupyter-widgets/base",
            "_view_module_version": "1.2.0",
            "_view_name": "LayoutView",
            "align_content": null,
            "align_items": null,
            "align_self": null,
            "border": null,
            "bottom": null,
            "display": null,
            "flex": null,
            "flex_flow": null,
            "grid_area": null,
            "grid_auto_columns": null,
            "grid_auto_flow": null,
            "grid_auto_rows": null,
            "grid_column": null,
            "grid_gap": null,
            "grid_row": null,
            "grid_template_areas": null,
            "grid_template_columns": null,
            "grid_template_rows": null,
            "height": null,
            "justify_content": null,
            "justify_items": null,
            "left": null,
            "margin": null,
            "max_height": null,
            "max_width": null,
            "min_height": null,
            "min_width": null,
            "object_fit": null,
            "object_position": null,
            "order": null,
            "overflow": null,
            "overflow_x": null,
            "overflow_y": null,
            "padding": null,
            "right": null,
            "top": null,
            "visibility": null,
            "width": null
          }
        },
        "a3c4b92f25174db9b65b55b1659b6162": {
          "model_module": "@jupyter-widgets/controls",
          "model_name": "DescriptionStyleModel",
          "model_module_version": "1.5.0",
          "state": {
            "_model_module": "@jupyter-widgets/controls",
            "_model_module_version": "1.5.0",
            "_model_name": "DescriptionStyleModel",
            "_view_count": null,
            "_view_module": "@jupyter-widgets/base",
            "_view_module_version": "1.2.0",
            "_view_name": "StyleView",
            "description_width": ""
          }
        },
        "bd722629276c4f3aafd1ad290590d811": {
          "model_module": "@jupyter-widgets/controls",
          "model_name": "HBoxModel",
          "model_module_version": "1.5.0",
          "state": {
            "_dom_classes": [],
            "_model_module": "@jupyter-widgets/controls",
            "_model_module_version": "1.5.0",
            "_model_name": "HBoxModel",
            "_view_count": null,
            "_view_module": "@jupyter-widgets/controls",
            "_view_module_version": "1.5.0",
            "_view_name": "HBoxView",
            "box_style": "",
            "children": [
              "IPY_MODEL_8c3034b52ac94350ae36a37a30c5aac6",
              "IPY_MODEL_cf27716ff2664fca9679818f7104d626",
              "IPY_MODEL_5717a4ef0ed0467590aad6f3f8557ba7"
            ],
            "layout": "IPY_MODEL_0ca5d9ecf8b2402bbcff50ec4588fa5e"
          }
        },
        "8c3034b52ac94350ae36a37a30c5aac6": {
          "model_module": "@jupyter-widgets/controls",
          "model_name": "HTMLModel",
          "model_module_version": "1.5.0",
          "state": {
            "_dom_classes": [],
            "_model_module": "@jupyter-widgets/controls",
            "_model_module_version": "1.5.0",
            "_model_name": "HTMLModel",
            "_view_count": null,
            "_view_module": "@jupyter-widgets/controls",
            "_view_module_version": "1.5.0",
            "_view_name": "HTMLView",
            "description": "",
            "description_tooltip": null,
            "layout": "IPY_MODEL_6ccea97438c94c27b52ffb06df7d3517",
            "placeholder": "​",
            "style": "IPY_MODEL_0fe681d6f01a4691ac485328e99aab41",
            "value": "tokenizer_config.json: 100%"
          }
        },
        "cf27716ff2664fca9679818f7104d626": {
          "model_module": "@jupyter-widgets/controls",
          "model_name": "FloatProgressModel",
          "model_module_version": "1.5.0",
          "state": {
            "_dom_classes": [],
            "_model_module": "@jupyter-widgets/controls",
            "_model_module_version": "1.5.0",
            "_model_name": "FloatProgressModel",
            "_view_count": null,
            "_view_module": "@jupyter-widgets/controls",
            "_view_module_version": "1.5.0",
            "_view_name": "ProgressView",
            "bar_style": "success",
            "description": "",
            "description_tooltip": null,
            "layout": "IPY_MODEL_29c8a75d402d4f8aa2828a1e9aae2b7d",
            "max": 48,
            "min": 0,
            "orientation": "horizontal",
            "style": "IPY_MODEL_0a2e87da8d0b470c9b8809d640a444cd",
            "value": 48
          }
        },
        "5717a4ef0ed0467590aad6f3f8557ba7": {
          "model_module": "@jupyter-widgets/controls",
          "model_name": "HTMLModel",
          "model_module_version": "1.5.0",
          "state": {
            "_dom_classes": [],
            "_model_module": "@jupyter-widgets/controls",
            "_model_module_version": "1.5.0",
            "_model_name": "HTMLModel",
            "_view_count": null,
            "_view_module": "@jupyter-widgets/controls",
            "_view_module_version": "1.5.0",
            "_view_name": "HTMLView",
            "description": "",
            "description_tooltip": null,
            "layout": "IPY_MODEL_a9442e9f099940ecb9bc463dcfe95835",
            "placeholder": "​",
            "style": "IPY_MODEL_c535c6c1d301447488ca0f77d628b9c3",
            "value": " 48.0/48.0 [00:00&lt;00:00, 2.69kB/s]"
          }
        },
        "0ca5d9ecf8b2402bbcff50ec4588fa5e": {
          "model_module": "@jupyter-widgets/base",
          "model_name": "LayoutModel",
          "model_module_version": "1.2.0",
          "state": {
            "_model_module": "@jupyter-widgets/base",
            "_model_module_version": "1.2.0",
            "_model_name": "LayoutModel",
            "_view_count": null,
            "_view_module": "@jupyter-widgets/base",
            "_view_module_version": "1.2.0",
            "_view_name": "LayoutView",
            "align_content": null,
            "align_items": null,
            "align_self": null,
            "border": null,
            "bottom": null,
            "display": null,
            "flex": null,
            "flex_flow": null,
            "grid_area": null,
            "grid_auto_columns": null,
            "grid_auto_flow": null,
            "grid_auto_rows": null,
            "grid_column": null,
            "grid_gap": null,
            "grid_row": null,
            "grid_template_areas": null,
            "grid_template_columns": null,
            "grid_template_rows": null,
            "height": null,
            "justify_content": null,
            "justify_items": null,
            "left": null,
            "margin": null,
            "max_height": null,
            "max_width": null,
            "min_height": null,
            "min_width": null,
            "object_fit": null,
            "object_position": null,
            "order": null,
            "overflow": null,
            "overflow_x": null,
            "overflow_y": null,
            "padding": null,
            "right": null,
            "top": null,
            "visibility": null,
            "width": null
          }
        },
        "6ccea97438c94c27b52ffb06df7d3517": {
          "model_module": "@jupyter-widgets/base",
          "model_name": "LayoutModel",
          "model_module_version": "1.2.0",
          "state": {
            "_model_module": "@jupyter-widgets/base",
            "_model_module_version": "1.2.0",
            "_model_name": "LayoutModel",
            "_view_count": null,
            "_view_module": "@jupyter-widgets/base",
            "_view_module_version": "1.2.0",
            "_view_name": "LayoutView",
            "align_content": null,
            "align_items": null,
            "align_self": null,
            "border": null,
            "bottom": null,
            "display": null,
            "flex": null,
            "flex_flow": null,
            "grid_area": null,
            "grid_auto_columns": null,
            "grid_auto_flow": null,
            "grid_auto_rows": null,
            "grid_column": null,
            "grid_gap": null,
            "grid_row": null,
            "grid_template_areas": null,
            "grid_template_columns": null,
            "grid_template_rows": null,
            "height": null,
            "justify_content": null,
            "justify_items": null,
            "left": null,
            "margin": null,
            "max_height": null,
            "max_width": null,
            "min_height": null,
            "min_width": null,
            "object_fit": null,
            "object_position": null,
            "order": null,
            "overflow": null,
            "overflow_x": null,
            "overflow_y": null,
            "padding": null,
            "right": null,
            "top": null,
            "visibility": null,
            "width": null
          }
        },
        "0fe681d6f01a4691ac485328e99aab41": {
          "model_module": "@jupyter-widgets/controls",
          "model_name": "DescriptionStyleModel",
          "model_module_version": "1.5.0",
          "state": {
            "_model_module": "@jupyter-widgets/controls",
            "_model_module_version": "1.5.0",
            "_model_name": "DescriptionStyleModel",
            "_view_count": null,
            "_view_module": "@jupyter-widgets/base",
            "_view_module_version": "1.2.0",
            "_view_name": "StyleView",
            "description_width": ""
          }
        },
        "29c8a75d402d4f8aa2828a1e9aae2b7d": {
          "model_module": "@jupyter-widgets/base",
          "model_name": "LayoutModel",
          "model_module_version": "1.2.0",
          "state": {
            "_model_module": "@jupyter-widgets/base",
            "_model_module_version": "1.2.0",
            "_model_name": "LayoutModel",
            "_view_count": null,
            "_view_module": "@jupyter-widgets/base",
            "_view_module_version": "1.2.0",
            "_view_name": "LayoutView",
            "align_content": null,
            "align_items": null,
            "align_self": null,
            "border": null,
            "bottom": null,
            "display": null,
            "flex": null,
            "flex_flow": null,
            "grid_area": null,
            "grid_auto_columns": null,
            "grid_auto_flow": null,
            "grid_auto_rows": null,
            "grid_column": null,
            "grid_gap": null,
            "grid_row": null,
            "grid_template_areas": null,
            "grid_template_columns": null,
            "grid_template_rows": null,
            "height": null,
            "justify_content": null,
            "justify_items": null,
            "left": null,
            "margin": null,
            "max_height": null,
            "max_width": null,
            "min_height": null,
            "min_width": null,
            "object_fit": null,
            "object_position": null,
            "order": null,
            "overflow": null,
            "overflow_x": null,
            "overflow_y": null,
            "padding": null,
            "right": null,
            "top": null,
            "visibility": null,
            "width": null
          }
        },
        "0a2e87da8d0b470c9b8809d640a444cd": {
          "model_module": "@jupyter-widgets/controls",
          "model_name": "ProgressStyleModel",
          "model_module_version": "1.5.0",
          "state": {
            "_model_module": "@jupyter-widgets/controls",
            "_model_module_version": "1.5.0",
            "_model_name": "ProgressStyleModel",
            "_view_count": null,
            "_view_module": "@jupyter-widgets/base",
            "_view_module_version": "1.2.0",
            "_view_name": "StyleView",
            "bar_color": null,
            "description_width": ""
          }
        },
        "a9442e9f099940ecb9bc463dcfe95835": {
          "model_module": "@jupyter-widgets/base",
          "model_name": "LayoutModel",
          "model_module_version": "1.2.0",
          "state": {
            "_model_module": "@jupyter-widgets/base",
            "_model_module_version": "1.2.0",
            "_model_name": "LayoutModel",
            "_view_count": null,
            "_view_module": "@jupyter-widgets/base",
            "_view_module_version": "1.2.0",
            "_view_name": "LayoutView",
            "align_content": null,
            "align_items": null,
            "align_self": null,
            "border": null,
            "bottom": null,
            "display": null,
            "flex": null,
            "flex_flow": null,
            "grid_area": null,
            "grid_auto_columns": null,
            "grid_auto_flow": null,
            "grid_auto_rows": null,
            "grid_column": null,
            "grid_gap": null,
            "grid_row": null,
            "grid_template_areas": null,
            "grid_template_columns": null,
            "grid_template_rows": null,
            "height": null,
            "justify_content": null,
            "justify_items": null,
            "left": null,
            "margin": null,
            "max_height": null,
            "max_width": null,
            "min_height": null,
            "min_width": null,
            "object_fit": null,
            "object_position": null,
            "order": null,
            "overflow": null,
            "overflow_x": null,
            "overflow_y": null,
            "padding": null,
            "right": null,
            "top": null,
            "visibility": null,
            "width": null
          }
        },
        "c535c6c1d301447488ca0f77d628b9c3": {
          "model_module": "@jupyter-widgets/controls",
          "model_name": "DescriptionStyleModel",
          "model_module_version": "1.5.0",
          "state": {
            "_model_module": "@jupyter-widgets/controls",
            "_model_module_version": "1.5.0",
            "_model_name": "DescriptionStyleModel",
            "_view_count": null,
            "_view_module": "@jupyter-widgets/base",
            "_view_module_version": "1.2.0",
            "_view_name": "StyleView",
            "description_width": ""
          }
        },
        "97d110ae8345469cb6bcca4dca0a0e6f": {
          "model_module": "@jupyter-widgets/controls",
          "model_name": "HBoxModel",
          "model_module_version": "1.5.0",
          "state": {
            "_dom_classes": [],
            "_model_module": "@jupyter-widgets/controls",
            "_model_module_version": "1.5.0",
            "_model_name": "HBoxModel",
            "_view_count": null,
            "_view_module": "@jupyter-widgets/controls",
            "_view_module_version": "1.5.0",
            "_view_name": "HBoxView",
            "box_style": "",
            "children": [
              "IPY_MODEL_86b171f979df4acea49248352c2feca4",
              "IPY_MODEL_59f1f56460bd46748c7123ae7a7261e4",
              "IPY_MODEL_0f3238ac536049afbd68abbaad8ffdaa"
            ],
            "layout": "IPY_MODEL_2e31ddee062f4079b032288ecc7a64f5"
          }
        },
        "86b171f979df4acea49248352c2feca4": {
          "model_module": "@jupyter-widgets/controls",
          "model_name": "HTMLModel",
          "model_module_version": "1.5.0",
          "state": {
            "_dom_classes": [],
            "_model_module": "@jupyter-widgets/controls",
            "_model_module_version": "1.5.0",
            "_model_name": "HTMLModel",
            "_view_count": null,
            "_view_module": "@jupyter-widgets/controls",
            "_view_module_version": "1.5.0",
            "_view_name": "HTMLView",
            "description": "",
            "description_tooltip": null,
            "layout": "IPY_MODEL_f3befd19451d46e69522b6bf685b3ac0",
            "placeholder": "​",
            "style": "IPY_MODEL_76a909d07c914b1db3947fde1c11d56a",
            "value": "vocab.txt: 100%"
          }
        },
        "59f1f56460bd46748c7123ae7a7261e4": {
          "model_module": "@jupyter-widgets/controls",
          "model_name": "FloatProgressModel",
          "model_module_version": "1.5.0",
          "state": {
            "_dom_classes": [],
            "_model_module": "@jupyter-widgets/controls",
            "_model_module_version": "1.5.0",
            "_model_name": "FloatProgressModel",
            "_view_count": null,
            "_view_module": "@jupyter-widgets/controls",
            "_view_module_version": "1.5.0",
            "_view_name": "ProgressView",
            "bar_style": "success",
            "description": "",
            "description_tooltip": null,
            "layout": "IPY_MODEL_852903143cdc49dca1266ff09b531181",
            "max": 231508,
            "min": 0,
            "orientation": "horizontal",
            "style": "IPY_MODEL_902a934cc97944fca686883c5e0d05d1",
            "value": 231508
          }
        },
        "0f3238ac536049afbd68abbaad8ffdaa": {
          "model_module": "@jupyter-widgets/controls",
          "model_name": "HTMLModel",
          "model_module_version": "1.5.0",
          "state": {
            "_dom_classes": [],
            "_model_module": "@jupyter-widgets/controls",
            "_model_module_version": "1.5.0",
            "_model_name": "HTMLModel",
            "_view_count": null,
            "_view_module": "@jupyter-widgets/controls",
            "_view_module_version": "1.5.0",
            "_view_name": "HTMLView",
            "description": "",
            "description_tooltip": null,
            "layout": "IPY_MODEL_b74c4a4e23624545ab4c8dc8033cbe51",
            "placeholder": "​",
            "style": "IPY_MODEL_ced2442d306c4ab6bcd0537ad6de6969",
            "value": " 232k/232k [00:00&lt;00:00, 5.10MB/s]"
          }
        },
        "2e31ddee062f4079b032288ecc7a64f5": {
          "model_module": "@jupyter-widgets/base",
          "model_name": "LayoutModel",
          "model_module_version": "1.2.0",
          "state": {
            "_model_module": "@jupyter-widgets/base",
            "_model_module_version": "1.2.0",
            "_model_name": "LayoutModel",
            "_view_count": null,
            "_view_module": "@jupyter-widgets/base",
            "_view_module_version": "1.2.0",
            "_view_name": "LayoutView",
            "align_content": null,
            "align_items": null,
            "align_self": null,
            "border": null,
            "bottom": null,
            "display": null,
            "flex": null,
            "flex_flow": null,
            "grid_area": null,
            "grid_auto_columns": null,
            "grid_auto_flow": null,
            "grid_auto_rows": null,
            "grid_column": null,
            "grid_gap": null,
            "grid_row": null,
            "grid_template_areas": null,
            "grid_template_columns": null,
            "grid_template_rows": null,
            "height": null,
            "justify_content": null,
            "justify_items": null,
            "left": null,
            "margin": null,
            "max_height": null,
            "max_width": null,
            "min_height": null,
            "min_width": null,
            "object_fit": null,
            "object_position": null,
            "order": null,
            "overflow": null,
            "overflow_x": null,
            "overflow_y": null,
            "padding": null,
            "right": null,
            "top": null,
            "visibility": null,
            "width": null
          }
        },
        "f3befd19451d46e69522b6bf685b3ac0": {
          "model_module": "@jupyter-widgets/base",
          "model_name": "LayoutModel",
          "model_module_version": "1.2.0",
          "state": {
            "_model_module": "@jupyter-widgets/base",
            "_model_module_version": "1.2.0",
            "_model_name": "LayoutModel",
            "_view_count": null,
            "_view_module": "@jupyter-widgets/base",
            "_view_module_version": "1.2.0",
            "_view_name": "LayoutView",
            "align_content": null,
            "align_items": null,
            "align_self": null,
            "border": null,
            "bottom": null,
            "display": null,
            "flex": null,
            "flex_flow": null,
            "grid_area": null,
            "grid_auto_columns": null,
            "grid_auto_flow": null,
            "grid_auto_rows": null,
            "grid_column": null,
            "grid_gap": null,
            "grid_row": null,
            "grid_template_areas": null,
            "grid_template_columns": null,
            "grid_template_rows": null,
            "height": null,
            "justify_content": null,
            "justify_items": null,
            "left": null,
            "margin": null,
            "max_height": null,
            "max_width": null,
            "min_height": null,
            "min_width": null,
            "object_fit": null,
            "object_position": null,
            "order": null,
            "overflow": null,
            "overflow_x": null,
            "overflow_y": null,
            "padding": null,
            "right": null,
            "top": null,
            "visibility": null,
            "width": null
          }
        },
        "76a909d07c914b1db3947fde1c11d56a": {
          "model_module": "@jupyter-widgets/controls",
          "model_name": "DescriptionStyleModel",
          "model_module_version": "1.5.0",
          "state": {
            "_model_module": "@jupyter-widgets/controls",
            "_model_module_version": "1.5.0",
            "_model_name": "DescriptionStyleModel",
            "_view_count": null,
            "_view_module": "@jupyter-widgets/base",
            "_view_module_version": "1.2.0",
            "_view_name": "StyleView",
            "description_width": ""
          }
        },
        "852903143cdc49dca1266ff09b531181": {
          "model_module": "@jupyter-widgets/base",
          "model_name": "LayoutModel",
          "model_module_version": "1.2.0",
          "state": {
            "_model_module": "@jupyter-widgets/base",
            "_model_module_version": "1.2.0",
            "_model_name": "LayoutModel",
            "_view_count": null,
            "_view_module": "@jupyter-widgets/base",
            "_view_module_version": "1.2.0",
            "_view_name": "LayoutView",
            "align_content": null,
            "align_items": null,
            "align_self": null,
            "border": null,
            "bottom": null,
            "display": null,
            "flex": null,
            "flex_flow": null,
            "grid_area": null,
            "grid_auto_columns": null,
            "grid_auto_flow": null,
            "grid_auto_rows": null,
            "grid_column": null,
            "grid_gap": null,
            "grid_row": null,
            "grid_template_areas": null,
            "grid_template_columns": null,
            "grid_template_rows": null,
            "height": null,
            "justify_content": null,
            "justify_items": null,
            "left": null,
            "margin": null,
            "max_height": null,
            "max_width": null,
            "min_height": null,
            "min_width": null,
            "object_fit": null,
            "object_position": null,
            "order": null,
            "overflow": null,
            "overflow_x": null,
            "overflow_y": null,
            "padding": null,
            "right": null,
            "top": null,
            "visibility": null,
            "width": null
          }
        },
        "902a934cc97944fca686883c5e0d05d1": {
          "model_module": "@jupyter-widgets/controls",
          "model_name": "ProgressStyleModel",
          "model_module_version": "1.5.0",
          "state": {
            "_model_module": "@jupyter-widgets/controls",
            "_model_module_version": "1.5.0",
            "_model_name": "ProgressStyleModel",
            "_view_count": null,
            "_view_module": "@jupyter-widgets/base",
            "_view_module_version": "1.2.0",
            "_view_name": "StyleView",
            "bar_color": null,
            "description_width": ""
          }
        },
        "b74c4a4e23624545ab4c8dc8033cbe51": {
          "model_module": "@jupyter-widgets/base",
          "model_name": "LayoutModel",
          "model_module_version": "1.2.0",
          "state": {
            "_model_module": "@jupyter-widgets/base",
            "_model_module_version": "1.2.0",
            "_model_name": "LayoutModel",
            "_view_count": null,
            "_view_module": "@jupyter-widgets/base",
            "_view_module_version": "1.2.0",
            "_view_name": "LayoutView",
            "align_content": null,
            "align_items": null,
            "align_self": null,
            "border": null,
            "bottom": null,
            "display": null,
            "flex": null,
            "flex_flow": null,
            "grid_area": null,
            "grid_auto_columns": null,
            "grid_auto_flow": null,
            "grid_auto_rows": null,
            "grid_column": null,
            "grid_gap": null,
            "grid_row": null,
            "grid_template_areas": null,
            "grid_template_columns": null,
            "grid_template_rows": null,
            "height": null,
            "justify_content": null,
            "justify_items": null,
            "left": null,
            "margin": null,
            "max_height": null,
            "max_width": null,
            "min_height": null,
            "min_width": null,
            "object_fit": null,
            "object_position": null,
            "order": null,
            "overflow": null,
            "overflow_x": null,
            "overflow_y": null,
            "padding": null,
            "right": null,
            "top": null,
            "visibility": null,
            "width": null
          }
        },
        "ced2442d306c4ab6bcd0537ad6de6969": {
          "model_module": "@jupyter-widgets/controls",
          "model_name": "DescriptionStyleModel",
          "model_module_version": "1.5.0",
          "state": {
            "_model_module": "@jupyter-widgets/controls",
            "_model_module_version": "1.5.0",
            "_model_name": "DescriptionStyleModel",
            "_view_count": null,
            "_view_module": "@jupyter-widgets/base",
            "_view_module_version": "1.2.0",
            "_view_name": "StyleView",
            "description_width": ""
          }
        },
        "5ba036ba02ff46b59a77b1fec64214ef": {
          "model_module": "@jupyter-widgets/controls",
          "model_name": "HBoxModel",
          "model_module_version": "1.5.0",
          "state": {
            "_dom_classes": [],
            "_model_module": "@jupyter-widgets/controls",
            "_model_module_version": "1.5.0",
            "_model_name": "HBoxModel",
            "_view_count": null,
            "_view_module": "@jupyter-widgets/controls",
            "_view_module_version": "1.5.0",
            "_view_name": "HBoxView",
            "box_style": "",
            "children": [
              "IPY_MODEL_88fe3caf74274604bd2767221ec24713",
              "IPY_MODEL_108bf4598688418e8526a820ceda4367",
              "IPY_MODEL_281cbb53287c4b55bd832e9c47cfe935"
            ],
            "layout": "IPY_MODEL_53aa8af031ed42649c1944d03176e2e2"
          }
        },
        "88fe3caf74274604bd2767221ec24713": {
          "model_module": "@jupyter-widgets/controls",
          "model_name": "HTMLModel",
          "model_module_version": "1.5.0",
          "state": {
            "_dom_classes": [],
            "_model_module": "@jupyter-widgets/controls",
            "_model_module_version": "1.5.0",
            "_model_name": "HTMLModel",
            "_view_count": null,
            "_view_module": "@jupyter-widgets/controls",
            "_view_module_version": "1.5.0",
            "_view_name": "HTMLView",
            "description": "",
            "description_tooltip": null,
            "layout": "IPY_MODEL_39568a81483643b493c5514e23b2fad1",
            "placeholder": "​",
            "style": "IPY_MODEL_ee11f9c007c345bdba6881d7cdc2a905",
            "value": "tokenizer.json: 100%"
          }
        },
        "108bf4598688418e8526a820ceda4367": {
          "model_module": "@jupyter-widgets/controls",
          "model_name": "FloatProgressModel",
          "model_module_version": "1.5.0",
          "state": {
            "_dom_classes": [],
            "_model_module": "@jupyter-widgets/controls",
            "_model_module_version": "1.5.0",
            "_model_name": "FloatProgressModel",
            "_view_count": null,
            "_view_module": "@jupyter-widgets/controls",
            "_view_module_version": "1.5.0",
            "_view_name": "ProgressView",
            "bar_style": "success",
            "description": "",
            "description_tooltip": null,
            "layout": "IPY_MODEL_d719a8a74f37457c90238a7302d186a2",
            "max": 466062,
            "min": 0,
            "orientation": "horizontal",
            "style": "IPY_MODEL_31d7abb1bb1d45989b555664822d6f61",
            "value": 466062
          }
        },
        "281cbb53287c4b55bd832e9c47cfe935": {
          "model_module": "@jupyter-widgets/controls",
          "model_name": "HTMLModel",
          "model_module_version": "1.5.0",
          "state": {
            "_dom_classes": [],
            "_model_module": "@jupyter-widgets/controls",
            "_model_module_version": "1.5.0",
            "_model_name": "HTMLModel",
            "_view_count": null,
            "_view_module": "@jupyter-widgets/controls",
            "_view_module_version": "1.5.0",
            "_view_name": "HTMLView",
            "description": "",
            "description_tooltip": null,
            "layout": "IPY_MODEL_cabb33d60a404461b3f376d585dd94d9",
            "placeholder": "​",
            "style": "IPY_MODEL_1d26f31a777443abb09745f674e09d85",
            "value": " 466k/466k [00:00&lt;00:00, 3.37MB/s]"
          }
        },
        "53aa8af031ed42649c1944d03176e2e2": {
          "model_module": "@jupyter-widgets/base",
          "model_name": "LayoutModel",
          "model_module_version": "1.2.0",
          "state": {
            "_model_module": "@jupyter-widgets/base",
            "_model_module_version": "1.2.0",
            "_model_name": "LayoutModel",
            "_view_count": null,
            "_view_module": "@jupyter-widgets/base",
            "_view_module_version": "1.2.0",
            "_view_name": "LayoutView",
            "align_content": null,
            "align_items": null,
            "align_self": null,
            "border": null,
            "bottom": null,
            "display": null,
            "flex": null,
            "flex_flow": null,
            "grid_area": null,
            "grid_auto_columns": null,
            "grid_auto_flow": null,
            "grid_auto_rows": null,
            "grid_column": null,
            "grid_gap": null,
            "grid_row": null,
            "grid_template_areas": null,
            "grid_template_columns": null,
            "grid_template_rows": null,
            "height": null,
            "justify_content": null,
            "justify_items": null,
            "left": null,
            "margin": null,
            "max_height": null,
            "max_width": null,
            "min_height": null,
            "min_width": null,
            "object_fit": null,
            "object_position": null,
            "order": null,
            "overflow": null,
            "overflow_x": null,
            "overflow_y": null,
            "padding": null,
            "right": null,
            "top": null,
            "visibility": null,
            "width": null
          }
        },
        "39568a81483643b493c5514e23b2fad1": {
          "model_module": "@jupyter-widgets/base",
          "model_name": "LayoutModel",
          "model_module_version": "1.2.0",
          "state": {
            "_model_module": "@jupyter-widgets/base",
            "_model_module_version": "1.2.0",
            "_model_name": "LayoutModel",
            "_view_count": null,
            "_view_module": "@jupyter-widgets/base",
            "_view_module_version": "1.2.0",
            "_view_name": "LayoutView",
            "align_content": null,
            "align_items": null,
            "align_self": null,
            "border": null,
            "bottom": null,
            "display": null,
            "flex": null,
            "flex_flow": null,
            "grid_area": null,
            "grid_auto_columns": null,
            "grid_auto_flow": null,
            "grid_auto_rows": null,
            "grid_column": null,
            "grid_gap": null,
            "grid_row": null,
            "grid_template_areas": null,
            "grid_template_columns": null,
            "grid_template_rows": null,
            "height": null,
            "justify_content": null,
            "justify_items": null,
            "left": null,
            "margin": null,
            "max_height": null,
            "max_width": null,
            "min_height": null,
            "min_width": null,
            "object_fit": null,
            "object_position": null,
            "order": null,
            "overflow": null,
            "overflow_x": null,
            "overflow_y": null,
            "padding": null,
            "right": null,
            "top": null,
            "visibility": null,
            "width": null
          }
        },
        "ee11f9c007c345bdba6881d7cdc2a905": {
          "model_module": "@jupyter-widgets/controls",
          "model_name": "DescriptionStyleModel",
          "model_module_version": "1.5.0",
          "state": {
            "_model_module": "@jupyter-widgets/controls",
            "_model_module_version": "1.5.0",
            "_model_name": "DescriptionStyleModel",
            "_view_count": null,
            "_view_module": "@jupyter-widgets/base",
            "_view_module_version": "1.2.0",
            "_view_name": "StyleView",
            "description_width": ""
          }
        },
        "d719a8a74f37457c90238a7302d186a2": {
          "model_module": "@jupyter-widgets/base",
          "model_name": "LayoutModel",
          "model_module_version": "1.2.0",
          "state": {
            "_model_module": "@jupyter-widgets/base",
            "_model_module_version": "1.2.0",
            "_model_name": "LayoutModel",
            "_view_count": null,
            "_view_module": "@jupyter-widgets/base",
            "_view_module_version": "1.2.0",
            "_view_name": "LayoutView",
            "align_content": null,
            "align_items": null,
            "align_self": null,
            "border": null,
            "bottom": null,
            "display": null,
            "flex": null,
            "flex_flow": null,
            "grid_area": null,
            "grid_auto_columns": null,
            "grid_auto_flow": null,
            "grid_auto_rows": null,
            "grid_column": null,
            "grid_gap": null,
            "grid_row": null,
            "grid_template_areas": null,
            "grid_template_columns": null,
            "grid_template_rows": null,
            "height": null,
            "justify_content": null,
            "justify_items": null,
            "left": null,
            "margin": null,
            "max_height": null,
            "max_width": null,
            "min_height": null,
            "min_width": null,
            "object_fit": null,
            "object_position": null,
            "order": null,
            "overflow": null,
            "overflow_x": null,
            "overflow_y": null,
            "padding": null,
            "right": null,
            "top": null,
            "visibility": null,
            "width": null
          }
        },
        "31d7abb1bb1d45989b555664822d6f61": {
          "model_module": "@jupyter-widgets/controls",
          "model_name": "ProgressStyleModel",
          "model_module_version": "1.5.0",
          "state": {
            "_model_module": "@jupyter-widgets/controls",
            "_model_module_version": "1.5.0",
            "_model_name": "ProgressStyleModel",
            "_view_count": null,
            "_view_module": "@jupyter-widgets/base",
            "_view_module_version": "1.2.0",
            "_view_name": "StyleView",
            "bar_color": null,
            "description_width": ""
          }
        },
        "cabb33d60a404461b3f376d585dd94d9": {
          "model_module": "@jupyter-widgets/base",
          "model_name": "LayoutModel",
          "model_module_version": "1.2.0",
          "state": {
            "_model_module": "@jupyter-widgets/base",
            "_model_module_version": "1.2.0",
            "_model_name": "LayoutModel",
            "_view_count": null,
            "_view_module": "@jupyter-widgets/base",
            "_view_module_version": "1.2.0",
            "_view_name": "LayoutView",
            "align_content": null,
            "align_items": null,
            "align_self": null,
            "border": null,
            "bottom": null,
            "display": null,
            "flex": null,
            "flex_flow": null,
            "grid_area": null,
            "grid_auto_columns": null,
            "grid_auto_flow": null,
            "grid_auto_rows": null,
            "grid_column": null,
            "grid_gap": null,
            "grid_row": null,
            "grid_template_areas": null,
            "grid_template_columns": null,
            "grid_template_rows": null,
            "height": null,
            "justify_content": null,
            "justify_items": null,
            "left": null,
            "margin": null,
            "max_height": null,
            "max_width": null,
            "min_height": null,
            "min_width": null,
            "object_fit": null,
            "object_position": null,
            "order": null,
            "overflow": null,
            "overflow_x": null,
            "overflow_y": null,
            "padding": null,
            "right": null,
            "top": null,
            "visibility": null,
            "width": null
          }
        },
        "1d26f31a777443abb09745f674e09d85": {
          "model_module": "@jupyter-widgets/controls",
          "model_name": "DescriptionStyleModel",
          "model_module_version": "1.5.0",
          "state": {
            "_model_module": "@jupyter-widgets/controls",
            "_model_module_version": "1.5.0",
            "_model_name": "DescriptionStyleModel",
            "_view_count": null,
            "_view_module": "@jupyter-widgets/base",
            "_view_module_version": "1.2.0",
            "_view_name": "StyleView",
            "description_width": ""
          }
        },
        "2425912893e34370a86aba976a093696": {
          "model_module": "@jupyter-widgets/controls",
          "model_name": "HBoxModel",
          "model_module_version": "1.5.0",
          "state": {
            "_dom_classes": [],
            "_model_module": "@jupyter-widgets/controls",
            "_model_module_version": "1.5.0",
            "_model_name": "HBoxModel",
            "_view_count": null,
            "_view_module": "@jupyter-widgets/controls",
            "_view_module_version": "1.5.0",
            "_view_name": "HBoxView",
            "box_style": "",
            "children": [
              "IPY_MODEL_96689a55dc524da29fd0f6117cc4c834",
              "IPY_MODEL_128cfda2405545a29e5f9db320128f3b",
              "IPY_MODEL_eaf7ecf71ed34266b09935a31c4d93d4"
            ],
            "layout": "IPY_MODEL_6b6e206722ee4de2bea32535f0e5b770"
          }
        },
        "96689a55dc524da29fd0f6117cc4c834": {
          "model_module": "@jupyter-widgets/controls",
          "model_name": "HTMLModel",
          "model_module_version": "1.5.0",
          "state": {
            "_dom_classes": [],
            "_model_module": "@jupyter-widgets/controls",
            "_model_module_version": "1.5.0",
            "_model_name": "HTMLModel",
            "_view_count": null,
            "_view_module": "@jupyter-widgets/controls",
            "_view_module_version": "1.5.0",
            "_view_name": "HTMLView",
            "description": "",
            "description_tooltip": null,
            "layout": "IPY_MODEL_c30e3082afad4e3aa906d7e856b2cff4",
            "placeholder": "​",
            "style": "IPY_MODEL_769fe09471b74ff5a66eb964f67129e1",
            "value": "model.safetensors: 100%"
          }
        },
        "128cfda2405545a29e5f9db320128f3b": {
          "model_module": "@jupyter-widgets/controls",
          "model_name": "FloatProgressModel",
          "model_module_version": "1.5.0",
          "state": {
            "_dom_classes": [],
            "_model_module": "@jupyter-widgets/controls",
            "_model_module_version": "1.5.0",
            "_model_name": "FloatProgressModel",
            "_view_count": null,
            "_view_module": "@jupyter-widgets/controls",
            "_view_module_version": "1.5.0",
            "_view_name": "ProgressView",
            "bar_style": "success",
            "description": "",
            "description_tooltip": null,
            "layout": "IPY_MODEL_ce76c5ca1e824119ab757b40b795948b",
            "max": 440449768,
            "min": 0,
            "orientation": "horizontal",
            "style": "IPY_MODEL_22197ce412134b1a8a6b58f86d4959c2",
            "value": 440449768
          }
        },
        "eaf7ecf71ed34266b09935a31c4d93d4": {
          "model_module": "@jupyter-widgets/controls",
          "model_name": "HTMLModel",
          "model_module_version": "1.5.0",
          "state": {
            "_dom_classes": [],
            "_model_module": "@jupyter-widgets/controls",
            "_model_module_version": "1.5.0",
            "_model_name": "HTMLModel",
            "_view_count": null,
            "_view_module": "@jupyter-widgets/controls",
            "_view_module_version": "1.5.0",
            "_view_name": "HTMLView",
            "description": "",
            "description_tooltip": null,
            "layout": "IPY_MODEL_7bbfa4e1c52042d7829a720bab7f304b",
            "placeholder": "​",
            "style": "IPY_MODEL_76b559376cd74e56b87a6e04c3b78651",
            "value": " 440M/440M [00:03&lt;00:00, 94.2MB/s]"
          }
        },
        "6b6e206722ee4de2bea32535f0e5b770": {
          "model_module": "@jupyter-widgets/base",
          "model_name": "LayoutModel",
          "model_module_version": "1.2.0",
          "state": {
            "_model_module": "@jupyter-widgets/base",
            "_model_module_version": "1.2.0",
            "_model_name": "LayoutModel",
            "_view_count": null,
            "_view_module": "@jupyter-widgets/base",
            "_view_module_version": "1.2.0",
            "_view_name": "LayoutView",
            "align_content": null,
            "align_items": null,
            "align_self": null,
            "border": null,
            "bottom": null,
            "display": null,
            "flex": null,
            "flex_flow": null,
            "grid_area": null,
            "grid_auto_columns": null,
            "grid_auto_flow": null,
            "grid_auto_rows": null,
            "grid_column": null,
            "grid_gap": null,
            "grid_row": null,
            "grid_template_areas": null,
            "grid_template_columns": null,
            "grid_template_rows": null,
            "height": null,
            "justify_content": null,
            "justify_items": null,
            "left": null,
            "margin": null,
            "max_height": null,
            "max_width": null,
            "min_height": null,
            "min_width": null,
            "object_fit": null,
            "object_position": null,
            "order": null,
            "overflow": null,
            "overflow_x": null,
            "overflow_y": null,
            "padding": null,
            "right": null,
            "top": null,
            "visibility": null,
            "width": null
          }
        },
        "c30e3082afad4e3aa906d7e856b2cff4": {
          "model_module": "@jupyter-widgets/base",
          "model_name": "LayoutModel",
          "model_module_version": "1.2.0",
          "state": {
            "_model_module": "@jupyter-widgets/base",
            "_model_module_version": "1.2.0",
            "_model_name": "LayoutModel",
            "_view_count": null,
            "_view_module": "@jupyter-widgets/base",
            "_view_module_version": "1.2.0",
            "_view_name": "LayoutView",
            "align_content": null,
            "align_items": null,
            "align_self": null,
            "border": null,
            "bottom": null,
            "display": null,
            "flex": null,
            "flex_flow": null,
            "grid_area": null,
            "grid_auto_columns": null,
            "grid_auto_flow": null,
            "grid_auto_rows": null,
            "grid_column": null,
            "grid_gap": null,
            "grid_row": null,
            "grid_template_areas": null,
            "grid_template_columns": null,
            "grid_template_rows": null,
            "height": null,
            "justify_content": null,
            "justify_items": null,
            "left": null,
            "margin": null,
            "max_height": null,
            "max_width": null,
            "min_height": null,
            "min_width": null,
            "object_fit": null,
            "object_position": null,
            "order": null,
            "overflow": null,
            "overflow_x": null,
            "overflow_y": null,
            "padding": null,
            "right": null,
            "top": null,
            "visibility": null,
            "width": null
          }
        },
        "769fe09471b74ff5a66eb964f67129e1": {
          "model_module": "@jupyter-widgets/controls",
          "model_name": "DescriptionStyleModel",
          "model_module_version": "1.5.0",
          "state": {
            "_model_module": "@jupyter-widgets/controls",
            "_model_module_version": "1.5.0",
            "_model_name": "DescriptionStyleModel",
            "_view_count": null,
            "_view_module": "@jupyter-widgets/base",
            "_view_module_version": "1.2.0",
            "_view_name": "StyleView",
            "description_width": ""
          }
        },
        "ce76c5ca1e824119ab757b40b795948b": {
          "model_module": "@jupyter-widgets/base",
          "model_name": "LayoutModel",
          "model_module_version": "1.2.0",
          "state": {
            "_model_module": "@jupyter-widgets/base",
            "_model_module_version": "1.2.0",
            "_model_name": "LayoutModel",
            "_view_count": null,
            "_view_module": "@jupyter-widgets/base",
            "_view_module_version": "1.2.0",
            "_view_name": "LayoutView",
            "align_content": null,
            "align_items": null,
            "align_self": null,
            "border": null,
            "bottom": null,
            "display": null,
            "flex": null,
            "flex_flow": null,
            "grid_area": null,
            "grid_auto_columns": null,
            "grid_auto_flow": null,
            "grid_auto_rows": null,
            "grid_column": null,
            "grid_gap": null,
            "grid_row": null,
            "grid_template_areas": null,
            "grid_template_columns": null,
            "grid_template_rows": null,
            "height": null,
            "justify_content": null,
            "justify_items": null,
            "left": null,
            "margin": null,
            "max_height": null,
            "max_width": null,
            "min_height": null,
            "min_width": null,
            "object_fit": null,
            "object_position": null,
            "order": null,
            "overflow": null,
            "overflow_x": null,
            "overflow_y": null,
            "padding": null,
            "right": null,
            "top": null,
            "visibility": null,
            "width": null
          }
        },
        "22197ce412134b1a8a6b58f86d4959c2": {
          "model_module": "@jupyter-widgets/controls",
          "model_name": "ProgressStyleModel",
          "model_module_version": "1.5.0",
          "state": {
            "_model_module": "@jupyter-widgets/controls",
            "_model_module_version": "1.5.0",
            "_model_name": "ProgressStyleModel",
            "_view_count": null,
            "_view_module": "@jupyter-widgets/base",
            "_view_module_version": "1.2.0",
            "_view_name": "StyleView",
            "bar_color": null,
            "description_width": ""
          }
        },
        "7bbfa4e1c52042d7829a720bab7f304b": {
          "model_module": "@jupyter-widgets/base",
          "model_name": "LayoutModel",
          "model_module_version": "1.2.0",
          "state": {
            "_model_module": "@jupyter-widgets/base",
            "_model_module_version": "1.2.0",
            "_model_name": "LayoutModel",
            "_view_count": null,
            "_view_module": "@jupyter-widgets/base",
            "_view_module_version": "1.2.0",
            "_view_name": "LayoutView",
            "align_content": null,
            "align_items": null,
            "align_self": null,
            "border": null,
            "bottom": null,
            "display": null,
            "flex": null,
            "flex_flow": null,
            "grid_area": null,
            "grid_auto_columns": null,
            "grid_auto_flow": null,
            "grid_auto_rows": null,
            "grid_column": null,
            "grid_gap": null,
            "grid_row": null,
            "grid_template_areas": null,
            "grid_template_columns": null,
            "grid_template_rows": null,
            "height": null,
            "justify_content": null,
            "justify_items": null,
            "left": null,
            "margin": null,
            "max_height": null,
            "max_width": null,
            "min_height": null,
            "min_width": null,
            "object_fit": null,
            "object_position": null,
            "order": null,
            "overflow": null,
            "overflow_x": null,
            "overflow_y": null,
            "padding": null,
            "right": null,
            "top": null,
            "visibility": null,
            "width": null
          }
        },
        "76b559376cd74e56b87a6e04c3b78651": {
          "model_module": "@jupyter-widgets/controls",
          "model_name": "DescriptionStyleModel",
          "model_module_version": "1.5.0",
          "state": {
            "_model_module": "@jupyter-widgets/controls",
            "_model_module_version": "1.5.0",
            "_model_name": "DescriptionStyleModel",
            "_view_count": null,
            "_view_module": "@jupyter-widgets/base",
            "_view_module_version": "1.2.0",
            "_view_name": "StyleView",
            "description_width": ""
          }
        }
      }
    }
  },
  "nbformat": 4,
  "nbformat_minor": 5
}