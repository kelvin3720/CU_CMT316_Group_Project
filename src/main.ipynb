{
 "cells": [
  {
   "cell_type": "markdown",
   "id": "28d182dc",
   "metadata": {},
   "source": [
    "### Imports"
   ]
  },
  {
   "cell_type": "code",
   "execution_count": 1,
   "id": "5fb147de",
   "metadata": {},
   "outputs": [],
   "source": [
    "# For Docker image tensorflow/tensorflow:2.14.0-gpu-juptyer\n",
    "!pip install -q nltk"
   ]
  },
  {
   "cell_type": "code",
   "execution_count": 2,
   "id": "26a959c0",
   "metadata": {},
   "outputs": [],
   "source": [
    "from typing import Union\n",
    "import matplotlib.pyplot as plt\n",
    "import nltk\n",
    "from nltk.sentiment import SentimentIntensityAnalyzer\n",
    "from nltk.stem import WordNetLemmatizer\n",
    "import numpy as np\n",
    "from numpy import ndarray\n",
    "import tensorflow as tf"
   ]
  },
  {
   "cell_type": "code",
   "execution_count": 3,
   "id": "61904ce3",
   "metadata": {},
   "outputs": [
    {
     "name": "stdout",
     "output_type": "stream",
     "text": [
      "GPU not available, using CPU\n"
     ]
    }
   ],
   "source": [
    "# The device_name will be used in model.fit()\n",
    "gpu_devices = tf.config.experimental.list_physical_devices(\"GPU\")\n",
    "\n",
    "if gpu_devices:\n",
    "    print(\"GPU available, using GPU\")\n",
    "    tf.config.experimental.set_visible_devices(gpu_devices[0], \"GPU\")\n",
    "    device_name = \"/GPU:0\"\n",
    "else:\n",
    "    print(\"GPU not available, using CPU\")\n",
    "    device_name = \"/CPU:0\""
   ]
  },
  {
   "cell_type": "markdown",
   "id": "46b3f7e8",
   "metadata": {},
   "source": [
    "### Helper functions for loading data set"
   ]
  },
  {
   "cell_type": "code",
   "execution_count": 4,
   "id": "29c7661b",
   "metadata": {},
   "outputs": [],
   "source": [
    "def load_text_file(file_path: str) -> list[str]:\n",
    "    \"\"\"\n",
    "    Load a text file and return an array of lines from the file.\n",
    "\n",
    "    Args:\n",
    "        file_path: str: The path to the file to load.\n",
    "\n",
    "    Returns:\n",
    "        list[str]: An array of lines from the file.\n",
    "    \"\"\"\n",
    "    with open(file_path, \"r\", encoding=\"utf-8\") as file:\n",
    "        lines = file.readlines()\n",
    "    return [line.strip() for line in lines]"
   ]
  },
  {
   "cell_type": "markdown",
   "id": "4751e373",
   "metadata": {},
   "source": [
    "### Load the text files"
   ]
  },
  {
   "cell_type": "code",
   "execution_count": 5,
   "id": "819ff3c4",
   "metadata": {},
   "outputs": [],
   "source": [
    "train_text_path: str = \"../dataset/train_text.txt\"\n",
    "train_label_path: str = \"../dataset/train_labels.txt\"\n",
    "\n",
    "test_text_path: str = \"../dataset/test_text.txt\"\n",
    "test_label_path: str = \"../dataset/test_labels.txt\"\n",
    "\n",
    "validationt_text_path: str = \"../dataset/val_text.txt\"\n",
    "validationt_label_path: str = \"../dataset/val_labels.txt\"\n",
    "\n",
    "train_text: list[str] = load_text_file(train_text_path)\n",
    "train_label: list[str] = load_text_file(train_label_path)\n",
    "\n",
    "test_text: list[str] = load_text_file(test_text_path)\n",
    "test_label: list[str] = load_text_file(test_label_path)\n",
    "\n",
    "validation_text: list[str] = load_text_file(validationt_text_path)\n",
    "validation_label: list[str] = load_text_file(validationt_label_path)"
   ]
  },
  {
   "cell_type": "markdown",
   "id": "c6cd336c",
   "metadata": {},
   "source": [
    "### Preprocessing"
   ]
  },
  {
   "cell_type": "code",
   "execution_count": 6,
   "id": "3bc75d8f",
   "metadata": {},
   "outputs": [],
   "source": [
    "# Set stopwords\n",
    "nltk.download(\"stopwords\", quiet=True)\n",
    "nltk.download(\"punkt\", quiet=True)\n",
    "nltk.download(\"wordnet\", quiet=True)\n",
    "nltk.download(\"omw-1.4\", quiet=True)\n",
    "nltk.download(\"vader_lexicon\", quiet=True)\n",
    "stopwords = set(nltk.corpus.stopwords.words(\"english\"))\n",
    "stopwords.update(\"i\")\n",
    "\n",
    "# Declare a dict of emojis and their corresponding sentiment\n",
    "# 0: Negative; 1: Neutral; 2: Positive\n",
    "emoji_dict = {\n",
    "    \"😊\": 2,\n",
    "    \"😂\": 2,\n",
    "    \"😭\": 0,\n",
    "    \"😍\": 2,\n",
    "    \"😘\": 2,\n",
    "    \"😁\": 2,\n",
    "    \"😩\": 0,\n",
    "    \"😏\": 2,\n",
    "    \"😉\": 2,\n",
    "    \"😎\": 2,\n",
    "    \"😢\": 0,\n",
    "    \"😅\": 2,\n",
    "    \"😱\": 0,\n",
    "    \"😆\": 2,\n",
    "    \"😋\": 2,\n",
    "    \"😷\": 0,\n",
    "    \"😔\": 0,\n",
    "    \"😒\": 0,\n",
    "    \"😡\": 0,\n",
    "    \"😪\": 0,\n",
    "    \"😤\": 0,\n",
    "    \"😝\": 2,\n",
    "    \"😓\": 0,\n",
    "    \"😖\": 0,\n",
    "    \"😣\": 0,\n",
    "    \"😞\": 0,\n",
    "    \"😐\": 1,\n",
    "    \"😕\": 0,\n",
    "    \"😫\": 0,\n",
    "    \"😨\": 0,\n",
    "    \"😌\": 2,\n",
    "    \"😜\": 2,\n",
    "    \"😑\": 1,\n",
    "    \"😬\": 0,\n",
    "    \"😈\": 0,\n",
    "    \"😯\": 0,\n",
    "    \"😳\": 0,\n",
    "    \"😇\": 2,\n",
    "    \"😷\": 0,\n",
    "    \"😴\": 0,\n",
    "    \"😲\": 0,\n",
    "    \"😵\": 0,\n",
    "    \"😦\": 0,\n",
    "    \"😢\": 0,\n",
    "    \"😮\": 0,\n",
    "    \"😟\": 0,\n",
    "    \"😥\": 0,\n",
    "    \"😧\": 0,\n",
    "    \"😰\": 0,\n",
    "    \"😓\": 0,\n",
    "    \"😩\": 0,\n",
    "    \"😿\": 0,\n",
    "    \"😾\": 0,\n",
    "    \"🙀\": 0,\n",
    "    \"🙅\": 0,\n",
    "    \"🙆\": 0,\n",
    "    \"🙇\": 0,\n",
    "    \"🙈\": 0,\n",
    "    \"🙉\": 0,\n",
    "    \"🙊\": 0,\n",
    "    \"🙋\": 0,\n",
    "    \"🙌\": 0,\n",
    "    \"🙍\": 0,\n",
    "    \"🙎\": 0,\n",
    "    \"🙏\": 0,\n",
    "    \":)\": 2,\n",
    "    \":(\": 0,\n",
    "    \"❤️\": 2,\n",
    "    \"👍\": 2,\n",
    "    \"✌🏼️\": 2,\n",
    "    \"☹️\": 0,\n",
    "    \"👎\": 0,\n",
    "    \"💙\": 2,\n",
    "    \"💗\": 2,\n",
    "    \"🎉\": 2,\n",
    "    \"😄\": 2,\n",
    "    \"🤗\": 2,\n",
    "    \":D\": 2,\n",
    "    \"🎄\": 2,\n",
    "    \"🎁\": 2,\n",
    "}"
   ]
  },
  {
   "cell_type": "markdown",
   "id": "3db4ecc5",
   "metadata": {},
   "source": [
    "### Functions for preprocessing"
   ]
  },
  {
   "cell_type": "code",
   "execution_count": 7,
   "id": "b14f5776",
   "metadata": {},
   "outputs": [],
   "source": [
    "def text_processing(text: list[str]) -> list[list[str]]:\n",
    "    \"\"\"\n",
    "    Process text data:\n",
    "    - Remove '@user'\n",
    "    - Remove hashtags\n",
    "    - Remove URLs\n",
    "    - Replace emojis with their corresponding sentiment.\n",
    "    - Replace punctuation marks.\n",
    "    - Normalize the text with nltk.\n",
    "    - Tokenize the text.\n",
    "    - Lowercase the text.\n",
    "    - Remove stop words.\n",
    "    - Remove remaining punctuation.\n",
    "    - Keep emojis.\n",
    "    - Remove numbers.\n",
    "    # Length of the line is added after vectorization.\n",
    "\n",
    "    Args:\n",
    "        text: list[str]: A list of text data.\n",
    "\n",
    "    Returns:\n",
    "        list[list[str]]: A list of list of processed text data.\n",
    "    \"\"\"\n",
    "    processed_text = []\n",
    "    lemmatizer = WordNetLemmatizer()\n",
    "    for line in text:\n",
    "        # Remove '@user'\n",
    "        line = line.replace(\"@user\", \"\")\n",
    "        # Remove hashtags\n",
    "        line = line.replace(\"#\", \"\")\n",
    "        # Remove URLs (http, https, www)\n",
    "        line = \" \".join([word for word in line.split() if \"http\" not in word])\n",
    "        line = \" \".join([word for word in line.split() if \"www\" not in word])\n",
    "        # Replace emojis with their corresponding sentiment\n",
    "        line = replace_emojis(line)\n",
    "        # Replace punctuation marks\n",
    "        line = punctuation_replacement(line)\n",
    "        # Normalize the text using WordNetLemmatizer and tokenize the text\n",
    "        tokens = nltk.word_tokenize(line)\n",
    "        tokens = [lemmatizer.lemmatize(word) for word in tokens]\n",
    "        # Lowercase the text\n",
    "        tokens = [str(word).lower() for word in tokens]\n",
    "        # Remove stop words\n",
    "        tokens = [word for word in tokens if word not in stopwords]\n",
    "        # Remove remaining punctuation but keep emojis\n",
    "        tokens = [word for word in tokens if word.isalnum() or word in emoji_dict]\n",
    "        # Remove numbers\n",
    "        tokens = [word for word in tokens if not word.isnumeric()]\n",
    "        processed_text.append(tokens)\n",
    "\n",
    "    return processed_text\n",
    "\n",
    "\n",
    "def vectorize_text(\n",
    "    input: list[list[str]], vocabulary: list[str]\n",
    ") -> ndarray[ndarray[float]]:\n",
    "    \"\"\"\n",
    "    Vectorize the text data.\n",
    "\n",
    "    Args:\n",
    "        input: list[list[str]]: A list of list of text data (Full *_text).\n",
    "        vocabulary: list[str]: The list of most common words.\n",
    "\n",
    "    Returns:\n",
    "        ndarray[ndarray[float]]: A numpy array of vectorized text data.\n",
    "    \"\"\"\n",
    "    vectorized_text = np.zeros((len(input), len(vocabulary)))\n",
    "    for i, line in enumerate(input):\n",
    "        for word in line:\n",
    "            if word in vocabulary:\n",
    "                vectorized_text[i, vocabulary.index(word)] += 1\n",
    "    return vectorized_text\n",
    "\n",
    "\n",
    "def map_emoji_sentiment(input: int) -> str:\n",
    "    \"\"\"\n",
    "    Map the emoji sentiment to a string.\n",
    "\n",
    "    Args:\n",
    "        input: int: The emoji sentiment.\n",
    "\n",
    "    Returns:\n",
    "        str: The string sentiment.\n",
    "    \"\"\"\n",
    "    if input == 0:\n",
    "        return \"bad\"\n",
    "    elif input == 1:\n",
    "        return \"neutral\"\n",
    "    elif input == 2:\n",
    "        return \"good\"\n",
    "    else:\n",
    "        return \"neutral\"\n",
    "\n",
    "\n",
    "def replace_emojis(input: str) -> str:\n",
    "    \"\"\"\n",
    "    Replace emojis with their corresponding sentiment.\n",
    "    If the emoji is 0, replace it with 'bad'.\n",
    "    If the emoji is 1, replace it with 'neutral'.\n",
    "    If the emoji is 2, replace it with 'good'.\n",
    "    If the emoji is not in the emoji_dict, replace it with 'neutral'.\n",
    "\n",
    "    Args:\n",
    "        input: str: The input text data (line).\n",
    "\n",
    "    Returns:\n",
    "        str: The text data with emojis replaced with their corresponding sentiment.\n",
    "    \"\"\"\n",
    "    for emoji in emoji_dict:\n",
    "        if emoji in input:\n",
    "            input = input.replace(emoji, map_emoji_sentiment(emoji_dict[emoji]))\n",
    "    return input\n",
    "\n",
    "\n",
    "def get_sentiment_score(line: list[str]) -> list[float]:\n",
    "    \"\"\"\n",
    "    Get the sentiment score of the input text data from SentimentIntensityAnalyzer.\n",
    "\n",
    "    Args:\n",
    "        line: list[str]: The input line.\n",
    "\n",
    "    Returns:\n",
    "        list[float]: The compound score of 10 words in the sentence which has\n",
    "        the most significant score (far from 0). If the sentence has less than\n",
    "        10 words, the value of the remaining elements will be 0.\n",
    "        After that, the score for the whole line is added to the list.\n",
    "    \"\"\"\n",
    "    scores: list[float] = []\n",
    "    analyzer = SentimentIntensityAnalyzer()\n",
    "    for string in line:\n",
    "        score = analyzer.polarity_scores(string)[\"compound\"]\n",
    "        scores.append(score)\n",
    "    line_score = analyzer.polarity_scores(\" \".join(line))[\"compound\"]\n",
    "\n",
    "    # Get the 10 most significant scores and add the line score\n",
    "    if len(scores) > 10:\n",
    "        scores.sort(key=lambda x: abs(x), reverse=True)\n",
    "        result = scores[:10]\n",
    "        result.append(line_score)\n",
    "    else:\n",
    "        result = scores\n",
    "        result += [0] * (10 - len(scores))\n",
    "        result.append(line_score)\n",
    "\n",
    "    return result\n",
    "\n",
    "\n",
    "def learning_rate_scheduler(epoch: int) -> float:\n",
    "    \"\"\"\n",
    "    Learning rate scheduler, to decrease the learning rate when epoch increases.\n",
    "\n",
    "    Args:\n",
    "        epoch: int: The current epoch.\n",
    "\n",
    "    Returns:\n",
    "        float: The new learning rate.\n",
    "    \"\"\"\n",
    "    if epoch < 10:\n",
    "        return 0.0005\n",
    "    elif epoch < 20:\n",
    "        return 0.0003\n",
    "    else:\n",
    "        return 0.0001\n",
    "\n",
    "\n",
    "def punctuation_replacement(line: Union[str, list[str]]) -> str:\n",
    "    \"\"\"\n",
    "    Check if there are repeated (>= 2) punctuation marks ['.' '!', '?'] in the line.\n",
    "    If there are, no matter how many times the punctuation mark is repeated,\n",
    "    replace it with ['MultiDot', 'MultiExclamation', 'MultiQuestion']\n",
    "    respectively.\n",
    "\n",
    "    Replace ['.' '!', '?'] with ['Dot', 'Exclamation', 'Question'] respectively.\n",
    "    If they are not repeated in the line, keep them as they are.\n",
    "\n",
    "    Args:\n",
    "        line: Union[str, list[str]]: The input line, which can be a string or a list of words.\n",
    "\n",
    "    Returns:\n",
    "        str: The line with punctuation marks replaced.\n",
    "    \"\"\"\n",
    "    # Split the line into words if it is a string\n",
    "    if type(line) is str:\n",
    "        line = line.split()\n",
    "    # Replace punctuation marks\n",
    "    for_append = []\n",
    "    for i, word in enumerate(line):\n",
    "        if word.count(\".\") >= 2:\n",
    "            line[i] = line[i].replace(\".\", \"\")\n",
    "            for_append.append(\"MultiDot\")\n",
    "        elif word.count(\"!\") >= 2:\n",
    "            line[i] = line[i].replace(\"!\", \"\")\n",
    "            for_append.append(\"MultiExclamation\")\n",
    "        elif word.count(\"?\") >= 2:\n",
    "            line[i] = line[i].replace(\"?\", \"\")\n",
    "            for_append.append(\"MultiQuestion\")\n",
    "        elif word.count(\".\") == 1:\n",
    "            line[i] = line[i].replace(\".\", \"\")\n",
    "            for_append.append(\"Dot\")\n",
    "        elif word.count(\"!\") == 1:\n",
    "            line[i] = line[i].replace(\"!\", \"\")\n",
    "            for_append.append(\"Exclamation\")\n",
    "        elif word.count(\"?\") == 1:\n",
    "            line[i] = line[i].replace(\"?\", \"\")\n",
    "            for_append.append(\"Question\")\n",
    "\n",
    "    line += for_append\n",
    "\n",
    "    # Join back the line\n",
    "    return \" \".join(line)"
   ]
  },
  {
   "cell_type": "markdown",
   "id": "0aed5bf3",
   "metadata": {},
   "source": [
    "### Process the text data"
   ]
  },
  {
   "cell_type": "markdown",
   "id": "deba10fa",
   "metadata": {},
   "source": [
    "#### Process all text data\n",
    "\n",
    "See function docstring from text_processing()"
   ]
  },
  {
   "cell_type": "code",
   "execution_count": 8,
   "id": "1634a5eb",
   "metadata": {},
   "outputs": [],
   "source": [
    "train_text: list[list[str]] = text_processing(train_text)\n",
    "test_text: list[list[str]] = text_processing(test_text)\n",
    "validation_text: list[list[str]] = text_processing(validation_text)"
   ]
  },
  {
   "cell_type": "markdown",
   "id": "5734a099",
   "metadata": {},
   "source": [
    "#### Get the length of each input line\n",
    "\n",
    "Will be added as feature"
   ]
  },
  {
   "cell_type": "code",
   "execution_count": 9,
   "id": "0677b222",
   "metadata": {},
   "outputs": [],
   "source": [
    "train_text_len: list[int] = [len(line) for line in train_text]\n",
    "test_text_len: list[int] = [len(line) for line in test_text]\n",
    "validation_text_len: list[int] = [len(line) for line in validation_text]"
   ]
  },
  {
   "cell_type": "markdown",
   "id": "be6d2450",
   "metadata": {},
   "source": [
    "#### Remove empty lines after processing\n",
    "\n",
    "As there may exist lines with 0 words after removing words like stopwords"
   ]
  },
  {
   "cell_type": "code",
   "execution_count": 10,
   "id": "eb6fd527",
   "metadata": {},
   "outputs": [],
   "source": [
    "# Find index of lists in train_text and validation_text that are empty\n",
    "empty_index_train: list[int] = [i for i, x in enumerate(train_text) if not x]\n",
    "empty_index_validation: list[int] = [i for i, x in enumerate(validation_text) if not x]\n",
    "\n",
    "# Remove empty lists from train_text and validation_text, and corresponding labels\n",
    "train_text: list[list[str]] = [\n",
    "    train_text[i] for i in range(len(train_text)) if i not in empty_index_train\n",
    "]\n",
    "train_label: list[list[str]] = [\n",
    "    train_label[i] for i in range(len(train_label)) if i not in empty_index_train\n",
    "]\n",
    "validation_text: list[list[str]] = [\n",
    "    validation_text[i]\n",
    "    for i in range(len(validation_text))\n",
    "    if i not in empty_index_validation\n",
    "]\n",
    "validation_label: list[list[str]] = [\n",
    "    validation_label[i]\n",
    "    for i in range(len(validation_label))\n",
    "    if i not in empty_index_validation\n",
    "]"
   ]
  },
  {
   "cell_type": "markdown",
   "id": "cde05ecd",
   "metadata": {},
   "source": [
    "#### Find the most common words in the training data\n",
    "\n",
    "Will be used for vectorizing the input"
   ]
  },
  {
   "cell_type": "code",
   "execution_count": 11,
   "id": "680dad8f",
   "metadata": {},
   "outputs": [],
   "source": [
    "word_frequency: dict[str, int] = {}\n",
    "for line in train_text:\n",
    "    for word in line:\n",
    "        if word in word_frequency:\n",
    "            word_frequency[word] += 1\n",
    "        else:\n",
    "            word_frequency[word] = 1\n",
    "\n",
    "vocabulary: list[str] = [\n",
    "    word\n",
    "    for word, _ in sorted(word_frequency.items(), key=lambda x: x[1], reverse=True)[\n",
    "        :10000\n",
    "    ]\n",
    "]"
   ]
  },
  {
   "cell_type": "markdown",
   "id": "d39d1eb8",
   "metadata": {},
   "source": [
    "#### Get the sentiment score of the text data\n",
    "\n",
    "Will be used as feature"
   ]
  },
  {
   "cell_type": "code",
   "execution_count": 12,
   "id": "fbf84bea",
   "metadata": {},
   "outputs": [],
   "source": [
    "train_sentiment_score: ndarray[ndarray[float]] = np.array(\n",
    "    [get_sentiment_score(line) for line in train_text]\n",
    ")\n",
    "test_sentiment_score: ndarray[ndarray[float]] = np.array(\n",
    "    [get_sentiment_score(line) for line in test_text]\n",
    ")\n",
    "validation_sentiment_score: ndarray[ndarray[float]] = np.array(\n",
    "    [get_sentiment_score(line) for line in validation_text]\n",
    ")"
   ]
  },
  {
   "cell_type": "markdown",
   "id": "c41216d7",
   "metadata": {},
   "source": [
    "##### Convert the labels to integers"
   ]
  },
  {
   "cell_type": "code",
   "execution_count": 13,
   "id": "2e846af0",
   "metadata": {},
   "outputs": [],
   "source": [
    "train_label: list[int] = [int(label) for label in train_label]\n",
    "test_label: list[int] = [int(label) for label in test_label]\n",
    "validation_label: list[int] = [int(label) for label in validation_label]"
   ]
  },
  {
   "cell_type": "markdown",
   "id": "c70e8593",
   "metadata": {},
   "source": [
    "### Vectorize the input"
   ]
  },
  {
   "cell_type": "code",
   "execution_count": 14,
   "id": "c26c2836",
   "metadata": {},
   "outputs": [],
   "source": [
    "# Vectorize the text data\n",
    "train_vectorized: ndarray[ndarray[float]] = vectorize_text(train_text, vocabulary)\n",
    "test_vectorized: ndarray[ndarray[float]] = vectorize_text(test_text, vocabulary)\n",
    "validation_vectorized: ndarray[ndarray[float]] = vectorize_text(\n",
    "    validation_text, vocabulary\n",
    ")"
   ]
  },
  {
   "cell_type": "markdown",
   "id": "655b0aaf",
   "metadata": {},
   "source": [
    "#### Remove entries with all 0 vector"
   ]
  },
  {
   "cell_type": "code",
   "execution_count": 15,
   "id": "28e7c66c",
   "metadata": {},
   "outputs": [
    {
     "name": "stdout",
     "output_type": "stream",
     "text": [
      "Original training data size: 45615\n",
      "Original validation data size: 2000\n",
      "Processed training data size: 45614\n",
      "Processed validation data size: 2000\n"
     ]
    }
   ],
   "source": [
    "# Find the entries with all zeros in the vectorized data\n",
    "zero_index_train: ndarray[int] = np.where(~train_vectorized.any(axis=1))[0]\n",
    "zero_index_validation: ndarray[int] = np.where(~validation_vectorized.any(axis=1))[0]\n",
    "\n",
    "print(\"Original training data size:\", len(train_vectorized))\n",
    "print(\"Original validation data size:\", len(validation_vectorized))\n",
    "\n",
    "# Remove entries with all zeros in the vectorized data, and corresponding labels\n",
    "train_vectorized: ndarray[ndarray[float]] = np.delete(\n",
    "    train_vectorized, zero_index_train, axis=0\n",
    ")\n",
    "train_label: list[int] = [\n",
    "    train_label[i] for i in range(len(train_label)) if i not in zero_index_train\n",
    "]\n",
    "validation_vectorized: ndarray[ndarray[float]] = np.delete(\n",
    "    validation_vectorized, zero_index_validation, axis=0\n",
    ")\n",
    "validation_label: list[int] = [\n",
    "    validation_label[i]\n",
    "    for i in range(len(validation_label))\n",
    "    if i not in zero_index_validation\n",
    "]\n",
    "\n",
    "# Remove entries with all zeros in the sentiment score data\n",
    "train_sentiment_score: ndarray[ndarray[float]] = np.delete(\n",
    "    train_sentiment_score, zero_index_train, axis=0\n",
    ")\n",
    "validation_sentiment_score: ndarray[ndarray[float]] = np.delete(\n",
    "    validation_sentiment_score, zero_index_validation, axis=0\n",
    ")\n",
    "\n",
    "# Convert the list of text lengths to numpy array\n",
    "train_text_len: ndarray[int] = np.array(train_text_len)\n",
    "validation_text_len: ndarray[int] = np.array(validation_text_len)\n",
    "# Remove entries with all zeros in the text length data\n",
    "train_text_len: ndarray[int] = np.delete(train_text_len, zero_index_train)\n",
    "validation_text_len: ndarray[int] = np.delete(validation_text_len, zero_index_validation)\n",
    "\n",
    "print(\"Processed training data size:\", len(train_vectorized))\n",
    "print(\"Processed validation data size:\", len(validation_vectorized))"
   ]
  },
  {
   "cell_type": "markdown",
   "id": "00348677",
   "metadata": {},
   "source": [
    "#### Add remaining feature"
   ]
  },
  {
   "cell_type": "code",
   "execution_count": 16,
   "id": "52144176",
   "metadata": {},
   "outputs": [],
   "source": [
    "# Add the length of the text data to the vectorized data\n",
    "train_vectorized: ndarray[ndarray[float]] = np.column_stack((train_vectorized, train_text_len))\n",
    "test_vectorized: ndarray[ndarray[float]] = np.column_stack((test_vectorized, test_text_len))\n",
    "validation_vectorized: ndarray[ndarray[float]] = np.column_stack((validation_vectorized, validation_text_len))\n",
    "\n",
    "# Add sentiment score to each entry in the vectorized data\n",
    "train_vectorized: ndarray[ndarray[float]] = np.concatenate((train_vectorized, train_sentiment_score), axis=1)\n",
    "test_vectorized: ndarray[ndarray[float]] = np.concatenate((test_vectorized, test_sentiment_score), axis=1)\n",
    "validation_vectorized: ndarray[ndarray[float]] = np.concatenate(\n",
    "    (validation_vectorized, validation_sentiment_score), axis=1\n",
    ")"
   ]
  },
  {
   "cell_type": "markdown",
   "id": "2e326d3a",
   "metadata": {},
   "source": [
    "#### Convert labels to one-hot encoding\n",
    "\n",
    "For fitting into the neural network"
   ]
  },
  {
   "cell_type": "code",
   "execution_count": 17,
   "id": "72bea674",
   "metadata": {},
   "outputs": [],
   "source": [
    "train_label_one_hot: ndarray[ndarray[float]] = tf.one_hot(train_label, 3)\n",
    "validation_label_one_hot: ndarray[ndarray[float]] = tf.one_hot(validation_label, 3)\n",
    "test_label_one_hot: ndarray[ndarray[float]] = tf.one_hot(test_label, 3)"
   ]
  },
  {
   "cell_type": "markdown",
   "id": "0435cdbc",
   "metadata": {},
   "source": [
    "#### Final shape of training data"
   ]
  },
  {
   "cell_type": "code",
   "execution_count": 18,
   "id": "711ac065",
   "metadata": {},
   "outputs": [
    {
     "name": "stdout",
     "output_type": "stream",
     "text": [
      "Training data shape: (45614, 10012)\n"
     ]
    }
   ],
   "source": [
    "print(\"Training data shape:\", train_vectorized.shape)"
   ]
  },
  {
   "cell_type": "markdown",
   "id": "7f18faae",
   "metadata": {},
   "source": [
    "### NN"
   ]
  },
  {
   "cell_type": "markdown",
   "id": "e8bdb1ad",
   "metadata": {},
   "source": [
    "#### Setup the neural network"
   ]
  },
  {
   "cell_type": "code",
   "execution_count": 19,
   "id": "32fea4ba",
   "metadata": {},
   "outputs": [],
   "source": [
    "# Create an Input layer\n",
    "input_layer = tf.keras.layers.Input(shape=(train_vectorized.shape[1],))\n",
    "\n",
    "dropout_rate = 0.7\n",
    "\n",
    "# Define the model\n",
    "model = tf.keras.models.Sequential(\n",
    "    [\n",
    "        input_layer,\n",
    "        tf.keras.layers.Dense(2048, activation=\"sigmoid\"),\n",
    "        tf.keras.layers.Dropout(dropout_rate),\n",
    "        tf.keras.layers.Dense(512, activation=\"sigmoid\"),\n",
    "        tf.keras.layers.Dropout(dropout_rate),\n",
    "        tf.keras.layers.Dense(128, activation=\"sigmoid\"),\n",
    "        tf.keras.layers.Dropout(dropout_rate),\n",
    "        tf.keras.layers.Dense(3, activation=\"softmax\"),\n",
    "    ]\n",
    ")\n",
    "\n",
    "# Define early stopping criteria\n",
    "early_stopping = tf.keras.callbacks.EarlyStopping(\n",
    "    monitor=\"val_loss\", patience=5, mode=\"min\", verbose=1\n",
    ")\n",
    "\n",
    "# Add parameters to Adam optimizer if needed\n",
    "modified_adam = tf.keras.optimizers.Adam()\n",
    "\n",
    "model.compile(\n",
    "    optimizer=modified_adam, loss=\"categorical_crossentropy\", metrics=[\"accuracy\"]\n",
    ")\n",
    "\n",
    "rate_scheduler = tf.keras.callbacks.LearningRateScheduler(learning_rate_scheduler)"
   ]
  },
  {
   "cell_type": "markdown",
   "id": "8ff0a3c4",
   "metadata": {},
   "source": [
    "#### Train the model"
   ]
  },
  {
   "cell_type": "code",
   "execution_count": 20,
   "id": "e30804f9",
   "metadata": {},
   "outputs": [
    {
     "name": "stdout",
     "output_type": "stream",
     "text": [
      "Epoch 1/200\n",
      "\u001b[1m90/90\u001b[0m \u001b[32m━━━━━━━━━━━━━━━━━━━━\u001b[0m\u001b[37m\u001b[0m \u001b[1m16s\u001b[0m 168ms/step - accuracy: 0.4120 - loss: 1.1503 - val_accuracy: 0.4345 - val_loss: 1.0208 - learning_rate: 5.0000e-04\n",
      "Epoch 2/200\n",
      "\u001b[1m90/90\u001b[0m \u001b[32m━━━━━━━━━━━━━━━━━━━━\u001b[0m\u001b[37m\u001b[0m \u001b[1m16s\u001b[0m 173ms/step - accuracy: 0.4397 - loss: 1.0283 - val_accuracy: 0.4345 - val_loss: 1.0200 - learning_rate: 5.0000e-04\n",
      "Epoch 3/200\n",
      "\u001b[1m90/90\u001b[0m \u001b[32m━━━━━━━━━━━━━━━━━━━━\u001b[0m\u001b[37m\u001b[0m \u001b[1m15s\u001b[0m 164ms/step - accuracy: 0.4428 - loss: 1.0235 - val_accuracy: 0.4345 - val_loss: 1.0211 - learning_rate: 5.0000e-04\n",
      "Epoch 4/200\n",
      "\u001b[1m90/90\u001b[0m \u001b[32m━━━━━━━━━━━━━━━━━━━━\u001b[0m\u001b[37m\u001b[0m \u001b[1m15s\u001b[0m 162ms/step - accuracy: 0.4386 - loss: 1.0244 - val_accuracy: 0.4345 - val_loss: 1.0174 - learning_rate: 5.0000e-04\n",
      "Epoch 5/200\n",
      "\u001b[1m90/90\u001b[0m \u001b[32m━━━━━━━━━━━━━━━━━━━━\u001b[0m\u001b[37m\u001b[0m \u001b[1m14s\u001b[0m 159ms/step - accuracy: 0.4511 - loss: 1.0183 - val_accuracy: 0.4345 - val_loss: 1.0102 - learning_rate: 5.0000e-04\n",
      "Epoch 6/200\n",
      "\u001b[1m90/90\u001b[0m \u001b[32m━━━━━━━━━━━━━━━━━━━━\u001b[0m\u001b[37m\u001b[0m \u001b[1m14s\u001b[0m 160ms/step - accuracy: 0.4785 - loss: 1.0032 - val_accuracy: 0.6050 - val_loss: 0.8921 - learning_rate: 5.0000e-04\n",
      "Epoch 7/200\n",
      "\u001b[1m90/90\u001b[0m \u001b[32m━━━━━━━━━━━━━━━━━━━━\u001b[0m\u001b[37m\u001b[0m \u001b[1m14s\u001b[0m 156ms/step - accuracy: 0.5701 - loss: 0.9124 - val_accuracy: 0.6220 - val_loss: 0.8152 - learning_rate: 5.0000e-04\n",
      "Epoch 8/200\n",
      "\u001b[1m90/90\u001b[0m \u001b[32m━━━━━━━━━━━━━━━━━━━━\u001b[0m\u001b[37m\u001b[0m \u001b[1m14s\u001b[0m 157ms/step - accuracy: 0.6036 - loss: 0.8586 - val_accuracy: 0.6460 - val_loss: 0.7888 - learning_rate: 5.0000e-04\n",
      "Epoch 9/200\n",
      "\u001b[1m90/90\u001b[0m \u001b[32m━━━━━━━━━━━━━━━━━━━━\u001b[0m\u001b[37m\u001b[0m \u001b[1m14s\u001b[0m 159ms/step - accuracy: 0.6157 - loss: 0.8351 - val_accuracy: 0.6555 - val_loss: 0.7689 - learning_rate: 5.0000e-04\n",
      "Epoch 10/200\n",
      "\u001b[1m90/90\u001b[0m \u001b[32m━━━━━━━━━━━━━━━━━━━━\u001b[0m\u001b[37m\u001b[0m \u001b[1m14s\u001b[0m 157ms/step - accuracy: 0.6326 - loss: 0.8112 - val_accuracy: 0.6635 - val_loss: 0.7570 - learning_rate: 5.0000e-04\n",
      "Epoch 11/200\n",
      "\u001b[1m90/90\u001b[0m \u001b[32m━━━━━━━━━━━━━━━━━━━━\u001b[0m\u001b[37m\u001b[0m \u001b[1m14s\u001b[0m 159ms/step - accuracy: 0.6429 - loss: 0.7954 - val_accuracy: 0.6710 - val_loss: 0.7467 - learning_rate: 3.0000e-04\n",
      "Epoch 12/200\n",
      "\u001b[1m90/90\u001b[0m \u001b[32m━━━━━━━━━━━━━━━━━━━━\u001b[0m\u001b[37m\u001b[0m \u001b[1m14s\u001b[0m 158ms/step - accuracy: 0.6566 - loss: 0.7742 - val_accuracy: 0.6725 - val_loss: 0.7419 - learning_rate: 3.0000e-04\n",
      "Epoch 13/200\n",
      "\u001b[1m90/90\u001b[0m \u001b[32m━━━━━━━━━━━━━━━━━━━━\u001b[0m\u001b[37m\u001b[0m \u001b[1m14s\u001b[0m 159ms/step - accuracy: 0.6547 - loss: 0.7739 - val_accuracy: 0.6750 - val_loss: 0.7376 - learning_rate: 3.0000e-04\n",
      "Epoch 14/200\n",
      "\u001b[1m90/90\u001b[0m \u001b[32m━━━━━━━━━━━━━━━━━━━━\u001b[0m\u001b[37m\u001b[0m \u001b[1m16s\u001b[0m 173ms/step - accuracy: 0.6626 - loss: 0.7613 - val_accuracy: 0.6770 - val_loss: 0.7298 - learning_rate: 3.0000e-04\n",
      "Epoch 15/200\n",
      "\u001b[1m90/90\u001b[0m \u001b[32m━━━━━━━━━━━━━━━━━━━━\u001b[0m\u001b[37m\u001b[0m \u001b[1m15s\u001b[0m 161ms/step - accuracy: 0.6646 - loss: 0.7543 - val_accuracy: 0.6880 - val_loss: 0.7220 - learning_rate: 3.0000e-04\n",
      "Epoch 16/200\n",
      "\u001b[1m90/90\u001b[0m \u001b[32m━━━━━━━━━━━━━━━━━━━━\u001b[0m\u001b[37m\u001b[0m \u001b[1m15s\u001b[0m 166ms/step - accuracy: 0.6741 - loss: 0.7461 - val_accuracy: 0.6905 - val_loss: 0.7161 - learning_rate: 3.0000e-04\n",
      "Epoch 17/200\n",
      "\u001b[1m90/90\u001b[0m \u001b[32m━━━━━━━━━━━━━━━━━━━━\u001b[0m\u001b[37m\u001b[0m \u001b[1m15s\u001b[0m 164ms/step - accuracy: 0.6772 - loss: 0.7381 - val_accuracy: 0.6970 - val_loss: 0.7102 - learning_rate: 3.0000e-04\n",
      "Epoch 18/200\n",
      "\u001b[1m90/90\u001b[0m \u001b[32m━━━━━━━━━━━━━━━━━━━━\u001b[0m\u001b[37m\u001b[0m \u001b[1m15s\u001b[0m 171ms/step - accuracy: 0.6830 - loss: 0.7224 - val_accuracy: 0.6980 - val_loss: 0.7078 - learning_rate: 3.0000e-04\n",
      "Epoch 19/200\n",
      "\u001b[1m90/90\u001b[0m \u001b[32m━━━━━━━━━━━━━━━━━━━━\u001b[0m\u001b[37m\u001b[0m \u001b[1m15s\u001b[0m 171ms/step - accuracy: 0.6885 - loss: 0.7195 - val_accuracy: 0.6965 - val_loss: 0.7039 - learning_rate: 3.0000e-04\n",
      "Epoch 20/200\n",
      "\u001b[1m90/90\u001b[0m \u001b[32m━━━━━━━━━━━━━━━━━━━━\u001b[0m\u001b[37m\u001b[0m \u001b[1m15s\u001b[0m 170ms/step - accuracy: 0.6914 - loss: 0.7129 - val_accuracy: 0.7065 - val_loss: 0.7030 - learning_rate: 3.0000e-04\n",
      "Epoch 21/200\n",
      "\u001b[1m90/90\u001b[0m \u001b[32m━━━━━━━━━━━━━━━━━━━━\u001b[0m\u001b[37m\u001b[0m \u001b[1m15s\u001b[0m 170ms/step - accuracy: 0.6975 - loss: 0.6965 - val_accuracy: 0.7070 - val_loss: 0.7013 - learning_rate: 1.0000e-04\n",
      "Epoch 22/200\n",
      "\u001b[1m90/90\u001b[0m \u001b[32m━━━━━━━━━━━━━━━━━━━━\u001b[0m\u001b[37m\u001b[0m \u001b[1m15s\u001b[0m 166ms/step - accuracy: 0.6998 - loss: 0.6973 - val_accuracy: 0.7050 - val_loss: 0.7004 - learning_rate: 1.0000e-04\n",
      "Epoch 23/200\n",
      "\u001b[1m90/90\u001b[0m \u001b[32m━━━━━━━━━━━━━━━━━━━━\u001b[0m\u001b[37m\u001b[0m \u001b[1m15s\u001b[0m 165ms/step - accuracy: 0.6965 - loss: 0.6944 - val_accuracy: 0.7040 - val_loss: 0.7008 - learning_rate: 1.0000e-04\n",
      "Epoch 24/200\n",
      "\u001b[1m90/90\u001b[0m \u001b[32m━━━━━━━━━━━━━━━━━━━━\u001b[0m\u001b[37m\u001b[0m \u001b[1m15s\u001b[0m 165ms/step - accuracy: 0.7003 - loss: 0.6921 - val_accuracy: 0.7065 - val_loss: 0.6999 - learning_rate: 1.0000e-04\n",
      "Epoch 25/200\n",
      "\u001b[1m90/90\u001b[0m \u001b[32m━━━━━━━━━━━━━━━━━━━━\u001b[0m\u001b[37m\u001b[0m \u001b[1m15s\u001b[0m 165ms/step - accuracy: 0.6976 - loss: 0.6936 - val_accuracy: 0.7075 - val_loss: 0.6997 - learning_rate: 1.0000e-04\n",
      "Epoch 26/200\n",
      "\u001b[1m90/90\u001b[0m \u001b[32m━━━━━━━━━━━━━━━━━━━━\u001b[0m\u001b[37m\u001b[0m \u001b[1m15s\u001b[0m 165ms/step - accuracy: 0.6995 - loss: 0.6864 - val_accuracy: 0.7035 - val_loss: 0.7015 - learning_rate: 1.0000e-04\n",
      "Epoch 27/200\n",
      "\u001b[1m90/90\u001b[0m \u001b[32m━━━━━━━━━━━━━━━━━━━━\u001b[0m\u001b[37m\u001b[0m \u001b[1m15s\u001b[0m 169ms/step - accuracy: 0.7053 - loss: 0.6872 - val_accuracy: 0.7075 - val_loss: 0.6991 - learning_rate: 1.0000e-04\n",
      "Epoch 28/200\n",
      "\u001b[1m90/90\u001b[0m \u001b[32m━━━━━━━━━━━━━━━━━━━━\u001b[0m\u001b[37m\u001b[0m \u001b[1m15s\u001b[0m 165ms/step - accuracy: 0.6999 - loss: 0.6867 - val_accuracy: 0.7075 - val_loss: 0.6991 - learning_rate: 1.0000e-04\n",
      "Epoch 29/200\n",
      "\u001b[1m90/90\u001b[0m \u001b[32m━━━━━━━━━━━━━━━━━━━━\u001b[0m\u001b[37m\u001b[0m \u001b[1m16s\u001b[0m 172ms/step - accuracy: 0.7058 - loss: 0.6816 - val_accuracy: 0.7065 - val_loss: 0.6987 - learning_rate: 1.0000e-04\n",
      "Epoch 30/200\n",
      "\u001b[1m90/90\u001b[0m \u001b[32m━━━━━━━━━━━━━━━━━━━━\u001b[0m\u001b[37m\u001b[0m \u001b[1m16s\u001b[0m 172ms/step - accuracy: 0.7051 - loss: 0.6825 - val_accuracy: 0.7100 - val_loss: 0.6982 - learning_rate: 1.0000e-04\n",
      "Epoch 31/200\n",
      "\u001b[1m90/90\u001b[0m \u001b[32m━━━━━━━━━━━━━━━━━━━━\u001b[0m\u001b[37m\u001b[0m \u001b[1m16s\u001b[0m 176ms/step - accuracy: 0.7074 - loss: 0.6768 - val_accuracy: 0.7090 - val_loss: 0.6988 - learning_rate: 1.0000e-04\n",
      "Epoch 32/200\n",
      "\u001b[1m90/90\u001b[0m \u001b[32m━━━━━━━━━━━━━━━━━━━━\u001b[0m\u001b[37m\u001b[0m \u001b[1m15s\u001b[0m 168ms/step - accuracy: 0.7079 - loss: 0.6765 - val_accuracy: 0.7100 - val_loss: 0.6978 - learning_rate: 1.0000e-04\n",
      "Epoch 33/200\n",
      "\u001b[1m90/90\u001b[0m \u001b[32m━━━━━━━━━━━━━━━━━━━━\u001b[0m\u001b[37m\u001b[0m \u001b[1m15s\u001b[0m 166ms/step - accuracy: 0.7105 - loss: 0.6738 - val_accuracy: 0.7120 - val_loss: 0.6984 - learning_rate: 1.0000e-04\n",
      "Epoch 34/200\n",
      "\u001b[1m90/90\u001b[0m \u001b[32m━━━━━━━━━━━━━━━━━━━━\u001b[0m\u001b[37m\u001b[0m \u001b[1m15s\u001b[0m 165ms/step - accuracy: 0.7133 - loss: 0.6732 - val_accuracy: 0.7110 - val_loss: 0.6973 - learning_rate: 1.0000e-04\n",
      "Epoch 35/200\n",
      "\u001b[1m90/90\u001b[0m \u001b[32m━━━━━━━━━━━━━━━━━━━━\u001b[0m\u001b[37m\u001b[0m \u001b[1m15s\u001b[0m 165ms/step - accuracy: 0.7099 - loss: 0.6713 - val_accuracy: 0.7095 - val_loss: 0.6972 - learning_rate: 1.0000e-04\n",
      "Epoch 36/200\n",
      "\u001b[1m90/90\u001b[0m \u001b[32m━━━━━━━━━━━━━━━━━━━━\u001b[0m\u001b[37m\u001b[0m \u001b[1m15s\u001b[0m 165ms/step - accuracy: 0.7097 - loss: 0.6737 - val_accuracy: 0.7110 - val_loss: 0.6984 - learning_rate: 1.0000e-04\n",
      "Epoch 37/200\n",
      "\u001b[1m90/90\u001b[0m \u001b[32m━━━━━━━━━━━━━━━━━━━━\u001b[0m\u001b[37m\u001b[0m \u001b[1m15s\u001b[0m 163ms/step - accuracy: 0.7114 - loss: 0.6697 - val_accuracy: 0.7110 - val_loss: 0.6979 - learning_rate: 1.0000e-04\n",
      "Epoch 38/200\n",
      "\u001b[1m90/90\u001b[0m \u001b[32m━━━━━━━━━━━━━━━━━━━━\u001b[0m\u001b[37m\u001b[0m \u001b[1m15s\u001b[0m 165ms/step - accuracy: 0.7154 - loss: 0.6697 - val_accuracy: 0.7110 - val_loss: 0.6983 - learning_rate: 1.0000e-04\n",
      "Epoch 39/200\n",
      "\u001b[1m90/90\u001b[0m \u001b[32m━━━━━━━━━━━━━━━━━━━━\u001b[0m\u001b[37m\u001b[0m \u001b[1m15s\u001b[0m 165ms/step - accuracy: 0.7163 - loss: 0.6647 - val_accuracy: 0.7110 - val_loss: 0.6969 - learning_rate: 1.0000e-04\n",
      "Epoch 40/200\n",
      "\u001b[1m90/90\u001b[0m \u001b[32m━━━━━━━━━━━━━━━━━━━━\u001b[0m\u001b[37m\u001b[0m \u001b[1m15s\u001b[0m 170ms/step - accuracy: 0.7167 - loss: 0.6628 - val_accuracy: 0.7075 - val_loss: 0.6979 - learning_rate: 1.0000e-04\n",
      "Epoch 41/200\n",
      "\u001b[1m90/90\u001b[0m \u001b[32m━━━━━━━━━━━━━━━━━━━━\u001b[0m\u001b[37m\u001b[0m \u001b[1m16s\u001b[0m 176ms/step - accuracy: 0.7200 - loss: 0.6586 - val_accuracy: 0.7060 - val_loss: 0.6970 - learning_rate: 1.0000e-04\n",
      "Epoch 42/200\n",
      "\u001b[1m90/90\u001b[0m \u001b[32m━━━━━━━━━━━━━━━━━━━━\u001b[0m\u001b[37m\u001b[0m \u001b[1m17s\u001b[0m 188ms/step - accuracy: 0.7127 - loss: 0.6692 - val_accuracy: 0.7100 - val_loss: 0.6986 - learning_rate: 1.0000e-04\n",
      "Epoch 43/200\n",
      "\u001b[1m90/90\u001b[0m \u001b[32m━━━━━━━━━━━━━━━━━━━━\u001b[0m\u001b[37m\u001b[0m \u001b[1m15s\u001b[0m 171ms/step - accuracy: 0.7160 - loss: 0.6608 - val_accuracy: 0.7110 - val_loss: 0.6985 - learning_rate: 1.0000e-04\n",
      "Epoch 44/200\n",
      "\u001b[1m90/90\u001b[0m \u001b[32m━━━━━━━━━━━━━━━━━━━━\u001b[0m\u001b[37m\u001b[0m \u001b[1m15s\u001b[0m 170ms/step - accuracy: 0.7137 - loss: 0.6609 - val_accuracy: 0.7080 - val_loss: 0.6975 - learning_rate: 1.0000e-04\n",
      "Epoch 44: early stopping\n"
     ]
    }
   ],
   "source": [
    "with tf.device(device_name):\n",
    "    history = model.fit(\n",
    "        train_vectorized,\n",
    "        train_label_one_hot,\n",
    "        validation_data=(validation_vectorized, validation_label_one_hot),\n",
    "        epochs=200,\n",
    "        batch_size=512,\n",
    "        callbacks=[early_stopping, rate_scheduler],\n",
    "    )"
   ]
  },
  {
   "cell_type": "markdown",
   "id": "aa720ba6",
   "metadata": {},
   "source": [
    "#### Evaluate the model with test data"
   ]
  },
  {
   "cell_type": "code",
   "execution_count": 21,
   "id": "ff0da235",
   "metadata": {},
   "outputs": [
    {
     "name": "stdout",
     "output_type": "stream",
     "text": [
      "\u001b[1m384/384\u001b[0m \u001b[32m━━━━━━━━━━━━━━━━━━━━\u001b[0m\u001b[37m\u001b[0m \u001b[1m3s\u001b[0m 7ms/step - accuracy: 0.6321 - loss: 0.8392\n",
      "Test loss: 0.8467596173286438\n",
      "Test accuracy: 0.628296971321106\n"
     ]
    }
   ],
   "source": [
    "test_loss, test_accuracy = model.evaluate(test_vectorized, test_label_one_hot)\n",
    "print(\"Test loss:\", test_loss)\n",
    "print(\"Test accuracy:\", test_accuracy)"
   ]
  },
  {
   "cell_type": "markdown",
   "id": "04851f07",
   "metadata": {},
   "source": [
    "#### Plot graphs about loss and accuracy during epochs"
   ]
  },
  {
   "cell_type": "code",
   "execution_count": 22,
   "id": "e422f370",
   "metadata": {},
   "outputs": [
    {
     "data": {
      "image/png": "[encoded data removed]",
      "text/plain": [
       "<Figure size 640x480 with 1 Axes>"
      ]
     },
     "metadata": {},
     "output_type": "display_data"
    },
    {
     "data": {
      "image/png": "[encoded data removed]",
      "text/plain": [
       "<Figure size 640x480 with 1 Axes>"
      ]
     },
     "metadata": {},
     "output_type": "display_data"
    }
   ],
   "source": [
    "# Plot the training and validation accuracy\n",
    "plt.plot(history.history[\"accuracy\"], label=\"accuracy\")\n",
    "plt.plot(history.history[\"val_accuracy\"], label=\"val_accuracy\")\n",
    "plt.xlabel(\"Epoch\")\n",
    "plt.ylabel(\"Accuracy\")\n",
    "plt.legend(loc=\"upper right\")\n",
    "plt.grid()\n",
    "plt.show()\n",
    "\n",
    "# Plot the training and validation loss\n",
    "plt.plot(history.history[\"loss\"], label=\"loss\")\n",
    "plt.plot(history.history[\"val_loss\"], label=\"val_loss\")\n",
    "plt.xlabel(\"Epoch\")\n",
    "plt.ylabel(\"Loss\")\n",
    "plt.legend(loc=\"upper right\")\n",
    "plt.grid()\n",
    "plt.show()"
   ]
  },
  {
   "cell_type": "code",
   "execution_count": null,
   "id": "503537fa",
   "metadata": {},
   "outputs": [],
   "source": []
  }
 ],
 "metadata": {
  "kernelspec": {
   "display_name": "Python 3 (ipykernel)",
   "language": "python",
   "name": "python3"
  },
  "language_info": {
   "codemirror_mode": {
    "name": "ipython",
    "version": 3
   },
   "file_extension": ".py",
   "mimetype": "text/x-python",
   "name": "python",
   "nbconvert_exporter": "python",
   "pygments_lexer": "ipython3",
   "version": "3.11.0rc1"
  }
 },
 "nbformat": 4,
 "nbformat_minor": 5
}
