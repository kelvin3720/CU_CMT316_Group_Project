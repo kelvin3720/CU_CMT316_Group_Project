{
  "nbformat": 4,
  "nbformat_minor": 0,
  "metadata": {
    "colab": {
      "provenance": []
    },
    "kernelspec": {
      "name": "python3",
      "display_name": "Python 3"
    },
    "language_info": {
      "name": "python"
    }
  },
  "cells": [
    {
      "cell_type": "code",
      "execution_count": 1,
      "metadata": {
        "colab": {
          "base_uri": "https://localhost:8080/"
        },
        "id": "8K2nvqynYkMh",
        "outputId": "2f097c18-7489-4162-b6a8-08b53aab530a"
      },
      "outputs": [
        {
          "output_type": "stream",
          "name": "stderr",
          "text": [
            "[nltk_data] Downloading package stopwords to /root/nltk_data...\n",
            "[nltk_data]   Package stopwords is already up-to-date!\n",
            "[nltk_data] Downloading package punkt to /root/nltk_data...\n",
            "[nltk_data]   Package punkt is already up-to-date!\n"
          ]
        },
        {
          "output_type": "stream",
          "name": "stdout",
          "text": [
            "Requirement already satisfied: pysastrawi in /usr/local/lib/python3.10/dist-packages (1.2.0)\n"
          ]
        }
      ],
      "source": [
        "# Import Libraries\n",
        "from sklearn.model_selection import train_test_split\n",
        "from sklearn.pipeline import make_pipeline\n",
        "from sklearn.compose import ColumnTransformer\n",
        "from sklearn.impute import SimpleImputer\n",
        "from sklearn.preprocessing import StandardScaler, OneHotEncoder\n",
        "from sklearn.metrics import classification_report\n",
        "# from Sastrawi.Stemmer.StemmerFactory import StemmerFactory\n",
        "from nltk.corpus import stopwords\n",
        "import re\n",
        "import nltk\n",
        "import string\n",
        "import numpy as np\n",
        "import pandas as pd\n",
        "import seaborn as sns\n",
        "import matplotlib.pyplot as plt\n",
        "import tensorflow as tf\n",
        "import tensorflow_hub as tf_hub\n",
        "from nltk.tokenize import word_tokenize\n",
        "from tensorflow.keras.layers import TextVectorization\n",
        "from sklearn.feature_extraction.text import CountVectorizer\n",
        "from tensorflow.keras.layers import Embedding\n",
        "from tensorflow.keras.models import Sequential\n",
        "from tensorflow.keras.layers import Dense, LSTM, Bidirectional, GRU, Dropout, Reshape\n",
        "from tensorflow.keras.callbacks import EarlyStopping\n",
        "nltk.download('stopwords')\n",
        "nltk.download('punkt')\n",
        "!pip install pysastrawi\n",
        "from keras.preprocessing.text import Tokenizer\n",
        "from keras.preprocessing.sequence import pad_sequences\n",
        "from keras.utils import to_categorical\n",
        "from keras.models import Sequential\n",
        "from keras.layers import Embedding, Bidirectional, LSTM, Dropout, Dense\n",
        "from keras.layers import BatchNormalization\n",
        "# nltk.download('stopwords')\n",
        "# nltk.download('punkt')\n",
        "# !pip install pysastrawi"
      ]
    },
    {
      "cell_type": "code",
      "source": [
        "import requests\n",
        "\n",
        "url_train = \"https://raw.githubusercontent.com/cardiffnlp/tweeteval/main/datasets/sentiment/train_text.txt\"\n",
        "url_train_label = \"https://raw.githubusercontent.com/cardiffnlp/tweeteval/main/datasets/sentiment/train_labels.txt\"\n",
        "\n",
        "url_val_text = \"https://raw.githubusercontent.com/cardiffnlp/tweeteval/main/datasets/sentiment/val_text.txt\"\n",
        "url_val_labels = \"https://raw.githubusercontent.com/cardiffnlp/tweeteval/main/datasets/sentiment/val_labels.txt\"\n",
        "\n",
        "\n",
        "\n",
        "\n",
        "train_data = requests.get(url_train)\n",
        "trainlabel_data = requests.get(url_train_label)\n",
        "\n",
        "val_data = requests.get(url_val_text)\n",
        "vallabel_data = requests.get(url_val_labels)\n",
        "\n",
        "\n",
        "\n",
        "train_data1 = train_data.text.split(\"\\n\")\n",
        "\n",
        "train_data1_label = trainlabel_data.text.split(\"\\n\")\n",
        "\n",
        "val_data1 = val_data.text.split(\"\\n\")\n",
        "val_data1_label = vallabel_data.text.split(\"\\n\")\n",
        "\n",
        "\n",
        "# for line in data:\n",
        "# print(train_data1[:5])\n",
        "\n"
      ],
      "metadata": {
        "id": "kYiebT2XbmE4"
      },
      "execution_count": 2,
      "outputs": []
    },
    {
      "cell_type": "code",
      "source": [
        "# Define Stopwords\n",
        "\n",
        "from nltk.tokenize import word_tokenize\n",
        "from nltk.corpus import stopwords\n",
        "from nltk.stem import PorterStemmer\n",
        "import re\n",
        "\n",
        "# Define stopwords for English\n",
        "stopwords_en = set(stopwords.words('english'))\n",
        "\n",
        "# Initialize Porter Stemmer\n",
        "stemmer_en = PorterStemmer()\n",
        "\n",
        "def text_preprocessing(text):\n",
        "    # Case folding\n",
        "    text = text.lower()\n",
        "\n",
        "    # Mention removal\n",
        "    text = re.sub(\"@[A-Za-z0-9_]+\", \" \", text)\n",
        "\n",
        "    # Hashtags removal\n",
        "    text = re.sub(\"#[A-Za-z0-9_]+\", \" \", text)\n",
        "\n",
        "    # Newline removal (\\n)\n",
        "    text = re.sub(r\"\\\\n\", \" \", text)\n",
        "\n",
        "    # Whitespace removal\n",
        "    text = text.strip()\n",
        "\n",
        "    # URL removal\n",
        "    text = re.sub(r\"http\\S+\", \" \", text)\n",
        "    text = re.sub(r\"www.\\S+\", \" \", text)\n",
        "\n",
        "    # Non-letter removal (such as emoticon, symbol (like μ, $, 兀), etc\n",
        "    text = re.sub(\"[^A-Za-z\\s']\", \" \", text)\n",
        "\n",
        "    # Tokenization\n",
        "    tokens = word_tokenize(text)\n",
        "\n",
        "    # Stopwords removal\n",
        "    tokens = [word for word in tokens if word not in stopwords_en]\n",
        "\n",
        "    # Stemming using Porter Stemmer\n",
        "    tokens = [stemmer_en.stem(word) for word in tokens]\n",
        "\n",
        "    # Combining Tokens\n",
        "    text = ' '.join(tokens)\n",
        "\n",
        "    return text\n"
      ],
      "metadata": {
        "id": "S9MeeBtU0cDz"
      },
      "execution_count": 3,
      "outputs": []
    },
    {
      "cell_type": "code",
      "source": [
        "train_data_processning = [text_preprocessing(text) for text in train_data1]\n",
        "# for lin in train_data_processning:\n",
        "#   print(lin)\n",
        "# print('\\n')\n",
        "# for lin in train_data1:\n",
        "#   print(lin)\n",
        "\n",
        "val_data_processning = [text_preprocessing(text) for text in val_data1]\n"
      ],
      "metadata": {
        "id": "J9UYS9Mp0dSS"
      },
      "execution_count": 4,
      "outputs": []
    },
    {
      "cell_type": "code",
      "source": [
        "\n",
        "\n",
        "# Extracting text from training and test data\n",
        "# X_train_texts = [sample[0] for sample in X_train]\n",
        "# X_test_texts = [sample[0] for sample in X_test]\n",
        "\n",
        "# Initialise the CountVectorizer and vectorise it.\n",
        "Vectorize = CountVectorizer()\n",
        "X_train_vec = Vectorize.fit_transform(train_data_processning)\n",
        "X_test_vec = Vectorize.transform(val_data_processning)\n",
        "\n",
        "# Finding the Number of Vocabs and Max Token Length in One Document\n",
        "total_vocab = len(Vectorize.vocabulary_.keys())\n",
        "max_sen_len = max([len(i.split(\" \")) for i in train_data_processning])\n",
        "\n",
        "print('Total Vocab : ', total_vocab)\n",
        "print('Maximum Sentence Length : ', max_sen_len, 'tokens')\n",
        "\n",
        "# Text Vectorization\n",
        "text_vectorization = TextVectorization(max_tokens=total_vocab,\n",
        "                                       standardize=\"lower_and_strip_punctuation\",\n",
        "                                       split=\"whitespace\",\n",
        "                                       ngrams=None,\n",
        "                                       output_mode=\"int\",\n",
        "                                       output_sequence_length=max_sen_len,\n",
        "                                       input_shape=(1,)) # Only use in Sequential API\n",
        "\n",
        "text_vectorization.adapt(train_data_processning)\n",
        "\n",
        "\n",
        "\n",
        "\n"
      ],
      "metadata": {
        "colab": {
          "base_uri": "https://localhost:8080/"
        },
        "id": "G32SlIwSYlc_",
        "outputId": "c99ac221-67fe-41ab-da26-1dc97f4d235a"
      },
      "execution_count": 5,
      "outputs": [
        {
          "output_type": "stream",
          "name": "stdout",
          "text": [
            "Total Vocab :  27398\n",
            "Maximum Sentence Length :  40 tokens\n"
          ]
        }
      ]
    },
    {
      "cell_type": "code",
      "source": [
        "\n",
        "\n",
        "# ## Document example\n",
        "# print('Document example')\n",
        "# print(df.text_processed[0])\n",
        "# print('')\n",
        "\n",
        "# ## Result of Text Vectorization\n",
        "# print('Result of Text Vectorization')\n",
        "# print(text_vectorization([df.text_processed[0]]))\n",
        "# print('Vector size : ', text_vectorization([df.text_processed[0]]).shape)\n",
        "\n",
        "\n",
        "\n",
        "## Document example\n",
        "print('Document example')\n",
        "print(train_data_processning[0])\n",
        "print('')\n",
        "\n",
        "## Result of Text Vectorization\n",
        "print('Result of Text Vectorization')\n",
        "# Vectorise the first training data text\n",
        "text_vectorized = text_vectorization([train_data_processning[0]])\n",
        "print(text_vectorized)\n",
        "print('Vector size : ', text_vectorized.shape)\n"
      ],
      "metadata": {
        "colab": {
          "base_uri": "https://localhost:8080/"
        },
        "id": "8PH5rhQna0r-",
        "outputId": "8b762e44-6ef1-48fd-c9b3-57b6bb7fee5e"
      },
      "execution_count": 6,
      "outputs": [
        {
          "output_type": "stream",
          "name": "stdout",
          "text": [
            "Document example\n",
            "qt origin draft th book remu lupin surviv battl hogwart\n",
            "\n",
            "Result of Text Vectorization\n",
            "tf.Tensor(\n",
            "[[ 8938   921  1219     6   217  5955  6032  2010  1333 12154     0     0\n",
            "      0     0     0     0     0     0     0     0     0     0     0     0\n",
            "      0     0     0     0     0     0     0     0     0     0     0     0\n",
            "      0     0     0     0]], shape=(1, 40), dtype=int64)\n",
            "Vector size :  (1, 40)\n"
          ]
        }
      ]
    },
    {
      "cell_type": "code",
      "source": [
        "# View the Top 20 Tokens (Sorted by the Highest Frequency of Appearance)\n",
        "\n",
        "text_vectorization.get_vocabulary()[:20]"
      ],
      "metadata": {
        "colab": {
          "base_uri": "https://localhost:8080/"
        },
        "id": "WfrUsa8pa2vf",
        "outputId": "de892d72-c6b9-4489-c0c6-170ef5786fc8"
      },
      "execution_count": 7,
      "outputs": [
        {
          "output_type": "execute_result",
          "data": {
            "text/plain": [
              "['',\n",
              " '[UNK]',\n",
              " 'u',\n",
              " 's',\n",
              " 'tomorrow',\n",
              " 'may',\n",
              " 'th',\n",
              " 'go',\n",
              " 'c',\n",
              " 'day',\n",
              " 'nt',\n",
              " 'st',\n",
              " 'night',\n",
              " 'see',\n",
              " 'get',\n",
              " 'friday',\n",
              " 'time',\n",
              " 'like',\n",
              " 'sunday',\n",
              " 'm']"
            ]
          },
          "metadata": {},
          "execution_count": 7
        }
      ]
    },
    {
      "cell_type": "code",
      "source": [
        "train_data_processed = [sentence.split() for sentence in train_data_processning]\n",
        "print(train_data_processed[:2])\n"
      ],
      "metadata": {
        "colab": {
          "base_uri": "https://localhost:8080/"
        },
        "id": "1DRGLXtXXiil",
        "outputId": "ef50b5b1-a80b-4d98-8736-ce53f33b2c32"
      },
      "execution_count": 9,
      "outputs": [
        {
          "output_type": "stream",
          "name": "stdout",
          "text": [
            "[['qt', 'origin', 'draft', 'th', 'book', 'remu', 'lupin', 'surviv', 'battl', 'hogwart'], ['ben', 'smith', 'smith', 'concuss', 'remain', 'lineup', 'thursday', 'curti']]\n"
          ]
        }
      ]
    },
    {
      "cell_type": "code",
      "source": [
        "import gensim\n",
        "from gensim.models import Word2Vec\n",
        "# model = Word2Vec(train_data_processed, vector_size=100, window=5, min_count=3)\n",
        "\n",
        "word2vec_model = Word2Vec(sentences=train_data_processed, vector_size=128, window=5, min_count=1, workers=4)\n",
        "word2vec_model.train(train_data_processed, total_examples=len(train_data_processed), epochs=50)"
      ],
      "metadata": {
        "colab": {
          "base_uri": "https://localhost:8080/"
        },
        "id": "Th1ihSJbzmzn",
        "outputId": "b0161eec-7138-4891-dc05-743aaa086700"
      },
      "execution_count": 10,
      "outputs": [
        {
          "output_type": "stream",
          "name": "stderr",
          "text": [
            "WARNING:gensim.models.word2vec:Effective 'alpha' higher than previous training cycles\n"
          ]
        },
        {
          "output_type": "execute_result",
          "data": {
            "text/plain": [
              "(24044789, 26559000)"
            ]
          },
          "metadata": {},
          "execution_count": 10
        }
      ]
    },
    {
      "cell_type": "code",
      "source": [
        "\n",
        "\n",
        "tokenizer = Tokenizer(num_words=10000)\n",
        "tokenizer.fit_on_texts(train_data_processning)\n",
        "\n",
        "# Convert text to sequence\n",
        "X_train_seq = tokenizer.texts_to_sequences(train_data_processning)\n",
        "X_val_seq = tokenizer.texts_to_sequences(val_data_processning)\n",
        "\n",
        "\n",
        "# cleaning the invalide data\n",
        "invalid_indices_train = [i for i, seq in enumerate(X_train_seq) if len(seq) == 0]\n",
        "invalid_indices_val = [i for i, seq in enumerate(X_val_seq) if len(seq) == 0]\n",
        "\n",
        "X_train_seq_clean = [seq for i, seq in enumerate(X_train_seq) if i not in invalid_indices_train]\n",
        "y_train_ohe_clean = np.delete(train_data1_label, invalid_indices_train, axis=0)\n",
        "\n",
        "\n",
        "X_val_seq_clean = [seq for i, seq in enumerate(X_val_seq) if i not in invalid_indices_val]\n",
        "y_val_ohe_clean = np.delete(val_data1_label, invalid_indices_val, axis=0)\n",
        "\n",
        "# update index\n",
        "max_seq_length = max(len(seq) for seq in X_train_seq_clean + X_val_seq_clean)\n",
        "X_train_padded_clean = pad_sequences(X_train_seq_clean, maxlen=max_seq_length)\n",
        "X_val_padded_clean = pad_sequences(X_val_seq_clean, maxlen=max_seq_length)\n",
        "\n",
        "# update\n",
        "y_train_ohe_clean = to_categorical(y_train_ohe_clean)\n",
        "y_val_ohe_clean = to_categorical(y_val_ohe_clean)\n",
        "\n",
        "print(\"train data after cleaning:\", len(X_train_seq_clean))\n",
        "print(\"develop(val) data after cleaning:\", len(X_val_seq_clean))\n"
      ],
      "metadata": {
        "colab": {
          "base_uri": "https://localhost:8080/"
        },
        "id": "u_3a0TO1xtcv",
        "outputId": "13177474-b079-42c3-8c60-f71ff558ac63"
      },
      "execution_count": 11,
      "outputs": [
        {
          "output_type": "stream",
          "name": "stdout",
          "text": [
            "train data after cleaning: 45614\n",
            "develop(val) data after cleaning: 2000\n"
          ]
        }
      ]
    },
    {
      "cell_type": "code",
      "source": [
        "\n",
        "\n",
        "# Get the pre-trained word embeddings\n",
        "word_embeddings = word2vec_model.wv\n",
        "\n",
        "# Get the embedding matrix\n",
        "embedding_matrix = word_embeddings.vectors\n",
        "\n",
        "# Get the vocabulary size\n",
        "vocab_size = len(word_embeddings.key_to_index)\n",
        "\n",
        "# Update the embedding layer in your neural network model\n",
        "embedding_layer = Embedding(input_dim=vocab_size,\n",
        "                            output_dim=128,\n",
        "                            weights=[embedding_matrix],\n",
        "                            input_length=max_seq_length,\n",
        "                            trainable=False)\n",
        "\n",
        "\n",
        "# Embedding\n",
        "\n",
        "\n",
        "# embedding = Embedding(input_dim=total_vocab,\n",
        "#                       output_dim=128,\n",
        "#                       embeddings_initializer=\"uniform\",\n",
        "#                       input_length=max_sen_len)\n",
        "# Example Result\n",
        "\n",
        "\n",
        "# print('Document example')\n",
        "# print(train_data_processning[0])\n",
        "# print('')\n",
        "\n",
        "# ## Result of Text Vectorization\n",
        "# print('Result of Text Vectorization')\n",
        "# print(text_vectorization([train_data_processning[0]]))\n",
        "# print('Vector size : ', text_vectorization([train_data_processning[0]]).shape)\n",
        "# print('')\n",
        "\n",
        "# ## Result of Embedding\n",
        "# print('Result of Embedding')\n",
        "# print(embedding(text_vectorization([train_data_processning[0]])))\n",
        "# print('Vector size : ', embedding(text_vectorization([train_data_processning[0]])).shape)\n"
      ],
      "metadata": {
        "id": "RzmHmN8YyIew"
      },
      "execution_count": 12,
      "outputs": []
    },
    {
      "cell_type": "code",
      "source": [
        "\n",
        "\n",
        "learn_rate = tf.keras.optimizers.Adam(learning_rate =0.001)\n",
        "\n",
        "model_lstm_1 = Sequential()\n",
        "model_lstm_1.add(embedding_layer)\n",
        "# model_lstm_1.add(Embedding(input_dim=10000, output_dim=128, input_length=max_seq_length))\n",
        "model_lstm_1.add(Bidirectional(LSTM(8, return_sequences=True, kernel_initializer=tf.keras.initializers.GlorotUniform(seed=42))))\n",
        "model_lstm_1.add(BatchNormalization())\n",
        "model_lstm_1.add(Dropout(0.1))\n",
        "model_lstm_1.add(Bidirectional(LSTM(16, kernel_initializer=tf.keras.initializers.GlorotUniform(seed=42))))\n",
        "model_lstm_1.add(BatchNormalization())\n",
        "model_lstm_1.add(Dropout(0.1))\n",
        "# model_lstm_1.add(Dense(64, activation='relu', kernel_regularizer=tf.keras.regularizers.l2(0.01)))\n",
        "model_lstm_1.add(Dense(3, activation='softmax'))\n",
        "model_lstm_1.compile(loss='categorical_crossentropy', optimizer=learn_rate, metrics=['accuracy'])\n",
        "model_lstm_1.summary()\n",
        "# Fit the model\n",
        "# batch_size =32\n",
        "batch_size =32\n",
        "model_lstm_1_hist = model_lstm_1.fit(X_train_padded_clean,\n",
        "                                     y_train_ohe_clean,\n",
        "                                     epochs=25,\n",
        "                                     batch_size=batch_size,\n",
        "                                     validation_data=(X_val_padded_clean, y_val_ohe_clean))\n",
        "\n",
        "\n",
        "# Plot training results\n",
        "model_lstm_1_hist_df = pd.DataFrame(model_lstm_1_hist.history)\n",
        "\n",
        "plt.figure(figsize=(15, 5))\n",
        "plt.subplot(1, 2, 1)\n",
        "sns.lineplot(data=model_lstm_1_hist_df[['accuracy', 'val_accuracy']])\n",
        "plt.grid()\n",
        "plt.title('Accuracy vs Val-Accuracy')\n",
        "\n",
        "\n",
        "plt.subplot(1, 2, 2)\n",
        "sns.lineplot(data=model_lstm_1_hist_df[['loss', 'val_loss']])\n",
        "plt.grid()\n",
        "plt.title('Loss vs Val-Loss')\n",
        "plt.show()\n"
      ],
      "metadata": {
        "colab": {
          "base_uri": "https://localhost:8080/",
          "height": 1000
        },
        "id": "EW7X8LsRpPrs",
        "outputId": "9b1e37ba-8169-411e-baa7-e82bfdd6cbe3"
      },
      "execution_count": 15,
      "outputs": [
        {
          "output_type": "stream",
          "name": "stdout",
          "text": [
            "Model: \"sequential_2\"\n",
            "_________________________________________________________________\n",
            " Layer (type)                Output Shape              Param #   \n",
            "=================================================================\n",
            " embedding (Embedding)       (None, 32, 128)           3575552   \n",
            "                                                                 \n",
            " bidirectional_4 (Bidirecti  (None, 32, 16)            8768      \n",
            " onal)                                                           \n",
            "                                                                 \n",
            " batch_normalization_4 (Bat  (None, 32, 16)            64        \n",
            " chNormalization)                                                \n",
            "                                                                 \n",
            " dropout_4 (Dropout)         (None, 32, 16)            0         \n",
            "                                                                 \n",
            " bidirectional_5 (Bidirecti  (None, 32)                4224      \n",
            " onal)                                                           \n",
            "                                                                 \n",
            " batch_normalization_5 (Bat  (None, 32)                128       \n",
            " chNormalization)                                                \n",
            "                                                                 \n",
            " dropout_5 (Dropout)         (None, 32)                0         \n",
            "                                                                 \n",
            " dense_2 (Dense)             (None, 3)                 99        \n",
            "                                                                 \n",
            "=================================================================\n",
            "Total params: 3588835 (13.69 MB)\n",
            "Trainable params: 13187 (51.51 KB)\n",
            "Non-trainable params: 3575648 (13.64 MB)\n",
            "_________________________________________________________________\n",
            "Epoch 1/25\n",
            "1426/1426 [==============================] - 65s 40ms/step - loss: 1.0002 - accuracy: 0.5009 - val_loss: 0.9121 - val_accuracy: 0.5620\n",
            "Epoch 2/25\n",
            "1426/1426 [==============================] - 54s 38ms/step - loss: 0.8736 - accuracy: 0.5907 - val_loss: 0.8655 - val_accuracy: 0.5940\n",
            "Epoch 3/25\n",
            "1426/1426 [==============================] - 54s 38ms/step - loss: 0.8287 - accuracy: 0.6155 - val_loss: 0.8396 - val_accuracy: 0.6185\n",
            "Epoch 4/25\n",
            "1426/1426 [==============================] - 53s 37ms/step - loss: 0.8025 - accuracy: 0.6319 - val_loss: 0.8348 - val_accuracy: 0.6205\n",
            "Epoch 5/25\n",
            "1426/1426 [==============================] - 53s 37ms/step - loss: 0.7841 - accuracy: 0.6427 - val_loss: 0.8339 - val_accuracy: 0.6295\n",
            "Epoch 6/25\n",
            "1426/1426 [==============================] - 54s 38ms/step - loss: 0.7683 - accuracy: 0.6522 - val_loss: 0.8424 - val_accuracy: 0.6290\n",
            "Epoch 7/25\n",
            "1426/1426 [==============================] - 54s 38ms/step - loss: 0.7573 - accuracy: 0.6581 - val_loss: 0.8231 - val_accuracy: 0.6460\n",
            "Epoch 8/25\n",
            "1426/1426 [==============================] - 53s 37ms/step - loss: 0.7463 - accuracy: 0.6652 - val_loss: 0.8189 - val_accuracy: 0.6400\n",
            "Epoch 9/25\n",
            "1426/1426 [==============================] - 53s 37ms/step - loss: 0.7377 - accuracy: 0.6698 - val_loss: 0.8562 - val_accuracy: 0.6255\n",
            "Epoch 10/25\n",
            "1426/1426 [==============================] - 54s 38ms/step - loss: 0.7295 - accuracy: 0.6750 - val_loss: 0.8225 - val_accuracy: 0.6465\n",
            "Epoch 11/25\n",
            "1426/1426 [==============================] - 54s 38ms/step - loss: 0.7243 - accuracy: 0.6776 - val_loss: 0.8411 - val_accuracy: 0.6500\n",
            "Epoch 12/25\n",
            "1426/1426 [==============================] - 53s 37ms/step - loss: 0.7174 - accuracy: 0.6820 - val_loss: 0.8324 - val_accuracy: 0.6415\n",
            "Epoch 13/25\n",
            "1426/1426 [==============================] - 54s 38ms/step - loss: 0.7103 - accuracy: 0.6866 - val_loss: 0.8340 - val_accuracy: 0.6250\n",
            "Epoch 14/25\n",
            "1426/1426 [==============================] - 54s 38ms/step - loss: 0.7052 - accuracy: 0.6884 - val_loss: 0.8446 - val_accuracy: 0.6415\n",
            "Epoch 15/25\n",
            "1426/1426 [==============================] - 55s 38ms/step - loss: 0.6985 - accuracy: 0.6916 - val_loss: 0.8573 - val_accuracy: 0.6375\n",
            "Epoch 16/25\n",
            "1426/1426 [==============================] - 54s 38ms/step - loss: 0.6941 - accuracy: 0.6934 - val_loss: 0.8382 - val_accuracy: 0.6360\n",
            "Epoch 17/25\n",
            "1426/1426 [==============================] - 55s 38ms/step - loss: 0.6902 - accuracy: 0.6961 - val_loss: 0.8441 - val_accuracy: 0.6350\n",
            "Epoch 18/25\n",
            "1426/1426 [==============================] - 55s 38ms/step - loss: 0.6854 - accuracy: 0.6989 - val_loss: 0.8713 - val_accuracy: 0.6320\n",
            "Epoch 19/25\n",
            "1426/1426 [==============================] - 53s 37ms/step - loss: 0.6817 - accuracy: 0.7007 - val_loss: 0.8619 - val_accuracy: 0.6370\n",
            "Epoch 20/25\n",
            "1426/1426 [==============================] - 54s 38ms/step - loss: 0.6767 - accuracy: 0.7048 - val_loss: 0.8732 - val_accuracy: 0.6275\n",
            "Epoch 21/25\n",
            "1426/1426 [==============================] - 56s 39ms/step - loss: 0.6743 - accuracy: 0.7067 - val_loss: 0.8553 - val_accuracy: 0.6275\n",
            "Epoch 22/25\n",
            "1426/1426 [==============================] - 53s 37ms/step - loss: 0.6710 - accuracy: 0.7078 - val_loss: 0.8736 - val_accuracy: 0.6235\n",
            "Epoch 23/25\n",
            "1426/1426 [==============================] - 53s 37ms/step - loss: 0.6678 - accuracy: 0.7076 - val_loss: 0.8976 - val_accuracy: 0.6420\n",
            "Epoch 24/25\n",
            "1426/1426 [==============================] - 56s 39ms/step - loss: 0.6607 - accuracy: 0.7123 - val_loss: 0.8715 - val_accuracy: 0.6380\n",
            "Epoch 25/25\n",
            "1426/1426 [==============================] - 56s 39ms/step - loss: 0.6606 - accuracy: 0.7130 - val_loss: 0.8872 - val_accuracy: 0.6405\n"
          ]
        },
        {
          "output_type": "display_data",
          "data": {
            "text/plain": [
              "<Figure size 1500x500 with 2 Axes>"
            ],
            "image/png": "[encoded data removed]"
          },
          "metadata": {}
        }
      ]
    },
    {
      "cell_type": "code",
      "source": [
        "best_model_index = model_lstm_1_hist_df['val_accuracy'].idxmax()\n",
        "best_model = model_lstm_1_hist_df.iloc[best_model_index]\n",
        "print(\"Best Model Epoch:\", best_model_index + 1)\n",
        "print(\"Validation Accuracy:\", best_model['val_accuracy'])\n",
        "print(\"Validation Loss:\", best_model['val_loss'])\n",
        "\n",
        "# the best model information\n",
        "print(\"\\nBest Model Summary:\")\n",
        "best_model_summary = model_lstm_1.to_json()\n",
        "print(best_model_summary)\n",
        "# saving\n",
        "\n",
        "# best_model.save(\"best_model_lstm_1.h5\")"
      ],
      "metadata": {
        "colab": {
          "base_uri": "https://localhost:8080/"
        },
        "id": "X_OYOjUsX-1k",
        "outputId": "6bd1e949-6b8b-442b-f147-9e76cef1e836"
      },
      "execution_count": 16,
      "outputs": [
        {
          "output_type": "stream",
          "name": "stdout",
          "text": [
            "Best Model Epoch: 11\n",
            "Validation Accuracy: 0.6499999761581421\n",
            "Validation Loss: 0.8410888314247131\n",
            "\n",
            "Best Model Summary:\n",
            "{\"class_name\": \"Sequential\", \"config\": {\"name\": \"sequential_2\", \"layers\": [{\"module\": \"keras.layers\", \"class_name\": \"InputLayer\", \"config\": {\"batch_input_shape\": [null, 32], \"dtype\": \"float32\", \"sparse\": false, \"ragged\": false, \"name\": \"embedding_input\"}, \"registered_name\": null}, {\"module\": \"keras.layers\", \"class_name\": \"Embedding\", \"config\": {\"name\": \"embedding\", \"trainable\": false, \"dtype\": \"float32\", \"batch_input_shape\": [null, 32], \"input_dim\": 27934, \"output_dim\": 128, \"embeddings_initializer\": {\"module\": \"keras.initializers\", \"class_name\": \"RandomUniform\", \"config\": {\"minval\": -0.05, \"maxval\": 0.05, \"seed\": null}, \"registered_name\": null}, \"embeddings_regularizer\": null, \"activity_regularizer\": null, \"embeddings_constraint\": null, \"mask_zero\": false, \"input_length\": 32}, \"registered_name\": null, \"build_config\": {\"input_shape\": [null, 32]}}, {\"module\": \"keras.layers\", \"class_name\": \"Bidirectional\", \"config\": {\"name\": \"bidirectional_4\", \"trainable\": true, \"dtype\": \"float32\", \"layer\": {\"module\": \"keras.layers\", \"class_name\": \"LSTM\", \"config\": {\"name\": \"lstm_4\", \"trainable\": true, \"dtype\": \"float32\", \"return_sequences\": true, \"return_state\": false, \"go_backwards\": false, \"stateful\": false, \"unroll\": false, \"time_major\": false, \"units\": 8, \"activation\": \"tanh\", \"recurrent_activation\": \"sigmoid\", \"use_bias\": true, \"kernel_initializer\": {\"module\": \"keras.initializers\", \"class_name\": \"GlorotUniform\", \"config\": {\"seed\": 42}, \"registered_name\": null}, \"recurrent_initializer\": {\"module\": \"keras.initializers\", \"class_name\": \"Orthogonal\", \"config\": {\"gain\": 1.0, \"seed\": null}, \"registered_name\": null}, \"bias_initializer\": {\"module\": \"keras.initializers\", \"class_name\": \"Zeros\", \"config\": {}, \"registered_name\": null}, \"unit_forget_bias\": true, \"kernel_regularizer\": null, \"recurrent_regularizer\": null, \"bias_regularizer\": null, \"activity_regularizer\": null, \"kernel_constraint\": null, \"recurrent_constraint\": null, \"bias_constraint\": null, \"dropout\": 0.0, \"recurrent_dropout\": 0.0, \"implementation\": 2}, \"registered_name\": null}, \"merge_mode\": \"concat\"}, \"registered_name\": null, \"build_config\": {\"input_shape\": [null, 32, 128]}}, {\"module\": \"keras.layers\", \"class_name\": \"BatchNormalization\", \"config\": {\"name\": \"batch_normalization_4\", \"trainable\": true, \"dtype\": \"float32\", \"axis\": [2], \"momentum\": 0.99, \"epsilon\": 0.001, \"center\": true, \"scale\": true, \"beta_initializer\": {\"module\": \"keras.initializers\", \"class_name\": \"Zeros\", \"config\": {}, \"registered_name\": null}, \"gamma_initializer\": {\"module\": \"keras.initializers\", \"class_name\": \"Ones\", \"config\": {}, \"registered_name\": null}, \"moving_mean_initializer\": {\"module\": \"keras.initializers\", \"class_name\": \"Zeros\", \"config\": {}, \"registered_name\": null}, \"moving_variance_initializer\": {\"module\": \"keras.initializers\", \"class_name\": \"Ones\", \"config\": {}, \"registered_name\": null}, \"beta_regularizer\": null, \"gamma_regularizer\": null, \"beta_constraint\": null, \"gamma_constraint\": null}, \"registered_name\": null, \"build_config\": {\"input_shape\": [null, 32, 16]}}, {\"module\": \"keras.layers\", \"class_name\": \"Dropout\", \"config\": {\"name\": \"dropout_4\", \"trainable\": true, \"dtype\": \"float32\", \"rate\": 0.1, \"noise_shape\": null, \"seed\": null}, \"registered_name\": null, \"build_config\": {\"input_shape\": [null, 32, 16]}}, {\"module\": \"keras.layers\", \"class_name\": \"Bidirectional\", \"config\": {\"name\": \"bidirectional_5\", \"trainable\": true, \"dtype\": \"float32\", \"layer\": {\"module\": \"keras.layers\", \"class_name\": \"LSTM\", \"config\": {\"name\": \"lstm_5\", \"trainable\": true, \"dtype\": \"float32\", \"return_sequences\": false, \"return_state\": false, \"go_backwards\": false, \"stateful\": false, \"unroll\": false, \"time_major\": false, \"units\": 16, \"activation\": \"tanh\", \"recurrent_activation\": \"sigmoid\", \"use_bias\": true, \"kernel_initializer\": {\"module\": \"keras.initializers\", \"class_name\": \"GlorotUniform\", \"config\": {\"seed\": 42}, \"registered_name\": null}, \"recurrent_initializer\": {\"module\": \"keras.initializers\", \"class_name\": \"Orthogonal\", \"config\": {\"gain\": 1.0, \"seed\": null}, \"registered_name\": null}, \"bias_initializer\": {\"module\": \"keras.initializers\", \"class_name\": \"Zeros\", \"config\": {}, \"registered_name\": null}, \"unit_forget_bias\": true, \"kernel_regularizer\": null, \"recurrent_regularizer\": null, \"bias_regularizer\": null, \"activity_regularizer\": null, \"kernel_constraint\": null, \"recurrent_constraint\": null, \"bias_constraint\": null, \"dropout\": 0.0, \"recurrent_dropout\": 0.0, \"implementation\": 2}, \"registered_name\": null}, \"merge_mode\": \"concat\"}, \"registered_name\": null, \"build_config\": {\"input_shape\": [null, 32, 16]}}, {\"module\": \"keras.layers\", \"class_name\": \"BatchNormalization\", \"config\": {\"name\": \"batch_normalization_5\", \"trainable\": true, \"dtype\": \"float32\", \"axis\": [1], \"momentum\": 0.99, \"epsilon\": 0.001, \"center\": true, \"scale\": true, \"beta_initializer\": {\"module\": \"keras.initializers\", \"class_name\": \"Zeros\", \"config\": {}, \"registered_name\": null}, \"gamma_initializer\": {\"module\": \"keras.initializers\", \"class_name\": \"Ones\", \"config\": {}, \"registered_name\": null}, \"moving_mean_initializer\": {\"module\": \"keras.initializers\", \"class_name\": \"Zeros\", \"config\": {}, \"registered_name\": null}, \"moving_variance_initializer\": {\"module\": \"keras.initializers\", \"class_name\": \"Ones\", \"config\": {}, \"registered_name\": null}, \"beta_regularizer\": null, \"gamma_regularizer\": null, \"beta_constraint\": null, \"gamma_constraint\": null}, \"registered_name\": null, \"build_config\": {\"input_shape\": [null, 32]}}, {\"module\": \"keras.layers\", \"class_name\": \"Dropout\", \"config\": {\"name\": \"dropout_5\", \"trainable\": true, \"dtype\": \"float32\", \"rate\": 0.1, \"noise_shape\": null, \"seed\": null}, \"registered_name\": null, \"build_config\": {\"input_shape\": [null, 32]}}, {\"module\": \"keras.layers\", \"class_name\": \"Dense\", \"config\": {\"name\": \"dense_2\", \"trainable\": true, \"dtype\": \"float32\", \"units\": 3, \"activation\": \"softmax\", \"use_bias\": true, \"kernel_initializer\": {\"module\": \"keras.initializers\", \"class_name\": \"GlorotUniform\", \"config\": {\"seed\": null}, \"registered_name\": null}, \"bias_initializer\": {\"module\": \"keras.initializers\", \"class_name\": \"Zeros\", \"config\": {}, \"registered_name\": null}, \"kernel_regularizer\": null, \"bias_regularizer\": null, \"activity_regularizer\": null, \"kernel_constraint\": null, \"bias_constraint\": null}, \"registered_name\": null, \"build_config\": {\"input_shape\": [null, 32]}}]}, \"keras_version\": \"2.15.0\", \"backend\": \"tensorflow\"}\n"
          ]
        }
      ]
    }
  ]
}