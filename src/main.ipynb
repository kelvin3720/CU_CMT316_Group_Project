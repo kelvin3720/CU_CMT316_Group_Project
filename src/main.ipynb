{
 "cells": [
  {
   "cell_type": "markdown",
   "id": "e3c054e6-4504-450d-8234-c9cae7b7aa0c",
   "metadata": {},
   "source": [
    "### Imports"
   ]
  },
  {
   "cell_type": "code",
   "execution_count": 1,
   "id": "23273f6d-f11c-48fc-a7a0-56115f6ad4ae",
   "metadata": {},
   "outputs": [],
   "source": [
    "import nltk\n",
    "import numpy as np"
   ]
  },
  {
   "cell_type": "markdown",
   "id": "76fad0d2-bed8-4c40-b96e-73a4ab591b60",
   "metadata": {},
   "source": [
    "### Helper functions"
   ]
  },
  {
   "cell_type": "code",
   "execution_count": 2,
   "id": "da72e511-2021-4986-a2d2-78723d9b1ebc",
   "metadata": {},
   "outputs": [],
   "source": [
    "def load_text_file(file_path: str) -> np.ndarray:\n",
    "    \"\"\"\n",
    "    Load a text file and return an array of lines from the file.\n",
    "\n",
    "    Args:\n",
    "        file_path: str: The path to the file to load.\n",
    "\n",
    "    Returns:\n",
    "        np.ndarray: An array of lines from the file.\n",
    "    \"\"\"\n",
    "    with open(file_path, 'r', encoding='utf-8') as file:\n",
    "        lines = file.readlines()\n",
    "    return np.array([line.strip() for line in lines])"
   ]
  },
  {
   "cell_type": "markdown",
   "id": "80d3de75-20de-4bfe-a9c6-2c41b6dc5b39",
   "metadata": {},
   "source": [
    "### Load the text files"
   ]
  },
  {
   "cell_type": "code",
   "execution_count": 3,
   "id": "d3a9a7d4-b97b-471b-ae8b-1794810ceaec",
   "metadata": {},
   "outputs": [],
   "source": [
    "train_text_path: str = \"../dataset/train_text.txt\"\n",
    "train_label_path: str = \"../dataset/train_labels.txt\"\n",
    "\n",
    "test_text_path: str = \"../dataset/test_text.txt\"\n",
    "test_label_path: str = \"../dataset/test_text.txt\"\n",
    "\n",
    "validationt_text_path: str = \"../dataset/val_text.txt\"\n",
    "validationt_label_path: str = \"../dataset/val_text.txt\"\n",
    "\n",
    "train_text: np.ndarray = load_text_file(train_text_path)\n",
    "train_label: np.ndarray = load_text_file(train_label_path)\n",
    "\n",
    "test_text: np.ndarray = load_text_file(test_text_path)\n",
    "test_label: np.ndarray = load_text_file(test_label_path)\n",
    "\n",
    "validationt_text: np.ndarray = load_text_file(validationt_text_path)\n",
    "validationt_label: np.ndarray = load_text_file(validationt_label_path)"
   ]
  },
  {
   "cell_type": "markdown",
   "id": "6d8e2122-1846-4b96-8a26-6ad82e682dab",
   "metadata": {},
   "source": [
    "## Kelvin's Part"
   ]
  },
  {
   "cell_type": "markdown",
   "id": "e69e3f0c-e3db-485d-b611-b12f4a2a2c74",
   "metadata": {},
   "source": [
    "### Preprocessing"
   ]
  },
  {
   "cell_type": "code",
   "execution_count": 13,
   "id": "16f43a81-38a2-4361-9a84-753a0d9662c4",
   "metadata": {},
   "outputs": [],
   "source": []
  },
  {
   "cell_type": "markdown",
   "id": "27ce6c93-d423-40bc-98c3-c341d921227e",
   "metadata": {},
   "source": [
    "### Logistic Regression"
   ]
  },
  {
   "cell_type": "code",
   "execution_count": null,
   "id": "61a699c3-27a9-40b1-9dcf-97a18e63e97c",
   "metadata": {},
   "outputs": [],
   "source": []
  },
  {
   "cell_type": "markdown",
   "id": "f3b5ace8-b15b-44c5-884c-75f8ccb950b0",
   "metadata": {},
   "source": [
    "### Result - Logistic Regression"
   ]
  },
  {
   "cell_type": "code",
   "execution_count": null,
   "id": "16abda82-01f9-4b21-80e2-714bcac9d391",
   "metadata": {},
   "outputs": [],
   "source": []
  },
  {
   "cell_type": "markdown",
   "id": "abd88942-e3c9-4a6e-8e7f-a7c4d2a9ce2b",
   "metadata": {},
   "source": [
    "### K-NN"
   ]
  },
  {
   "cell_type": "code",
   "execution_count": null,
   "id": "3bc54690-240a-4198-8834-e280fa355b81",
   "metadata": {},
   "outputs": [],
   "source": []
  },
  {
   "cell_type": "markdown",
   "id": "7ff3be8f-ea40-45ed-bc8e-f3b9fe7e25b1",
   "metadata": {},
   "source": [
    "### Result - K-NN"
   ]
  },
  {
   "cell_type": "code",
   "execution_count": null,
   "id": "13e8d284-54f4-4624-b001-07d77d468b3f",
   "metadata": {},
   "outputs": [],
   "source": []
  },
  {
   "cell_type": "markdown",
   "id": "4816ef55-7669-4f24-9b7f-462038611d3c",
   "metadata": {},
   "source": [
    "### SVM"
   ]
  },
  {
   "cell_type": "code",
   "execution_count": null,
   "id": "746f4812-2955-446e-ac7d-c09bae52fb9c",
   "metadata": {},
   "outputs": [],
   "source": []
  },
  {
   "cell_type": "markdown",
   "id": "11524783-eabb-431e-a528-fab55b5b7d25",
   "metadata": {},
   "source": [
    "### Result - SVM"
   ]
  },
  {
   "cell_type": "code",
   "execution_count": null,
   "id": "46992e16-21ad-42f8-b2c2-af3808a33ca9",
   "metadata": {},
   "outputs": [],
   "source": []
  },
  {
   "cell_type": "markdown",
   "id": "6f9c6336-a12b-45b3-8bf7-1690da58f1e1",
   "metadata": {},
   "source": [
    "## [Name]'s Part"
   ]
  },
  {
   "cell_type": "code",
   "execution_count": null,
   "id": "78b04873-f24b-4c5f-9d4d-2ddb9c3100e9",
   "metadata": {},
   "outputs": [],
   "source": []
  },
  {
   "cell_type": "markdown",
   "id": "5d1e195a-f676-454b-acd8-6fd4fb63fffa",
   "metadata": {},
   "source": [
    "your markdown here"
   ]
  }
 ],
 "metadata": {
  "kernelspec": {
   "display_name": "Python 3 (ipykernel)",
   "language": "python",
   "name": "python3"
  },
  "language_info": {
   "codemirror_mode": {
    "name": "ipython",
    "version": 3
   },
   "file_extension": ".py",
   "mimetype": "text/x-python",
   "name": "python",
   "nbconvert_exporter": "python",
   "pygments_lexer": "ipython3",
   "version": "3.10.14"
  }
 },
 "nbformat": 4,
 "nbformat_minor": 5
}
