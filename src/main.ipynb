{
 "cells": [
  {
   "cell_type": "markdown",
   "id": "e3c054e6-4504-450d-8234-c9cae7b7aa0c",
   "metadata": {},
   "source": [
    "### Imports"
   ]
  },
  {
   "cell_type": "code",
   "execution_count": 1,
   "id": "23273f6d-f11c-48fc-a7a0-56115f6ad4ae",
   "metadata": {},
   "outputs": [],
   "source": [
    "import matplotlib.pyplot as plt\n",
    "import nltk\n",
    "from nltk.stem import WordNetLemmatizer\n",
    "import numpy as np\n",
    "import tensorflow as tf"
   ]
  },
  {
   "cell_type": "markdown",
   "id": "76fad0d2-bed8-4c40-b96e-73a4ab591b60",
   "metadata": {},
   "source": [
    "### Helper functions"
   ]
  },
  {
   "cell_type": "code",
   "execution_count": 2,
   "id": "da72e511-2021-4986-a2d2-78723d9b1ebc",
   "metadata": {},
   "outputs": [],
   "source": [
    "def load_text_file(file_path: str) -> list[str]:\n",
    "    \"\"\"\n",
    "    Load a text file and return an array of lines from the file.\n",
    "\n",
    "    Args:\n",
    "        file_path: str: The path to the file to load.\n",
    "\n",
    "    Returns:\n",
    "        list[str]: An array of lines from the file.\n",
    "    \"\"\"\n",
    "    with open(file_path, \"r\", encoding=\"utf-8\") as file:\n",
    "        lines = file.readlines()\n",
    "    return [line.strip() for line in lines]"
   ]
  },
  {
   "cell_type": "markdown",
   "id": "80d3de75-20de-4bfe-a9c6-2c41b6dc5b39",
   "metadata": {},
   "source": [
    "### Load the text files"
   ]
  },
  {
   "cell_type": "code",
   "execution_count": 3,
   "id": "d3a9a7d4-b97b-471b-ae8b-1794810ceaec",
   "metadata": {},
   "outputs": [],
   "source": [
    "train_text_path: str = \"../dataset/train_text.txt\"\n",
    "train_label_path: str = \"../dataset/train_labels.txt\"\n",
    "\n",
    "test_text_path: str = \"../dataset/test_text.txt\"\n",
    "test_label_path: str = \"../dataset/test_labels.txt\"\n",
    "\n",
    "validationt_text_path: str = \"../dataset/val_text.txt\"\n",
    "validationt_label_path: str = \"../dataset/val_labels.txt\"\n",
    "\n",
    "train_text: list[str] = load_text_file(train_text_path)\n",
    "train_label: list[str] = load_text_file(train_label_path)\n",
    "\n",
    "test_text: list[str] = load_text_file(test_text_path)\n",
    "test_label: list[str] = load_text_file(test_label_path)\n",
    "\n",
    "validation_text: list[str] = load_text_file(validationt_text_path)\n",
    "validation_label: list[str] = load_text_file(validationt_label_path)"
   ]
  },
  {
   "cell_type": "markdown",
   "id": "6d8e2122-1846-4b96-8a26-6ad82e682dab",
   "metadata": {},
   "source": [
    "## Kelvin's Part"
   ]
  },
  {
   "cell_type": "markdown",
   "id": "e69e3f0c-e3db-485d-b611-b12f4a2a2c74",
   "metadata": {},
   "source": [
    "### Preprocessing"
   ]
  },
  {
   "cell_type": "code",
   "execution_count": 4,
   "id": "739bd948",
   "metadata": {},
   "outputs": [],
   "source": [
    "# Set stopwords\n",
    "nltk.download(\"stopwords\", quiet=True)\n",
    "nltk.download('punkt', quiet=True)\n",
    "nltk.download('wordnet', quiet=True)\n",
    "stopwords = set(nltk.corpus.stopwords.words(\"english\"))\n",
    "stopwords.update(\"i\")\n",
    "\n",
    "# Declare Emojis\n",
    "emojis = [\n",
    "    \"😊\",\n",
    "    \"😂\",\n",
    "    \"😭\",\n",
    "    \"😍\",\n",
    "    \"😘\",\n",
    "    \"😁\",\n",
    "    \"😩\",\n",
    "    \"😏\",\n",
    "    \"😉\",\n",
    "    \"😎\",\n",
    "    \"😢\",\n",
    "    \"😅\",\n",
    "    \"😱\",\n",
    "    \"😆\",\n",
    "    \"😋\",\n",
    "    \"😷\",\n",
    "    \"😔\",\n",
    "    \"😒\",\n",
    "    \"😡\",\n",
    "    \"😪\",\n",
    "    \"😤\",\n",
    "    \"😝\",\n",
    "    \"😓\",\n",
    "    \"😖\",\n",
    "    \"😣\",\n",
    "    \"😞\",\n",
    "    \"😐\",\n",
    "    \"😕\",\n",
    "    \"😫\",\n",
    "    \"😨\",\n",
    "    \"😌\",\n",
    "    \"😜\",\n",
    "    \"😑\",\n",
    "    \"😬\",\n",
    "    \"😈\",\n",
    "    \"😯\",\n",
    "    \"😳\",\n",
    "    \"😇\",\n",
    "    \"😷\",\n",
    "    \"😴\",\n",
    "    \"😲\",\n",
    "    \"😵\",\n",
    "    \"😦\",\n",
    "    \"😢\",\n",
    "    \"😮\",\n",
    "    \"😟\",\n",
    "    \"😥\",\n",
    "    \"😧\",\n",
    "    \"😰\",\n",
    "    \"😭\",\n",
    "    \"😓\",\n",
    "    \"😩\",\n",
    "    \"😿\",\n",
    "    \"😾\",\n",
    "    \"🙀\",\n",
    "    \"🙅\",\n",
    "    \"🙆\",\n",
    "    \"🙇\",\n",
    "    \"🙈\",\n",
    "    \"🙉\",\n",
    "    \"🙊\",\n",
    "    \"🙋\",\n",
    "    \"🙌\",\n",
    "    \"🙍\",\n",
    "    \"🙎\",\n",
    "    \"🙏\",\n",
    "    \":)\",\n",
    "    \":(\",\n",
    "]\n",
    "\n",
    "# Declare a dict of emojis and their corresponding sentiment\n",
    "# 0: Negative; 1: Neutral; 2: Positive\n",
    "emoji_dict = {\n",
    "    \"😊\": 2,\n",
    "    \"😂\": 2,\n",
    "    \"😭\": 0,\n",
    "    \"😍\": 2,\n",
    "    \"😘\": 2,\n",
    "    \"😁\": 2,\n",
    "    \"😩\": 0,\n",
    "    \"😏\": 2,\n",
    "    \"😉\": 2,\n",
    "    \"😎\": 2,\n",
    "    \"😢\": 0,\n",
    "    \"😅\": 2,\n",
    "    \"😱\": 0,\n",
    "    \"😆\": 2,\n",
    "    \"😋\": 2,\n",
    "    \"😷\": 0,\n",
    "    \"😔\": 0,\n",
    "    \"😒\": 0,\n",
    "    \"😡\": 0,\n",
    "    \"😪\": 0,\n",
    "    \"😤\": 0,\n",
    "    \"😝\": 2,\n",
    "    \"😓\": 0,\n",
    "    \"😖\": 0,\n",
    "    \"😣\": 0,\n",
    "    \"😞\": 0,\n",
    "    \"😐\": 1,\n",
    "    \"😕\": 0,\n",
    "    \"😫\": 0,\n",
    "    \"😨\": 0,\n",
    "    \"😌\": 2,\n",
    "    \"😜\": 2,\n",
    "    \"😑\": 1,\n",
    "    \"😬\": 0,\n",
    "    \"😈\": 0,\n",
    "    \"😯\": 0,\n",
    "    \"😳\": 0,\n",
    "    \"😇\": 2,\n",
    "    \"😷\": 0,\n",
    "    \"😴\": 0,\n",
    "    \"😲\": 0,\n",
    "    \"😵\": 0,\n",
    "    \"😦\": 0,\n",
    "    \"😢\": 0,\n",
    "    \"😮\": 0,\n",
    "    \"😟\": 0,\n",
    "    \"😥\": 0,\n",
    "    \"😧\": 0,\n",
    "    \"😰\": 0,\n",
    "    \"😭\": 0,\n",
    "    \"😓\": 0,\n",
    "    \"😩\": 0,\n",
    "    \"😿\": 0,\n",
    "    \"😾\": 0,\n",
    "    \"🙀\": 0,\n",
    "    \"🙅\": 0,\n",
    "    \"🙆\": 0,\n",
    "    \"🙇\": 0,\n",
    "    \"🙈\": 0,\n",
    "    \"🙉\": 0,\n",
    "    \"🙊\": 0,\n",
    "    \"🙋\": 0,\n",
    "    \"🙌\": 0,\n",
    "    \"🙍\": 0,\n",
    "    \"🙎\": 0,\n",
    "    \"🙏\": 0,\n",
    "    \":)\": 2,\n",
    "    \":(\": 0,\n",
    "}"
   ]
  },
  {
   "cell_type": "markdown",
   "id": "6c4a3361",
   "metadata": {},
   "source": [
    "### Functions"
   ]
  },
  {
   "cell_type": "code",
   "execution_count": 5,
   "id": "4d5ad60a",
   "metadata": {},
   "outputs": [],
   "source": [
    "def text_processing(text: list[str]) -> list[list[str]]:\n",
    "    \"\"\"\n",
    "    Process text data:\n",
    "    - Remove '@user'\n",
    "    - Replace emojis with their corresponding sentiment.\n",
    "    - Normalize the text.\n",
    "    - Tokenize the text.\n",
    "    - Lowercase the text.\n",
    "    - Remove stop words.\n",
    "    - Remove punctuation.\n",
    "    - Keep emojis.\n",
    "    - Remove numbers.\n",
    "\n",
    "    Args:\n",
    "        text: list[str]: A list of text data.\n",
    "\n",
    "    Returns:\n",
    "        list[list[str]]: A list of list of processed text data.\n",
    "    \"\"\"\n",
    "    processed_text = []\n",
    "    for line in text:\n",
    "        # Remove '@user'\n",
    "        line = line.replace(\"@user\", \"\")\n",
    "        # Replace emojis with their corresponding sentiment\n",
    "        line = replace_emojis(line)\n",
    "        # Normalize the text using WordNetLemmatizer and tokenize the text\n",
    "        lemmatizer = WordNetLemmatizer()\n",
    "        tokens = nltk.word_tokenize(line)\n",
    "        tokens = [lemmatizer.lemmatize(word) for word in tokens]\n",
    "        # Lowercase the text\n",
    "        tokens = [word.lower() for word in tokens]\n",
    "        # Remove stop words\n",
    "        tokens = [word for word in tokens if word not in stopwords]\n",
    "        # Remove punctuation but keep emojis\n",
    "        tokens = [word for word in tokens if word.isalnum() or word in emojis]\n",
    "        # Remove numbers\n",
    "        tokens = [word for word in tokens if not word.isnumeric()]\n",
    "        processed_text.append(tokens)\n",
    "\n",
    "    return processed_text\n",
    "\n",
    "\n",
    "def vectorize_text(\n",
    "    input: list[list[str]], vocabulary: list[str]\n",
    ") -> np.ndarray[np.ndarray[float]]:\n",
    "    \"\"\"\n",
    "    Vectorize the text data.\n",
    "\n",
    "    Args:\n",
    "        input: list[list[str]]: A list of list of text data.\n",
    "        vocabulary: list[str]: The list of 1000 most common words.\n",
    "\n",
    "    Returns:\n",
    "        np.ndarray[np.ndarray[float]]: A numpy array of vectorized text data.\n",
    "    \"\"\"\n",
    "    vectorized_text = np.zeros((len(input), len(vocabulary)))\n",
    "    for i, line in enumerate(input):\n",
    "        for word in line:\n",
    "            if word in vocabulary:\n",
    "                vectorized_text[i, vocabulary.index(word)] += 1\n",
    "    return vectorized_text\n",
    "\n",
    "\n",
    "def map_emoji_sentiment(input: int) -> str:\n",
    "    \"\"\"\n",
    "    Map the emoji sentiment to a string.\n",
    "\n",
    "    Args:\n",
    "        input: int: The emoji sentiment.\n",
    "\n",
    "    Returns:\n",
    "        str: The string sentiment.\n",
    "    \"\"\"\n",
    "    if input == 0:\n",
    "        return \"negative\"\n",
    "    elif input == 1:\n",
    "        return \"neutral\"\n",
    "    elif input == 2:\n",
    "        return \"positive\"\n",
    "    else:\n",
    "        return \"neutral\"\n",
    "\n",
    "\n",
    "def replace_emojis(input: str) -> str:\n",
    "    \"\"\"\n",
    "    Replace emojis with their corresponding sentiment.\n",
    "    If the emoji is 0, replace it with 'negative'.\n",
    "    If the emoji is 1, replace it with 'neutral'.\n",
    "    If the emoji is 2, replace it with 'positive'.\n",
    "    If the emoji is not in the emoji_dict, replace it with 'neutral'.\n",
    "\n",
    "    Args:\n",
    "        input: str: The input text data.\n",
    "\n",
    "    Returns:\n",
    "        str: The text data with emojis replaced with their corresponding sentiment.\n",
    "    \"\"\"\n",
    "    for emoji in emojis:\n",
    "        if emoji in input:\n",
    "            input = input.replace(emoji, map_emoji_sentiment(emoji_dict[emoji]))\n",
    "    return input"
   ]
  },
  {
   "cell_type": "markdown",
   "id": "b9bd3ec3",
   "metadata": {},
   "source": [
    "### Process the text data"
   ]
  },
  {
   "cell_type": "code",
   "execution_count": 6,
   "id": "cff173be",
   "metadata": {},
   "outputs": [],
   "source": [
    "# Process all text data\n",
    "train_text: list[list[str]] = text_processing(train_text)\n",
    "test_text: list[list[str]] = text_processing(test_text)\n",
    "validation_text: list[list[str]] = text_processing(validation_text)"
   ]
  },
  {
   "cell_type": "code",
   "execution_count": 8,
   "id": "c37400ab",
   "metadata": {},
   "outputs": [],
   "source": [
    "# Find index of lists in train_text and validation_text that are empty\n",
    "empty_index_train = [i for i, x in enumerate(train_text) if not x]\n",
    "empty_index_validation = [i for i, x in enumerate(validation_text) if not x]\n",
    "\n",
    "# Remove empty lists from train_text and validation_text, and corresponding labels\n",
    "train_text = [\n",
    "    train_text[i] for i in range(len(train_text)) if i not in empty_index_train\n",
    "]\n",
    "train_label = [\n",
    "    train_label[i] for i in range(len(train_label)) if i not in empty_index_train\n",
    "]\n",
    "validation_text = [\n",
    "    validation_text[i]\n",
    "    for i in range(len(validation_text))\n",
    "    if i not in empty_index_validation\n",
    "]\n",
    "validation_label = [\n",
    "    validation_label[i]\n",
    "    for i in range(len(validation_label))\n",
    "    if i not in empty_index_validation\n",
    "]"
   ]
  },
  {
   "cell_type": "code",
   "execution_count": 9,
   "id": "bf719d67",
   "metadata": {},
   "outputs": [],
   "source": [
    "# Find the 1000 most common words in the training data\n",
    "word_frequency: dict[str, int] = {}\n",
    "for line in train_text:\n",
    "    for word in line:\n",
    "        if word in word_frequency:\n",
    "            word_frequency[word] += 1\n",
    "        else:\n",
    "            word_frequency[word] = 1\n",
    "\n",
    "vocabulary: list[str] = [\n",
    "    word\n",
    "    for word, _ in sorted(word_frequency.items(), key=lambda x: x[1], reverse=True)[\n",
    "        :1000\n",
    "    ]\n",
    "]"
   ]
  },
  {
   "cell_type": "code",
   "execution_count": 10,
   "id": "21920b07",
   "metadata": {},
   "outputs": [],
   "source": [
    "# Convert the labels to integers\n",
    "train_label: list[int] = [int(label) for label in train_label]\n",
    "test_label: list[int] = [int(label) for label in test_label]\n",
    "validation_label: list[int] = [int(label) for label in validation_label]"
   ]
  },
  {
   "cell_type": "markdown",
   "id": "47571218",
   "metadata": {},
   "source": [
    "### Vectorize the input"
   ]
  },
  {
   "cell_type": "code",
   "execution_count": 11,
   "id": "88fa95f4",
   "metadata": {},
   "outputs": [],
   "source": [
    "# Vectorize the text data\n",
    "train_vectorized: np.ndarray[np.ndarray[float]] = vectorize_text(train_text, vocabulary)\n",
    "test_vectorized: np.ndarray[np.ndarray[float]] = vectorize_text(test_text, vocabulary)\n",
    "validation_vectorized: np.ndarray[np.ndarray[float]] = vectorize_text(\n",
    "    validation_text, vocabulary\n",
    ")"
   ]
  },
  {
   "cell_type": "code",
   "execution_count": 12,
   "id": "29eac8c8",
   "metadata": {},
   "outputs": [
    {
     "name": "stdout",
     "output_type": "stream",
     "text": [
      "Original training data size: 45615\n",
      "Original validation data size: 2000\n",
      "Processed training data size: 45602\n",
      "Processed validation data size: 2000\n"
     ]
    }
   ],
   "source": [
    "# Find the entries with all zeros in the vectorized data\n",
    "zero_index_train: np.ndarray[int] = np.where(~train_vectorized.any(axis=1))[0]\n",
    "zero_index_validation: np.ndarray[int] = np.where(~validation_vectorized.any(axis=1))[0]\n",
    "\n",
    "print(\"Original training data size:\", len(train_vectorized))\n",
    "print(\"Original validation data size:\", len(validation_vectorized))\n",
    "\n",
    "# Remove entries with all zeros in the vectorized data, and corresponding labels\n",
    "train_vectorized: np.ndarray[np.ndarray[float]] = np.delete(\n",
    "    train_vectorized, zero_index_train, axis=0\n",
    ")\n",
    "train_label: list[int] = [\n",
    "    train_label[i] for i in range(len(train_label)) if i not in zero_index_train\n",
    "]\n",
    "validation_vectorized: np.ndarray[np.ndarray[float]] = np.delete(\n",
    "    validation_vectorized, zero_index_validation, axis=0\n",
    ")\n",
    "validation_label: list[int] = [\n",
    "    validation_label[i]\n",
    "    for i in range(len(validation_label))\n",
    "    if i not in zero_index_validation\n",
    "]\n",
    "\n",
    "print(\"Processed training data size:\", len(train_vectorized))\n",
    "print(\"Processed validation data size:\", len(validation_vectorized))"
   ]
  },
  {
   "cell_type": "code",
   "execution_count": 13,
   "id": "a7f8c4b6",
   "metadata": {},
   "outputs": [
    {
     "name": "stdout",
     "output_type": "stream",
     "text": [
      "Training data shape: (45602, 1000)\n"
     ]
    }
   ],
   "source": [
    "print(\"Training data shape:\", train_vectorized.shape)"
   ]
  },
  {
   "cell_type": "markdown",
   "id": "11524783-eabb-431e-a528-fab55b5b7d25",
   "metadata": {},
   "source": [
    "### CNN"
   ]
  },
  {
   "cell_type": "code",
   "execution_count": 14,
   "id": "8e7a6327",
   "metadata": {},
   "outputs": [
    {
     "name": "stdout",
     "output_type": "stream",
     "text": [
      "Epoch 1/10\n"
     ]
    },
    {
     "name": "stderr",
     "output_type": "stream",
     "text": [
      "c:\\Users\\Kelvin\\anaconda3\\envs\\CU_ML_CNN\\Lib\\site-packages\\keras\\src\\layers\\core\\dense.py:88: UserWarning: Do not pass an `input_shape`/`input_dim` argument to a layer. When using Sequential models, prefer using an `Input(shape)` object as the first layer in the model instead.\n",
      "  super().__init__(activity_regularizer=activity_regularizer, **kwargs)\n"
     ]
    },
    {
     "name": "stdout",
     "output_type": "stream",
     "text": [
      "\u001b[1m1426/1426\u001b[0m \u001b[32m━━━━━━━━━━━━━━━━━━━━\u001b[0m\u001b[37m\u001b[0m \u001b[1m10s\u001b[0m 6ms/step - accuracy: 0.4398 - loss: 1.0594 - val_accuracy: 0.5945 - val_loss: 0.8992\n",
      "Epoch 2/10\n",
      "\u001b[1m1426/1426\u001b[0m \u001b[32m━━━━━━━━━━━━━━━━━━━━\u001b[0m\u001b[37m\u001b[0m \u001b[1m9s\u001b[0m 6ms/step - accuracy: 0.5866 - loss: 0.9007 - val_accuracy: 0.6175 - val_loss: 0.8439\n",
      "Epoch 3/10\n",
      "\u001b[1m1426/1426\u001b[0m \u001b[32m━━━━━━━━━━━━━━━━━━━━\u001b[0m\u001b[37m\u001b[0m \u001b[1m9s\u001b[0m 6ms/step - accuracy: 0.6144 - loss: 0.8472 - val_accuracy: 0.6415 - val_loss: 0.8169\n",
      "Epoch 4/10\n",
      "\u001b[1m1426/1426\u001b[0m \u001b[32m━━━━━━━━━━━━━━━━━━━━\u001b[0m\u001b[37m\u001b[0m \u001b[1m9s\u001b[0m 6ms/step - accuracy: 0.6269 - loss: 0.8189 - val_accuracy: 0.6460 - val_loss: 0.8026\n",
      "Epoch 5/10\n",
      "\u001b[1m1426/1426\u001b[0m \u001b[32m━━━━━━━━━━━━━━━━━━━━\u001b[0m\u001b[37m\u001b[0m \u001b[1m8s\u001b[0m 6ms/step - accuracy: 0.6253 - loss: 0.8149 - val_accuracy: 0.6465 - val_loss: 0.8021\n",
      "Epoch 6/10\n",
      "\u001b[1m1426/1426\u001b[0m \u001b[32m━━━━━━━━━━━━━━━━━━━━\u001b[0m\u001b[37m\u001b[0m \u001b[1m8s\u001b[0m 6ms/step - accuracy: 0.6347 - loss: 0.8082 - val_accuracy: 0.6475 - val_loss: 0.8040\n",
      "Epoch 7/10\n",
      "\u001b[1m1426/1426\u001b[0m \u001b[32m━━━━━━━━━━━━━━━━━━━━\u001b[0m\u001b[37m\u001b[0m \u001b[1m8s\u001b[0m 6ms/step - accuracy: 0.6421 - loss: 0.7917 - val_accuracy: 0.6405 - val_loss: 0.8041\n",
      "Epoch 8/10\n",
      "\u001b[1m1426/1426\u001b[0m \u001b[32m━━━━━━━━━━━━━━━━━━━━\u001b[0m\u001b[37m\u001b[0m \u001b[1m8s\u001b[0m 6ms/step - accuracy: 0.6444 - loss: 0.7912 - val_accuracy: 0.6475 - val_loss: 0.7951\n",
      "Epoch 9/10\n",
      "\u001b[1m1426/1426\u001b[0m \u001b[32m━━━━━━━━━━━━━━━━━━━━\u001b[0m\u001b[37m\u001b[0m \u001b[1m8s\u001b[0m 6ms/step - accuracy: 0.6398 - loss: 0.7943 - val_accuracy: 0.6500 - val_loss: 0.8011\n",
      "Epoch 10/10\n",
      "\u001b[1m1426/1426\u001b[0m \u001b[32m━━━━━━━━━━━━━━━━━━━━\u001b[0m\u001b[37m\u001b[0m \u001b[1m9s\u001b[0m 6ms/step - accuracy: 0.6451 - loss: 0.7920 - val_accuracy: 0.6435 - val_loss: 0.7970\n"
     ]
    }
   ],
   "source": [
    "# Convert the labels to one-hot encoding\n",
    "train_label_one_hot: np.ndarray[np.ndarray[float]] = tf.one_hot(train_label, 3)\n",
    "validation_label_one_hot: np.ndarray[np.ndarray[float]] = tf.one_hot(\n",
    "    validation_label, 3\n",
    ")\n",
    "\n",
    "# Define the model\n",
    "model = tf.keras.models.Sequential(\n",
    "    [\n",
    "        tf.keras.layers.Dense(1024, input_shape=(1000,), activation=\"sigmoid\"),\n",
    "        tf.keras.layers.Dropout(0.5),\n",
    "        tf.keras.layers.Dense(512, activation=\"sigmoid\"),\n",
    "        tf.keras.layers.Dropout(0.5),\n",
    "        tf.keras.layers.Dense(256, activation=\"sigmoid\"),\n",
    "        tf.keras.layers.Dropout(0.5),\n",
    "        tf.keras.layers.Dense(3, activation=\"softmax\"),\n",
    "    ]\n",
    ")\n",
    "\n",
    "model.compile(optimizer=\"adam\", loss=\"categorical_crossentropy\", metrics=[\"accuracy\"])\n",
    "\n",
    "# Train the model\n",
    "history = model.fit(\n",
    "    train_vectorized,\n",
    "    train_label_one_hot,\n",
    "    validation_data=(validation_vectorized, validation_label_one_hot),\n",
    "    epochs=10,\n",
    "    batch_size=32,\n",
    ")"
   ]
  },
  {
   "cell_type": "code",
   "execution_count": 15,
   "id": "c165f63e",
   "metadata": {},
   "outputs": [
    {
     "name": "stdout",
     "output_type": "stream",
     "text": [
      "\u001b[1m384/384\u001b[0m \u001b[32m━━━━━━━━━━━━━━━━━━━━\u001b[0m\u001b[37m\u001b[0m \u001b[1m1s\u001b[0m 1ms/step - accuracy: 0.5602 - loss: 0.9321\n",
      "Test loss: 0.9323558211326599\n",
      "Test accuracy: 0.5610550045967102\n"
     ]
    }
   ],
   "source": [
    "# Evaluate the model\n",
    "test_label_one_hot: np.ndarray[np.ndarray[float]] = tf.one_hot(test_label, 3)\n",
    "test_loss, test_accuracy = model.evaluate(test_vectorized, test_label_one_hot)\n",
    "print(\"Test loss:\", test_loss)\n",
    "print(\"Test accuracy:\", test_accuracy)"
   ]
  },
  {
   "cell_type": "code",
   "execution_count": 16,
   "id": "c2f183d4",
   "metadata": {},
   "outputs": [
    {
     "data": {
      "image/png": "[encoded data removed]",
      "text/plain": [
       "<Figure size 640x480 with 1 Axes>"
      ]
     },
     "metadata": {},
     "output_type": "display_data"
    },
    {
     "data": {
      "image/png": "[encoded data removed]",
      "text/plain": [
       "<Figure size 640x480 with 1 Axes>"
      ]
     },
     "metadata": {},
     "output_type": "display_data"
    }
   ],
   "source": [
    "# Plot the training and validation accuracy\n",
    "plt.plot(history.history[\"accuracy\"], label=\"accuracy\")\n",
    "plt.plot(history.history[\"val_accuracy\"], label=\"val_accuracy\")\n",
    "plt.xlabel(\"Epoch\")\n",
    "plt.ylabel(\"Accuracy\")\n",
    "plt.legend(loc=\"lower right\")\n",
    "plt.show()\n",
    "\n",
    "# Plot the training and validation loss\n",
    "plt.plot(history.history[\"loss\"], label=\"loss\")\n",
    "plt.plot(history.history[\"val_loss\"], label=\"val_loss\")\n",
    "plt.xlabel(\"Epoch\")\n",
    "plt.ylabel(\"Loss\")\n",
    "plt.legend(loc=\"upper right\")\n",
    "plt.show()"
   ]
  }
 ],
 "metadata": {
  "kernelspec": {
   "display_name": "Python 3 (ipykernel)",
   "language": "python",
   "name": "python3"
  },
  "language_info": {
   "codemirror_mode": {
    "name": "ipython",
    "version": 3
   },
   "file_extension": ".py",
   "mimetype": "text/x-python",
   "name": "python",
   "nbconvert_exporter": "python",
   "pygments_lexer": "ipython3",
   "version": "3.11.8"
  }
 },
 "nbformat": 4,
 "nbformat_minor": 5
}
