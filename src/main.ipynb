{
 "cells": [
  {
   "cell_type": "markdown",
   "id": "28d182dc",
   "metadata": {},
   "source": [
    "### Imports"
   ]
  },
  {
   "cell_type": "code",
   "execution_count": 1,
   "id": "5fb147de",
   "metadata": {},
   "outputs": [
    {
     "name": "stdout",
     "output_type": "stream",
     "text": [
      "\u001b[33mWARNING: Running pip as the 'root' user can result in broken permissions and conflicting behaviour with the system package manager. It is recommended to use a virtual environment instead: https://pip.pypa.io/warnings/venv\u001b[0m\u001b[33m\n",
      "\u001b[0m\u001b[33mWARNING: Running pip as the 'root' user can result in broken permissions and conflicting behaviour with the system package manager. It is recommended to use a virtual environment instead: https://pip.pypa.io/warnings/venv\u001b[0m\u001b[33m\n",
      "\u001b[0m\u001b[33mWARNING: Running pip as the 'root' user can result in broken permissions and conflicting behaviour with the system package manager. It is recommended to use a virtual environment instead: https://pip.pypa.io/warnings/venv\u001b[0m\u001b[33m\n",
      "\u001b[0m"
     ]
    }
   ],
   "source": [
    "# For Docker image tensorflow/tensorflow:2.14.0-gpu-juptyer and latest-gpu-jupyter \n",
    "# About the latest tag: sha256:efc25f8ad0ec337e8f4e2de9e7e8e391e6729481c7a7cae4bdea3137da7822c6\n",
    "!pip install -q nltk\n",
    "!pip install -q transformers\n",
    "!pip install -q tf-keras"
   ]
  },
  {
   "cell_type": "code",
   "execution_count": 2,
   "id": "26a959c0",
   "metadata": {},
   "outputs": [
    {
     "name": "stderr",
     "output_type": "stream",
     "text": [
      "2024-04-21 20:36:23.118492: I tensorflow/core/platform/cpu_feature_guard.cc:210] This TensorFlow binary is optimized to use available CPU instructions in performance-critical operations.\n",
      "To enable the following instructions: AVX2 FMA, in other operations, rebuild TensorFlow with the appropriate compiler flags.\n"
     ]
    }
   ],
   "source": [
    "from typing import Union\n",
    "import matplotlib.pyplot as plt\n",
    "import nltk\n",
    "from nltk.stem import WordNetLemmatizer\n",
    "import numpy as np\n",
    "from numpy import ndarray\n",
    "import tensorflow as tf"
   ]
  },
  {
   "cell_type": "code",
   "execution_count": 3,
   "id": "61904ce3",
   "metadata": {},
   "outputs": [
    {
     "name": "stdout",
     "output_type": "stream",
     "text": [
      "GPU available, using GPU\n"
     ]
    },
    {
     "name": "stderr",
     "output_type": "stream",
     "text": [
      "2024-04-21 20:36:24.311015: I external/local_xla/xla/stream_executor/cuda/cuda_executor.cc:984] could not open file to read NUMA node: /sys/bus/pci/devices/0000:01:00.0/numa_node\n",
      "Your kernel may have been built without NUMA support.\n",
      "2024-04-21 20:36:24.315828: I external/local_xla/xla/stream_executor/cuda/cuda_executor.cc:984] could not open file to read NUMA node: /sys/bus/pci/devices/0000:01:00.0/numa_node\n",
      "Your kernel may have been built without NUMA support.\n",
      "2024-04-21 20:36:24.315862: I external/local_xla/xla/stream_executor/cuda/cuda_executor.cc:984] could not open file to read NUMA node: /sys/bus/pci/devices/0000:01:00.0/numa_node\n",
      "Your kernel may have been built without NUMA support.\n"
     ]
    }
   ],
   "source": [
    "# The device_name will be used in model.fit()\n",
    "gpu_devices = tf.config.experimental.list_physical_devices(\"GPU\")\n",
    "\n",
    "if gpu_devices:\n",
    "    print(\"GPU available, using GPU\")\n",
    "    tf.config.experimental.set_visible_devices(gpu_devices[0], \"GPU\")\n",
    "    device_name = \"/GPU:0\"\n",
    "else:\n",
    "    print(\"GPU not available, using CPU\")\n",
    "    device_name = \"/CPU:0\""
   ]
  },
  {
   "cell_type": "markdown",
   "id": "46b3f7e8",
   "metadata": {},
   "source": [
    "### Function for loading data set"
   ]
  },
  {
   "cell_type": "code",
   "execution_count": 4,
   "id": "29c7661b",
   "metadata": {},
   "outputs": [],
   "source": [
    "def load_text_file(file_path: str) -> list[str]:\n",
    "    \"\"\"\n",
    "    Load a text file and return an array of lines from the file.\n",
    "\n",
    "    Args:\n",
    "        file_path: str: The path to the file to load.\n",
    "\n",
    "    Returns:\n",
    "        list[str]: An array of lines from the file.\n",
    "    \"\"\"\n",
    "    with open(file_path, \"r\", encoding=\"utf-8\") as file:\n",
    "        lines = file.readlines()\n",
    "    return [line.strip() for line in lines]"
   ]
  },
  {
   "cell_type": "markdown",
   "id": "4751e373",
   "metadata": {},
   "source": [
    "### Load the text files"
   ]
  },
  {
   "cell_type": "code",
   "execution_count": 5,
   "id": "819ff3c4",
   "metadata": {},
   "outputs": [],
   "source": [
    "train_text_path: str = \"../dataset/train_text.txt\"\n",
    "train_label_path: str = \"../dataset/train_labels.txt\"\n",
    "\n",
    "test_text_path: str = \"../dataset/test_text.txt\"\n",
    "test_label_path: str = \"../dataset/test_labels.txt\"\n",
    "\n",
    "validationt_text_path: str = \"../dataset/val_text.txt\"\n",
    "validationt_label_path: str = \"../dataset/val_labels.txt\"\n",
    "\n",
    "train_text: list[str] = load_text_file(train_text_path)\n",
    "train_label: list[str] = load_text_file(train_label_path)\n",
    "\n",
    "test_text: list[str] = load_text_file(test_text_path)\n",
    "test_label: list[str] = load_text_file(test_label_path)\n",
    "\n",
    "validation_text: list[str] = load_text_file(validationt_text_path)\n",
    "validation_label: list[str] = load_text_file(validationt_label_path)"
   ]
  },
  {
   "cell_type": "markdown",
   "id": "c6cd336c",
   "metadata": {},
   "source": [
    "### Preprocessing"
   ]
  },
  {
   "cell_type": "markdown",
   "id": "a5da2e83",
   "metadata": {},
   "source": [
    "#### Download the NLTK resources and declere global variables"
   ]
  },
  {
   "cell_type": "code",
   "execution_count": 6,
   "id": "3bc75d8f",
   "metadata": {},
   "outputs": [],
   "source": [
    "# Set stopwords\n",
    "nltk.download(\"stopwords\", quiet=True)\n",
    "nltk.download(\"punkt\", quiet=True)\n",
    "nltk.download(\"wordnet\", quiet=True)\n",
    "nltk.download(\"omw-1.4\", quiet=True)\n",
    "nltk.download(\"vader_lexicon\", quiet=True)\n",
    "nltk.download('averaged_perceptron_tagger', quiet=True)\n",
    "stopwords = set(nltk.corpus.stopwords.words(\"english\"))\n",
    "lemmatizer = WordNetLemmatizer()\n",
    "\n",
    "# Declare a dict of emojis and their corresponding sentiment\n",
    "# 0: Negative; 1: Neutral; 2: Positive\n",
    "emoji_dict = {\n",
    "    \"😊\": 2,\n",
    "    \"😂\": 2,\n",
    "    \"😭\": 0,\n",
    "    \"😍\": 2,\n",
    "    \"😘\": 2,\n",
    "    \"😁\": 2,\n",
    "    \"😩\": 0,\n",
    "    \"😏\": 2,\n",
    "    \"😉\": 2,\n",
    "    \"😎\": 2,\n",
    "    \"😢\": 0,\n",
    "    \"😅\": 2,\n",
    "    \"😱\": 0,\n",
    "    \"😆\": 2,\n",
    "    \"😋\": 2,\n",
    "    \"😷\": 0,\n",
    "    \"😔\": 0,\n",
    "    \"😒\": 0,\n",
    "    \"😡\": 0,\n",
    "    \"😪\": 0,\n",
    "    \"😤\": 0,\n",
    "    \"😝\": 2,\n",
    "    \"😓\": 0,\n",
    "    \"😖\": 0,\n",
    "    \"😣\": 0,\n",
    "    \"😞\": 0,\n",
    "    \"😐\": 1,\n",
    "    \"😕\": 0,\n",
    "    \"😫\": 0,\n",
    "    \"😨\": 0,\n",
    "    \"😌\": 2,\n",
    "    \"😜\": 2,\n",
    "    \"😑\": 1,\n",
    "    \"😬\": 0,\n",
    "    \"😈\": 0,\n",
    "    \"😯\": 0,\n",
    "    \"😳\": 0,\n",
    "    \"😇\": 2,\n",
    "    \"😷\": 0,\n",
    "    \"😴\": 0,\n",
    "    \"😲\": 0,\n",
    "    \"😵\": 0,\n",
    "    \"😦\": 0,\n",
    "    \"😢\": 0,\n",
    "    \"😮\": 0,\n",
    "    \"😟\": 0,\n",
    "    \"😥\": 0,\n",
    "    \"😧\": 0,\n",
    "    \"😰\": 0,\n",
    "    \"😓\": 0,\n",
    "    \"😩\": 0,\n",
    "    \"😿\": 0,\n",
    "    \"😾\": 0,\n",
    "    \"🙀\": 0,\n",
    "    \"🙅\": 0,\n",
    "    \"🙆\": 0,\n",
    "    \"🙇\": 0,\n",
    "    \"🙈\": 0,\n",
    "    \"🙉\": 0,\n",
    "    \"🙊\": 0,\n",
    "    \"🙋\": 0,\n",
    "    \"🙌\": 0,\n",
    "    \"🙍\": 0,\n",
    "    \"🙎\": 0,\n",
    "    \"🙏\": 0,\n",
    "    \":)\": 2,\n",
    "    \":(\": 0,\n",
    "    \"❤️\": 2,\n",
    "    \"👍\": 2,\n",
    "    \"✌🏼️\": 2,\n",
    "    \"☹️\": 0,\n",
    "    \"🙃\": 0,\n",
    "    \"👎\": 0,\n",
    "    \"💙\": 2,\n",
    "    \"💗\": 2,\n",
    "    \"🎉\": 2,\n",
    "    \"😄\": 2,\n",
    "    \"🤗\": 2,\n",
    "    \":D\": 2,\n",
    "    \"🎄\": 2,\n",
    "    \"🎁\": 2,\n",
    "    \":/\": 0,\n",
    "    \"?!\": 0,\n",
    "    \":P\": 2,\n",
    "    \":p\": 2,\n",
    "}"
   ]
  },
  {
   "cell_type": "markdown",
   "id": "3db4ecc5",
   "metadata": {},
   "source": [
    "### Functions for preprocessing"
   ]
  },
  {
   "cell_type": "code",
   "execution_count": 7,
   "id": "b14f5776",
   "metadata": {},
   "outputs": [],
   "source": [
    "def text_processing(text: list[str]) -> list[str]:\n",
    "    \"\"\"\n",
    "    Process text data:\n",
    "    - Remove '@user'\n",
    "    - Remove hashtags\n",
    "    - Remove '-'\n",
    "    - Remove URLs\n",
    "    - Replace emojis with their corresponding sentiment.\n",
    "    - Replace punctuation marks.\n",
    "    - Tokenize the text.\n",
    "    - Normalize the text with nltk.\n",
    "    - Lowercase the text.\n",
    "    # Length of the line is added after vectorization.\n",
    "\n",
    "    Args:\n",
    "        text: list[str]: A list of text data.\n",
    "\n",
    "    Returns:\n",
    "        list[str]: A list of processed sentences\n",
    "    \"\"\"\n",
    "    processed_text = []\n",
    "    for line in text:\n",
    "        # Remove '@user'\n",
    "        line = line.replace(\"@user\", \" \")\n",
    "        # Remove hashtags\n",
    "        line = line.replace(\"#\", \" \")\n",
    "        # Remove '-'\n",
    "        #line = line.replace(\"-\", \" \")\n",
    "        # Remove URLs (http, https, www)\n",
    "        line = \" \".join([word for word in line.split() if \"http\" not in word])\n",
    "        line = \" \".join([word for word in line.split() if \"www\" not in word])\n",
    "        # Replace emojis with their corresponding sentiment\n",
    "        line = replace_emojis(line)\n",
    "        # Replace punctuation marks\n",
    "        #line = punctuation_replacement(line)\n",
    "        # Tokenize the text.\n",
    "        tokens = nltk.word_tokenize(line)\n",
    "        # Normalize the text using WordNetLemmatizer and tokenize the text\n",
    "        tokens = [lemmatizer.lemmatize(word) for word in tokens]\n",
    "        # Lowercase the text\n",
    "        tokens = [str(word).lower() for word in tokens]\n",
    "        line = \" \".join(tokens)\n",
    "        processed_text.append(line)\n",
    "\n",
    "    return processed_text\n",
    "\n",
    "\n",
    "def map_emoji_sentiment(input: int) -> str:\n",
    "    \"\"\"\n",
    "    Map the emoji sentiment to a string.\n",
    "\n",
    "    Args:\n",
    "        input: int: The emoji sentiment.\n",
    "\n",
    "    Returns:\n",
    "        str: The string sentiment.\n",
    "    \"\"\"\n",
    "    if input == 0:\n",
    "        return \" bad \"\n",
    "    elif input == 1:\n",
    "        return \" neutral \"\n",
    "    elif input == 2:\n",
    "        return \" good \"\n",
    "    else:\n",
    "        return \" neutral \"\n",
    "\n",
    "\n",
    "def replace_emojis(input: str) -> str:\n",
    "    \"\"\"\n",
    "    Replace emojis with their corresponding sentiment.\n",
    "    If the emoji is 0, replace it with 'bad'.\n",
    "    If the emoji is 1, replace it with 'neutral'.\n",
    "    If the emoji is 2, replace it with 'good'.\n",
    "    If the emoji is not in the emoji_dict, replace it with 'neutral'.\n",
    "\n",
    "    Args:\n",
    "        input: str: The input text data (line).\n",
    "\n",
    "    Returns:\n",
    "        str: The text data with emojis replaced with their corresponding sentiment.\n",
    "    \"\"\"\n",
    "    for emoji in emoji_dict:\n",
    "        if emoji in input:\n",
    "            input = input.replace(emoji, map_emoji_sentiment(emoji_dict[emoji]))\n",
    "    return input\n",
    "\n",
    "\n",
    "def punctuation_replacement(line: Union[str, list[str]]) -> str:\n",
    "    \"\"\"\n",
    "    Check if there are repeated (>= 2) punctuation marks ['.' '!', '?'] in the line.\n",
    "    If there are, no matter how many times the punctuation mark is repeated,\n",
    "    replace it with ['MultiDot', 'MultiExclamation', 'MultiQuestion']\n",
    "    respectively.\n",
    "\n",
    "    Replace ['.' '!', '?'] with ['Dot', 'Exclamation', 'Question'] respectively.\n",
    "    If they are not repeated in the line, keep them as they are.\n",
    "\n",
    "    Args:\n",
    "        line: Union[str, list[str]]: The input line, which can be a string or a list of words.\n",
    "\n",
    "    Returns:\n",
    "        str: The line with punctuation marks replaced.\n",
    "    \"\"\"\n",
    "    # Split the line into words if it is a string\n",
    "    if type(line) is str:\n",
    "        line = line.split()\n",
    "    # Replace punctuation marks\n",
    "    for_append = []\n",
    "    for i, word in enumerate(line):\n",
    "        if word.count(\".\") >= 2:\n",
    "            line[i] = line[i].replace(\".\", \"\")\n",
    "            for_append.append(\"MultiDot\")\n",
    "        elif word.count(\"!\") >= 2:\n",
    "            line[i] = line[i].replace(\"!\", \"\")\n",
    "            for_append.append(\"MultiExclamation\")\n",
    "        elif word.count(\"?\") >= 2:\n",
    "            line[i] = line[i].replace(\"?\", \"\")\n",
    "            for_append.append(\"MultiQuestion\")\n",
    "        elif word.count(\".\") == 1:\n",
    "            line[i] = line[i].replace(\".\", \"\")\n",
    "            for_append.append(\"Dot\")\n",
    "        elif word.count(\"!\") == 1:\n",
    "            line[i] = line[i].replace(\"!\", \"\")\n",
    "            for_append.append(\"Exclamation\")\n",
    "        elif word.count(\"?\") == 1:\n",
    "            line[i] = line[i].replace(\"?\", \"\")\n",
    "            for_append.append(\"Question\")\n",
    "\n",
    "    line += for_append\n",
    "\n",
    "    # Join back the line\n",
    "    return \" \".join(line)"
   ]
  },
  {
   "cell_type": "markdown",
   "id": "0aed5bf3",
   "metadata": {},
   "source": [
    "### Process the text data"
   ]
  },
  {
   "cell_type": "markdown",
   "id": "deba10fa",
   "metadata": {},
   "source": [
    "#### Process all text data\n",
    "\n",
    "See function docstring from text_processing()"
   ]
  },
  {
   "cell_type": "code",
   "execution_count": 8,
   "id": "1634a5eb",
   "metadata": {},
   "outputs": [],
   "source": [
    "train_text: list[list[str]] = text_processing(train_text)\n",
    "test_text: list[list[str]] = text_processing(test_text)\n",
    "validation_text: list[list[str]] = text_processing(validation_text)"
   ]
  },
  {
   "cell_type": "markdown",
   "id": "c41216d7",
   "metadata": {},
   "source": [
    "##### Convert the labels to integers"
   ]
  },
  {
   "cell_type": "code",
   "execution_count": 9,
   "id": "ed72b814-f6f8-4cdf-931b-edb903b16db0",
   "metadata": {},
   "outputs": [],
   "source": [
    "validation_labels = [int(x) for x in validation_label]\n",
    "train_labels = [int(x) for x in train_label]\n",
    "test_labels = [int(x) for x in test_label]"
   ]
  },
  {
   "cell_type": "markdown",
   "id": "ebbc89e5-0ca5-4251-9be6-af7efa937b3c",
   "metadata": {},
   "source": [
    "### Transformer"
   ]
  },
  {
   "cell_type": "code",
   "execution_count": 10,
   "id": "1ac68c4e-8658-4341-8640-c55d1404e931",
   "metadata": {},
   "outputs": [],
   "source": [
    "from transformers import BertConfig, BertTokenizer, TFBertForSequenceClassification"
   ]
  },
  {
   "cell_type": "code",
   "execution_count": 11,
   "id": "1b9de556-1ef9-41dd-a82e-821995a0fa05",
   "metadata": {},
   "outputs": [],
   "source": [
    "# Configurable parameters\n",
    "number_of_epochs: int = 3\n",
    "batch_size: int = 16\n",
    "dropout_rate = 0.3\n",
    "learning_rate = 0.00001\n",
    "\n",
    "tf.random.set_seed(2024)\n",
    "\n",
    "custom_config = BertConfig.from_pretrained('bert-base-uncased')\n",
    "custom_config.hidden_dropout_prob = dropout_rate\n",
    "custom_config.num_labels = 3"
   ]
  },
  {
   "cell_type": "code",
   "execution_count": 12,
   "id": "8643c148-a1cb-4e4c-a6e5-e9dd36e1c9fa",
   "metadata": {},
   "outputs": [
    {
     "name": "stderr",
     "output_type": "stream",
     "text": [
      "2024-04-21 20:36:36.271237: I external/local_xla/xla/stream_executor/cuda/cuda_executor.cc:984] could not open file to read NUMA node: /sys/bus/pci/devices/0000:01:00.0/numa_node\n",
      "Your kernel may have been built without NUMA support.\n",
      "2024-04-21 20:36:36.271290: I external/local_xla/xla/stream_executor/cuda/cuda_executor.cc:984] could not open file to read NUMA node: /sys/bus/pci/devices/0000:01:00.0/numa_node\n",
      "Your kernel may have been built without NUMA support.\n",
      "2024-04-21 20:36:36.271302: I external/local_xla/xla/stream_executor/cuda/cuda_executor.cc:984] could not open file to read NUMA node: /sys/bus/pci/devices/0000:01:00.0/numa_node\n",
      "Your kernel may have been built without NUMA support.\n",
      "2024-04-21 20:36:36.378870: I external/local_xla/xla/stream_executor/cuda/cuda_executor.cc:984] could not open file to read NUMA node: /sys/bus/pci/devices/0000:01:00.0/numa_node\n",
      "Your kernel may have been built without NUMA support.\n",
      "2024-04-21 20:36:36.378909: I external/local_xla/xla/stream_executor/cuda/cuda_executor.cc:984] could not open file to read NUMA node: /sys/bus/pci/devices/0000:01:00.0/numa_node\n",
      "Your kernel may have been built without NUMA support.\n",
      "2024-04-21 20:36:36.378914: I tensorflow/core/common_runtime/gpu/gpu_device.cc:2019] Could not identify NUMA node of platform GPU id 0, defaulting to 0.  Your kernel may not have been built with NUMA support.\n",
      "2024-04-21 20:36:36.378931: I external/local_xla/xla/stream_executor/cuda/cuda_executor.cc:984] could not open file to read NUMA node: /sys/bus/pci/devices/0000:01:00.0/numa_node\n",
      "Your kernel may have been built without NUMA support.\n",
      "2024-04-21 20:36:36.378949: I tensorflow/core/common_runtime/gpu/gpu_device.cc:1928] Created device /job:localhost/replica:0/task:0/device:GPU:0 with 5564 MB memory:  -> device: 0, name: NVIDIA GeForce RTX 3070, pci bus id: 0000:01:00.0, compute capability: 8.6\n",
      "All PyTorch model weights were used when initializing TFBertForSequenceClassification.\n",
      "\n",
      "Some weights or buffers of the TF 2.0 model TFBertForSequenceClassification were not initialized from the PyTorch model and are newly initialized: ['classifier.weight', 'classifier.bias']\n",
      "You should probably TRAIN this model on a down-stream task to be able to use it for predictions and inference.\n"
     ]
    }
   ],
   "source": [
    "# Load pre-trained BERT model and tokenizer\n",
    "tokenizer = BertTokenizer.from_pretrained('bert-base-uncased')\n",
    "model = TFBertForSequenceClassification.from_pretrained('bert-base-uncased', config=custom_config)"
   ]
  },
  {
   "cell_type": "code",
   "execution_count": 13,
   "id": "4e663579-f6e6-4d97-a767-bd6ef48bf315",
   "metadata": {},
   "outputs": [],
   "source": [
    "# Tokenize and pad sequences\n",
    "train_encodings = tokenizer(train_text, padding=True, truncation=True, return_tensors='tf')\n",
    "validation_encodings = tokenizer(validation_text, padding=True, truncation=True, return_tensors='tf')"
   ]
  },
  {
   "cell_type": "code",
   "execution_count": 14,
   "id": "be0a6012-10f2-4204-aef4-aa14ca493c9f",
   "metadata": {},
   "outputs": [],
   "source": [
    "# Convert labels to TensorFlow tensors\n",
    "train_labels = tf.convert_to_tensor(tf.one_hot(train_labels, 3))\n",
    "validation_labels = tf.convert_to_tensor(tf.one_hot(validation_labels, 3))"
   ]
  },
  {
   "cell_type": "code",
   "execution_count": 15,
   "id": "39cd4674-92d9-4188-8743-2656d14cc988",
   "metadata": {},
   "outputs": [],
   "source": [
    "# Define model\n",
    "optimizer = tf.keras.optimizers.Adam(learning_rate=learning_rate)\n",
    "loss = tf.keras.losses.CategoricalCrossentropy(from_logits=True)\n",
    "model.compile(optimizer=optimizer, loss=loss, metrics=['accuracy'])"
   ]
  },
  {
   "cell_type": "code",
   "execution_count": 16,
   "id": "67224cf8-f5d4-44ab-936a-b403e171e3e9",
   "metadata": {},
   "outputs": [],
   "source": [
    "# For the history\n",
    "train_loss: list[float] = []\n",
    "train_accuracy: list[float] = []\n",
    "validation_loss: list[float] = []\n",
    "validation_accuracy: list[float] = []"
   ]
  },
  {
   "cell_type": "code",
   "execution_count": 17,
   "id": "2e6c2410-2120-4d93-8fb8-45cfe146d846",
   "metadata": {},
   "outputs": [
    {
     "name": "stdout",
     "output_type": "stream",
     "text": [
      "WARNING:tensorflow:AutoGraph could not transform <function infer_framework at 0x7fb136595580> and will run it as-is.\n",
      "Cause: for/else statement not yet supported\n",
      "To silence this warning, decorate the function with @tf.autograph.experimental.do_not_convert\n",
      "WARNING: AutoGraph could not transform <function infer_framework at 0x7fb136595580> and will run it as-is.\n",
      "Cause: for/else statement not yet supported\n",
      "To silence this warning, decorate the function with @tf.autograph.experimental.do_not_convert\n"
     ]
    },
    {
     "name": "stderr",
     "output_type": "stream",
     "text": [
      "WARNING: All log messages before absl::InitializeLog() is called are written to STDERR\n",
      "I0000 00:00:1713731852.051274   32304 service.cc:145] XLA service 0x7fafdce85360 initialized for platform CUDA (this does not guarantee that XLA will be used). Devices:\n",
      "I0000 00:00:1713731852.051310   32304 service.cc:153]   StreamExecutor device (0): NVIDIA GeForce RTX 3070, Compute Capability 8.6\n",
      "2024-04-21 20:37:32.056446: I tensorflow/compiler/mlir/tensorflow/utils/dump_mlir_util.cc:268] disabling MLIR crash reproducer, set env var `MLIR_CRASH_REPRODUCER_DIRECTORY` to enable.\n",
      "2024-04-21 20:37:32.068781: I external/local_xla/xla/stream_executor/cuda/cuda_dnn.cc:465] Loaded cuDNN version 8906\n",
      "I0000 00:00:1713731852.110515   32304 device_compiler.h:188] Compiled cluster using XLA!  This line is logged at most once for the lifetime of the process.\n"
     ]
    },
    {
     "name": "stdout",
     "output_type": "stream",
     "text": [
      "2851/2851 [==============================] - 779s 256ms/step - loss: 0.7119 - accuracy: 0.6721\n",
      "Epoch 1 done. Validation accuracy: 0.7145000100135803, loss: 0.6480744481086731\n",
      "2851/2851 [==============================] - 726s 255ms/step - loss: 0.6017 - accuracy: 0.7313\n",
      "Epoch 2 done. Validation accuracy: 0.7354999780654907, loss: 0.6360698938369751\n",
      "2851/2851 [==============================] - 723s 254ms/step - loss: 0.5448 - accuracy: 0.7622\n",
      "Epoch 3 done. Validation accuracy: 0.746999979019165, loss: 0.6369710564613342\n"
     ]
    }
   ],
   "source": [
    "# Train the model\n",
    "# Because model.fit() will crash if I put validation_data inside\n",
    "# I created a manual version of history = model.fit(), with validation data\n",
    "with tf.device(device_name):\n",
    "    for i in range(number_of_epochs):\n",
    "        model.fit(train_encodings, train_labels, batch_size=batch_size)\n",
    "        # Get the loss and accuracy after the current epoch\n",
    "        loss, accuracy = model.evaluate(train_encodings, train_labels, verbose=0)\n",
    "        train_loss.append(loss)\n",
    "        train_accuracy.append(accuracy)\n",
    "        loss, accuracy = model.evaluate(validation_encodings, validation_labels, verbose=0)\n",
    "        validation_loss.append(loss)\n",
    "        validation_accuracy.append(accuracy)\n",
    "        print(f\"Epoch {i+1} done. Validation accuracy: {accuracy}, loss: {loss}\")"
   ]
  },
  {
   "cell_type": "code",
   "execution_count": 18,
   "id": "364fb8cd-06eb-44b4-ad71-f885d7edd80e",
   "metadata": {},
   "outputs": [
    {
     "data": {
      "image/png": "[encoded data removed]",
      "text/plain": [
       "<Figure size 640x480 with 1 Axes>"
      ]
     },
     "metadata": {},
     "output_type": "display_data"
    },
    {
     "data": {
      "image/png": "[encoded data removed]",
      "text/plain": [
       "<Figure size 640x480 with 1 Axes>"
      ]
     },
     "metadata": {},
     "output_type": "display_data"
    }
   ],
   "source": [
    "# Plot the graph\n",
    "epochs = range(1, number_of_epochs+1)\n",
    "plt.plot(epochs, train_loss, label='Training Loss')\n",
    "plt.plot(epochs, validation_loss, label='Validation Loss')\n",
    "plt.xlabel('Epoch')\n",
    "plt.ylabel('Loss')\n",
    "plt.legend()\n",
    "plt.show()\n",
    "\n",
    "# Plot training and validation accuracy\n",
    "plt.plot(epochs, train_accuracy, label='Training Accuracy')\n",
    "plt.plot(epochs, validation_accuracy, label='Validation Accuracy')\n",
    "plt.xlabel('Epoch')\n",
    "plt.ylabel('Accuracy')\n",
    "plt.legend()\n",
    "plt.show()"
   ]
  },
  {
   "cell_type": "markdown",
   "id": "f8ad99d8-2dd0-4d4e-85e4-4491bae046ac",
   "metadata": {},
   "source": [
    "### Final test on the trained model"
   ]
  },
  {
   "cell_type": "code",
   "execution_count": 19,
   "id": "9b77244b-8367-422d-bb2c-0d034dffcca9",
   "metadata": {},
   "outputs": [
    {
     "name": "stdout",
     "output_type": "stream",
     "text": [
      "384/384 [==============================] - 30s 77ms/step - loss: 0.7052 - accuracy: 0.6917\n",
      "Test Loss: 0.7052450776100159, Test Accuracy: 0.6917127966880798\n"
     ]
    }
   ],
   "source": [
    "test_encodings = tokenizer(test_text, padding=True, truncation=True, return_tensors='tf')\n",
    "test_labels = tf.convert_to_tensor(tf.one_hot(test_labels, 3))\n",
    "\n",
    "loss, accuracy = model.evaluate(test_encodings, test_labels)\n",
    "print(f\"Test Loss: {loss}, Test Accuracy: {accuracy}\")"
   ]
  },
  {
   "cell_type": "markdown",
   "id": "28151b2c-952a-444a-9a1e-1b161201e857",
   "metadata": {},
   "source": [
    "## TODO\n",
    "\n",
    "other transformers\n",
    "\n",
    "effect on processings"
   ]
  },
  {
   "cell_type": "raw",
   "id": "0d01aba7-5207-44a3-a23f-d881c7b44f91",
   "metadata": {},
   "source": [
    "Records (Will be removed before pushing to main)\n",
    "\n",
    "number_of_epochs: int = 1\n",
    "batch_size: int = 16\n",
    "dropout_rate = 0.3\n",
    "learning_rate = 0.00005\n",
    "bert-base-uncased\n",
    "no extra processing\n",
    "-> 72.0/69.2, 72.1/68.6, 72.2/69.0\n",
    "\n",
    "number_of_epochs: int = 5\n",
    "batch_size: int = 16\n",
    "dropout_rate = 0.3\n",
    "*learning_rate = 0.00001\n",
    "bert-base-uncased\n",
    "no extra processing\n",
    "-> 74.2/68.8\n",
    "\n",
    "number_of_epochs: int = 2\n",
    "batch_size: int = 16\n",
    "dropout_rate = 0.3\n",
    "*learning_rate = 0.00001\n",
    "bert-base-uncased\n",
    "no extra processing\n",
    "-> 73.6/69.1, 74.0/68.5, 73.2/68.5\n",
    "\n",
    "number_of_epochs: int = 3\n",
    "batch_size: int = 16\n",
    "dropout_rate = 0.3\n",
    "*learning_rate = 0.00001\n",
    "bert-base-uncased\n",
    "processing: rm user, #, -, url; replace emojis, punctuation; lemmatize, lowercase\n",
    "-> 73.4/68.7, 73.4/69.1, 73.4/68.7\n",
    "\n",
    "number_of_epochs: int = 3\n",
    "batch_size: int = 16\n",
    "dropout_rate = 0.3\n",
    "learning_rate = 0.00001\n",
    "bert-base-uncased\n",
    "no extra processing\n",
    "-> 73.7/69.5, 73.5/69.3\n",
    "\n",
    "Same as above 1 but have processing\n",
    "No punctuation_replacement, no -' removal\n",
    "-> 74.0/69.3, 73.9/69.4, 73.0/68.9, 73.7/69.2, 74.6/69.1"
   ]
  }
 ],
 "metadata": {
  "kernelspec": {
   "display_name": "Python 3 (ipykernel)",
   "language": "python",
   "name": "python3"
  },
  "language_info": {
   "codemirror_mode": {
    "name": "ipython",
    "version": 3
   },
   "file_extension": ".py",
   "mimetype": "text/x-python",
   "name": "python",
   "nbconvert_exporter": "python",
   "pygments_lexer": "ipython3",
   "version": "3.11.0rc1"
  }
 },
 "nbformat": 4,
 "nbformat_minor": 5
}
