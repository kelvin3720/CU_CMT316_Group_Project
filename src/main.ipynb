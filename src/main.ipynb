{
 "cells": [
  {
   "cell_type": "markdown",
   "id": "e3c054e6-4504-450d-8234-c9cae7b7aa0c",
   "metadata": {},
   "source": [
    "### Imports"
   ]
  },
  {
   "cell_type": "code",
   "execution_count": 1,
   "id": "23273f6d-f11c-48fc-a7a0-56115f6ad4ae",
   "metadata": {},
   "outputs": [],
   "source": [
    "import nltk\n",
    "import numpy as np"
   ]
  },
  {
   "cell_type": "markdown",
   "id": "76fad0d2-bed8-4c40-b96e-73a4ab591b60",
   "metadata": {},
   "source": [
    "### Helper functions"
   ]
  },
  {
   "cell_type": "code",
   "execution_count": 2,
   "id": "da72e511-2021-4986-a2d2-78723d9b1ebc",
   "metadata": {},
   "outputs": [],
   "source": [
    "def load_text_file(file_path: str) -> np.ndarray:\n",
    "    \"\"\"\n",
    "    Load a text file and return an array of lines from the file.\n",
    "\n",
    "    Args:\n",
    "        file_path: str: The path to the file to load.\n",
    "\n",
    "    Returns:\n",
    "        np.ndarray: An array of lines from the file.\n",
    "    \"\"\"\n",
    "    with open(file_path, 'r', encoding='utf-8') as file:\n",
    "        lines = file.readlines()\n",
    "    return np.array([line.strip() for line in lines])"
   ]
  },
  {
   "cell_type": "markdown",
   "id": "80d3de75-20de-4bfe-a9c6-2c41b6dc5b39",
   "metadata": {},
   "source": [
    "### Load the text files"
   ]
  },
  {
   "cell_type": "code",
   "execution_count": 3,
   "id": "d3a9a7d4-b97b-471b-ae8b-1794810ceaec",
   "metadata": {},
   "outputs": [],
   "source": [
    "train_text_path: str = \"../dataset/train_text.txt\"\n",
    "train_label_path: str = \"../dataset/train_labels.txt\"\n",
    "\n",
    "test_text_path: str = \"../dataset/test_text.txt\"\n",
    "test_label_path: str = \"../dataset/test_text.txt\"\n",
    "\n",
    "validationt_text_path: str = \"../dataset/val_text.txt\"\n",
    "validationt_label_path: str = \"../dataset/val_text.txt\"\n",
    "\n",
    "train_text: np.ndarray = load_text_file(train_text_path)\n",
    "train_label: np.ndarray = load_text_file(train_label_path)\n",
    "\n",
    "test_text: np.ndarray = load_text_file(test_text_path)\n",
    "test_label: np.ndarray = load_text_file(test_label_path)\n",
    "\n",
    "validationt_text: np.ndarray = load_text_file(validationt_text_path)\n",
    "validationt_label: np.ndarray = load_text_file(validationt_label_path)"
   ]
  },
  {
   "cell_type": "markdown",
   "id": "6d8e2122-1846-4b96-8a26-6ad82e682dab",
   "metadata": {},
   "source": [
    "## Kelvin's Part"
   ]
  },
  {
   "cell_type": "markdown",
   "id": "e69e3f0c-e3db-485d-b611-b12f4a2a2c74",
   "metadata": {},
   "source": [
    "### Preprocessing"
   ]
  },
  {
   "cell_type": "code",
   "execution_count": null,
   "id": "16f43a81-38a2-4361-9a84-753a0d9662c4",
   "metadata": {},
   "outputs": [],
   "source": []
  },
  {
   "cell_type": "markdown",
   "id": "11524783-eabb-431e-a528-fab55b5b7d25",
   "metadata": {},
   "source": [
    "### CNN"
   ]
  },
  {
   "cell_type": "code",
   "execution_count": null,
   "id": "46992e16-21ad-42f8-b2c2-af3808a33ca9",
   "metadata": {},
   "outputs": [],
   "source": []
  }
 ],
 "metadata": {
  "kernelspec": {
   "display_name": "Python 3 (ipykernel)",
   "language": "python",
   "name": "python3"
  },
  "language_info": {
   "codemirror_mode": {
    "name": "ipython",
    "version": 3
   },
   "file_extension": ".py",
   "mimetype": "text/x-python",
   "name": "python",
   "nbconvert_exporter": "python",
   "pygments_lexer": "ipython3",
   "version": "3.11.8"
  }
 },
 "nbformat": 4,
 "nbformat_minor": 5
}
