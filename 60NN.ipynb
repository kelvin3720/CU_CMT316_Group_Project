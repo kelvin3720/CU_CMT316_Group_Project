{
  "cells": [
    {
      "cell_type": "code",
      "execution_count": null,
      "metadata": {
        "colab": {
          "base_uri": "https://localhost:8080/"
        },
        "id": "8K2nvqynYkMh",
        "outputId": "3a004a3d-90fd-4ffa-fa9a-fe5619e34ee1"
      },
      "outputs": [
        {
          "name": "stderr",
          "output_type": "stream",
          "text": [
            "[nltk_data] Downloading package stopwords to /root/nltk_data...\n",
            "[nltk_data]   Unzipping corpora/stopwords.zip.\n",
            "[nltk_data] Downloading package punkt to /root/nltk_data...\n",
            "[nltk_data]   Unzipping tokenizers/punkt.zip.\n"
          ]
        },
        {
          "name": "stdout",
          "output_type": "stream",
          "text": [
            "Collecting pysastrawi\n",
            "  Downloading PySastrawi-1.2.0-py2.py3-none-any.whl (210 kB)\n",
            "\u001b[2K     \u001b[90m━━━━━━━━━━━━━━━━━━━━━━━━━━━━━━━━━━━━━━━━\u001b[0m \u001b[32m210.6/210.6 kB\u001b[0m \u001b[31m2.0 MB/s\u001b[0m eta \u001b[36m0:00:00\u001b[0m\n",
            "\u001b[?25hInstalling collected packages: pysastrawi\n",
            "Successfully installed pysastrawi-1.2.0\n"
          ]
        }
      ],
      "source": [
        "# Import Libraries\n",
        "from sklearn.model_selection import train_test_split\n",
        "from sklearn.pipeline import make_pipeline\n",
        "from sklearn.compose import ColumnTransformer\n",
        "from sklearn.impute import SimpleImputer\n",
        "from sklearn.preprocessing import StandardScaler, OneHotEncoder\n",
        "from sklearn.metrics import classification_report\n",
        "# from Sastrawi.Stemmer.StemmerFactory import StemmerFactory\n",
        "from nltk.corpus import stopwords\n",
        "import re\n",
        "import nltk\n",
        "import string\n",
        "import numpy as np\n",
        "import pandas as pd\n",
        "import seaborn as sns\n",
        "import matplotlib.pyplot as plt\n",
        "import tensorflow as tf\n",
        "import tensorflow_hub as tf_hub\n",
        "from nltk.tokenize import word_tokenize\n",
        "from tensorflow.keras.layers import TextVectorization\n",
        "from sklearn.feature_extraction.text import CountVectorizer\n",
        "from tensorflow.keras.layers import Embedding\n",
        "from tensorflow.keras.models import Sequential\n",
        "from tensorflow.keras.layers import Dense, LSTM, Bidirectional, GRU, Dropout, Reshape\n",
        "from tensorflow.keras.callbacks import EarlyStopping\n",
        "nltk.download('stopwords')\n",
        "nltk.download('punkt')\n",
        "!pip install pysastrawi\n",
        "from keras.preprocessing.text import Tokenizer\n",
        "from keras.preprocessing.sequence import pad_sequences\n",
        "from keras.utils import to_categorical\n",
        "from keras.models import Sequential\n",
        "from keras.layers import Embedding, Bidirectional, LSTM, Dropout, Dense\n",
        "from keras.layers import BatchNormalization\n",
        "# nltk.download('stopwords')\n",
        "# nltk.download('punkt')\n",
        "# !pip install pysastrawi"
      ]
    },
    {
      "cell_type": "code",
      "execution_count": null,
      "metadata": {
        "id": "kYiebT2XbmE4"
      },
      "outputs": [],
      "source": [
        "import requests\n",
        "\n",
        "url_train = \"https://raw.githubusercontent.com/cardiffnlp/tweeteval/main/datasets/sentiment/train_text.txt\"\n",
        "url_train_label = \"https://raw.githubusercontent.com/cardiffnlp/tweeteval/main/datasets/sentiment/train_labels.txt\"\n",
        "\n",
        "url_val_text = \"https://raw.githubusercontent.com/cardiffnlp/tweeteval/main/datasets/sentiment/val_text.txt\"\n",
        "url_val_labels = \"https://raw.githubusercontent.com/cardiffnlp/tweeteval/main/datasets/sentiment/val_labels.txt\"\n",
        "\n",
        "url_test_text = \"https://raw.githubusercontent.com/cardiffnlp/tweeteval/main/datasets/sentiment/test_text.txt\"\n",
        "url_test_labels = \"https://raw.githubusercontent.com/cardiffnlp/tweeteval/main/datasets/sentiment/test_labels.txt\"\n",
        "\n",
        "\n",
        "\n",
        "train_data = requests.get(url_train)\n",
        "trainlabel_data = requests.get(url_train_label)\n",
        "\n",
        "val_data = requests.get(url_val_text)\n",
        "vallabel_data = requests.get(url_val_labels)\n",
        "\n",
        "\n",
        "\n",
        "test_data = requests.get(url_test_text)\n",
        "testlabel_data = requests.get(url_test_labels)\n",
        "\n",
        "\n",
        "train_data1 = train_data.text.split(\"\\n\")\n",
        "\n",
        "train_data1_label = trainlabel_data.text.split(\"\\n\")\n",
        "\n",
        "val_data1 = val_data.text.split(\"\\n\")\n",
        "val_data1_label = vallabel_data.text.split(\"\\n\")\n",
        "\n",
        "\n",
        "test_data1 = test_data.text.split(\"\\n\")\n",
        "test_data1_label = testlabel_data.text.split(\"\\n\")\n",
        "\n",
        "\n",
        "# for line in data:\n",
        "# print(train_data1[:5])\n",
        "\n"
      ]
    },
    {
      "cell_type": "code",
      "execution_count": null,
      "metadata": {
        "id": "S9MeeBtU0cDz"
      },
      "outputs": [],
      "source": [
        "from nltk.tokenize import word_tokenize\n",
        "from nltk.corpus import stopwords\n",
        "from nltk.stem import PorterStemmer\n",
        "import re\n",
        "\n",
        "# Define stopwords for English\n",
        "stopwords_en = set(stopwords.words('english'))\n",
        "\n",
        "# Initialize Porter Stemmer\n",
        "stemmer_en = PorterStemmer()\n",
        "\n",
        "def text_preprocessing(text):\n",
        "    # Case folding\n",
        "    text = text.lower()\n",
        "\n",
        "    # Mention removal\n",
        "    text = re.sub(\"@[A-Za-z0-9_]+\", \" \", text)\n",
        "\n",
        "    # Hashtags removal\n",
        "    text = re.sub(\"#[A-Za-z0-9_]+\", \" \", text)\n",
        "\n",
        "    # Newline removal (\\n)\n",
        "    text = re.sub(r\"\\\\n\", \" \", text)\n",
        "\n",
        "    # Whitespace removal\n",
        "    text = text.strip()\n",
        "\n",
        "    # URL removal\n",
        "    text = re.sub(r\"http\\S+\", \" \", text)\n",
        "    text = re.sub(r\"www.\\S+\", \" \", text)\n",
        "\n",
        "    # Non-letter removal (such as emoticon, symbol (like μ, $, 兀), etc)\n",
        "    text = re.sub(\"[^A-Za-z\\s']\", \" \", text)\n",
        "\n",
        "    # Tokenization\n",
        "    tokens = word_tokenize(text)\n",
        "\n",
        "    # Stopwords removal\n",
        "    tokens = [word for word in tokens if word not in stopwords_en]\n",
        "\n",
        "    # Stemming using Porter Stemmer\n",
        "    tokens = [stemmer_en.stem(word) for word in tokens]\n",
        "\n",
        "    # Remove 'th' characters\n",
        "    tokens = [word.replace('th', '') for word in tokens]\n",
        "\n",
        "    # Combining Tokens\n",
        "    text = ' '.join(tokens)\n",
        "\n",
        "    return text\n"
      ]
    },
    {
      "cell_type": "code",
      "execution_count": null,
      "metadata": {
        "colab": {
          "base_uri": "https://localhost:8080/"
        },
        "id": "J9UYS9Mp0dSS",
        "outputId": "b9136876-28da-493e-b9e2-fb1d56e72eac"
      },
      "outputs": [
        {
          "name": "stdout",
          "output_type": "stream",
          "text": [
            "qt origin draft  book remu lupin surviv battl hogwart\n",
            "ben smi smi concuss remain lineup ursday curti\n",
            "sorri bout stream last night crash tonight sure back minecraft pc tomorrow night\n",
            "\n",
            "\n"
          ]
        }
      ],
      "source": [
        "train_data_processning = [text_preprocessing(text) for text in train_data1]\n",
        "for lin in train_data_processning[:3]:\n",
        "  print(lin)\n",
        "print('\\n')\n",
        "# for lin in text_preprocessing[:3]:\n",
        "#   print(lin)\n",
        "\n",
        "val_data_processning = [text_preprocessing(text) for text in val_data1]\n",
        "\n",
        "\n"
      ]
    },
    {
      "cell_type": "code",
      "execution_count": null,
      "metadata": {
        "id": "TqAByU_GFBOZ"
      },
      "outputs": [],
      "source": [
        "test_data_processning = [text_preprocessing(text) for text in test_data1]\n",
        "\n"
      ]
    },
    {
      "cell_type": "code",
      "execution_count": null,
      "metadata": {
        "colab": {
          "base_uri": "https://localhost:8080/"
        },
        "id": "eWKXiiqF7B4t",
        "outputId": "de08fa7b-1f2d-416c-cfc6-86122f7cae99"
      },
      "outputs": [
        {
          "name": "stdout",
          "output_type": "stream",
          "text": [
            "\"QT @user In the original draft of the 7th book, Remus Lupin survived the Battle of Hogwarts. #HappyBirthdayRemusLupin\" \n",
            "\"Ben Smith / Smith (concussion) remains out of the lineup Thursday, Curtis #NHL #SJ\" \n",
            "Sorry bout the stream last night I crashed out but will be on tonight for sure. Then back to Minecraft in pc tomorrow night. \n",
            "Chase Headley's RBI double in the 8th inning off David Price snapped a Yankees streak of 33 consecutive scoreless innings against Blue Jays \n",
            "@user Alciato: Bee will invest 150 million in January, another 200 in the Summer and plans to bring Messi by 2017\" \n"
          ]
        }
      ],
      "source": [
        "\n",
        "for lin in train_data1[:5]:\n",
        "  print(lin)"
      ]
    },
    {
      "cell_type": "code",
      "execution_count": null,
      "metadata": {
        "colab": {
          "base_uri": "https://localhost:8080/"
        },
        "id": "G32SlIwSYlc_",
        "outputId": "b73f83b4-7ec2-41f7-b181-e974bcafcf47"
      },
      "outputs": [
        {
          "name": "stdout",
          "output_type": "stream",
          "text": [
            "Total Vocab :  27215\n",
            "Maximum Sentence Length :  40 tokens\n"
          ]
        }
      ],
      "source": [
        "\n",
        "\n",
        "# Extracting text from training and test data\n",
        "# X_train_texts = [sample[0] for sample in X_train]\n",
        "# X_test_texts = [sample[0] for sample in X_test]\n",
        "\n",
        "# Initialise the CountVectorizer and vectorise it.\n",
        "Vectorize = CountVectorizer()\n",
        "X_train_vec = Vectorize.fit_transform(train_data_processning)\n",
        "X_test_vec = Vectorize.transform(val_data_processning)\n",
        "\n",
        "# Finding the Number of Vocabs and Max Token Length in One Document\n",
        "total_vocab = len(Vectorize.vocabulary_.keys())\n",
        "max_sen_len = max([len(i.split(\" \")) for i in train_data_processning])\n",
        "\n",
        "print('Total Vocab : ', total_vocab)\n",
        "print('Maximum Sentence Length : ', max_sen_len, 'tokens')\n",
        "\n",
        "# Text Vectorization\n",
        "text_vectorization = TextVectorization(max_tokens=total_vocab,\n",
        "                                       standardize=\"lower_and_strip_punctuation\",\n",
        "                                       split=\"whitespace\",\n",
        "                                       ngrams=None,\n",
        "                                       output_mode=\"int\",\n",
        "                                       output_sequence_length=max_sen_len,\n",
        "                                       input_shape=(1,)) # Only use in Sequential API\n",
        "\n",
        "text_vectorization.adapt(train_data_processning)\n",
        "\n",
        "\n",
        "\n",
        "\n"
      ]
    },
    {
      "cell_type": "code",
      "execution_count": null,
      "metadata": {
        "colab": {
          "base_uri": "https://localhost:8080/"
        },
        "id": "8PH5rhQna0r-",
        "outputId": "9817fdcf-9b4b-4f25-ef9e-2eb10a71beb0"
      },
      "outputs": [
        {
          "name": "stdout",
          "output_type": "stream",
          "text": [
            "Document example\n",
            "qt origin draft  book remu lupin surviv battl hogwart\n",
            "\n",
            "Result of Text Vectorization\n",
            "tf.Tensor(\n",
            "[[ 8910   919  1216   217  5936  6014  2008  1331 12093     0     0     0\n",
            "      0     0     0     0     0     0     0     0     0     0     0     0\n",
            "      0     0     0     0     0     0     0     0     0     0     0     0\n",
            "      0     0     0     0]], shape=(1, 40), dtype=int64)\n",
            "Vector size :  (1, 40)\n"
          ]
        }
      ],
      "source": [
        "\n",
        "\n",
        "# ## Document example\n",
        "# print('Document example')\n",
        "# print(df.text_processed[0])\n",
        "# print('')\n",
        "\n",
        "# ## Result of Text Vectorization\n",
        "# print('Result of Text Vectorization')\n",
        "# print(text_vectorization([df.text_processed[0]]))\n",
        "# print('Vector size : ', text_vectorization([df.text_processed[0]]).shape)\n",
        "\n",
        "\n",
        "\n",
        "## Document example\n",
        "print('Document example')\n",
        "print(train_data_processning[0])\n",
        "print('')\n",
        "\n",
        "## Result of Text Vectorization\n",
        "print('Result of Text Vectorization')\n",
        "# Vectorise the first training data text\n",
        "text_vectorized = text_vectorization([train_data_processning[0]])\n",
        "print(text_vectorized)\n",
        "print('Vector size : ', text_vectorized.shape)\n",
        "\n",
        "val_vectorized = text_vectorization([val_data_processning[0]])\n",
        "\n",
        "test_vectorized = text_vectorization([test_data_processning[0]])\n"
      ]
    },
    {
      "cell_type": "code",
      "execution_count": null,
      "metadata": {
        "colab": {
          "base_uri": "https://localhost:8080/"
        },
        "id": "WfrUsa8pa2vf",
        "outputId": "b53e15f5-1792-4b75-ebd7-3e4128742e13"
      },
      "outputs": [
        {
          "data": {
            "text/plain": [
              "['',\n",
              " '[UNK]',\n",
              " 'u',\n",
              " 's',\n",
              " 'tomorrow',\n",
              " 'may',\n",
              " 'go',\n",
              " 'c',\n",
              " 'day',\n",
              " 'nt',\n",
              " 'st',\n",
              " 'night',\n",
              " 'see',\n",
              " 'get',\n",
              " 'friday',\n",
              " 'time',\n",
              " 'like',\n",
              " 'sunday',\n",
              " 'm',\n",
              " 'saturday']"
            ]
          },
          "execution_count": 9,
          "metadata": {},
          "output_type": "execute_result"
        }
      ],
      "source": [
        "# View the Top 20 Tokens (Sorted by the Highest Frequency of Appearance)\n",
        "\n",
        "text_vectorization.get_vocabulary()[:20]"
      ]
    },
    {
      "cell_type": "code",
      "execution_count": null,
      "metadata": {
        "colab": {
          "base_uri": "https://localhost:8080/"
        },
        "id": "1DRGLXtXXiil",
        "outputId": "5a02a348-3e95-48c3-e30f-31b70ebe51ba"
      },
      "outputs": [
        {
          "name": "stdout",
          "output_type": "stream",
          "text": [
            "[['qt', 'origin', 'draft', 'book', 'remu', 'lupin', 'surviv', 'battl', 'hogwart'], ['ben', 'smi', 'smi', 'concuss', 'remain', 'lineup', 'ursday', 'curti']]\n"
          ]
        }
      ],
      "source": [
        "train_data_processed = [sentence.split() for sentence in train_data_processning]\n",
        "print(train_data_processed[:2])\n"
      ]
    },
    {
      "cell_type": "code",
      "execution_count": null,
      "metadata": {
        "colab": {
          "base_uri": "https://localhost:8080/"
        },
        "id": "Th1ihSJbzmzn",
        "outputId": "1367c8ed-b376-4ac4-f89b-b8fd4e639082"
      },
      "outputs": [
        {
          "name": "stderr",
          "output_type": "stream",
          "text": [
            "WARNING:gensim.models.word2vec:Effective 'alpha' higher than previous training cycles\n"
          ]
        },
        {
          "data": {
            "text/plain": [
              "(23904905, 26264550)"
            ]
          },
          "execution_count": 11,
          "metadata": {},
          "output_type": "execute_result"
        }
      ],
      "source": [
        "import gensim\n",
        "from gensim.models import Word2Vec\n",
        "# model = Word2Vec(train_data_processed, vector_size=100, window=5, min_count=3)\n",
        "\n",
        "word2vec_model = Word2Vec(sentences=train_data_processed, vector_size=128, window=5, min_count=1, workers=4)\n",
        "word2vec_model.train(train_data_processed, total_examples=len(train_data_processed), epochs=50)"
      ]
    },
    {
      "cell_type": "code",
      "execution_count": null,
      "metadata": {
        "colab": {
          "base_uri": "https://localhost:8080/"
        },
        "id": "u_3a0TO1xtcv",
        "outputId": "8d8bbc1f-22ef-4e20-e9b5-094fde57e7ca"
      },
      "outputs": [
        {
          "name": "stdout",
          "output_type": "stream",
          "text": [
            "train data after cleaning: 45614\n",
            "develop(val) data after cleaning: 2000\n",
            "test(val) data after cleaning: 12229\n"
          ]
        }
      ],
      "source": [
        "\n",
        "\n",
        "tokenizer = Tokenizer(num_words=10000)\n",
        "tokenizer.fit_on_texts(train_data_processning)\n",
        "\n",
        "# Convert text to sequence\n",
        "X_train_seq = tokenizer.texts_to_sequences(train_data_processning)\n",
        "X_val_seq = tokenizer.texts_to_sequences(val_data_processning)\n",
        "\n",
        "X_test_seq = tokenizer.texts_to_sequences(test_data_processning)\n",
        "\n",
        "\n",
        "# cleaning the invalide data\n",
        "invalid_indices_train = [i for i, seq in enumerate(X_train_seq) if len(seq) == 0]\n",
        "invalid_indices_val = [i for i, seq in enumerate(X_val_seq) if len(seq) == 0]\n",
        "\n",
        "invalid_indices_test = [i for i, seq in enumerate(X_test_seq) if len(seq) == 0]\n",
        "\n",
        "\n",
        "\n",
        "\n",
        "X_train_seq_clean = [seq for i, seq in enumerate(X_train_seq) if i not in invalid_indices_train]\n",
        "y_train_ohe_clean = np.delete(train_data1_label, invalid_indices_train, axis=0)\n",
        "\n",
        "\n",
        "X_val_seq_clean = [seq for i, seq in enumerate(X_val_seq) if i not in invalid_indices_val]\n",
        "y_val_ohe_clean = np.delete(val_data1_label, invalid_indices_val, axis=0)\n",
        "\n",
        "\n",
        "X_test_seq_clean = [seq for i, seq in enumerate(X_test_seq) if i not in invalid_indices_test]\n",
        "y_test_ohe_clean = np.delete(test_data1_label, invalid_indices_test, axis=0)\n",
        "\n",
        "\n",
        "\n",
        "# update index\n",
        "max_seq_length = max(len(seq) for seq in X_train_seq_clean + X_val_seq_clean)\n",
        "X_train_padded_clean = pad_sequences(X_train_seq_clean, maxlen=max_seq_length)\n",
        "X_val_padded_clean = pad_sequences(X_val_seq_clean, maxlen=max_seq_length)\n",
        "\n",
        "\n",
        "max_test_length = max(len(seq) for seq in X_test_seq_clean )\n",
        "X_test_padded_clean = pad_sequences(X_test_seq_clean, maxlen=max_seq_length)\n",
        "\n",
        "\n",
        "\n",
        "# update\n",
        "y_train_ohe_clean = to_categorical(y_train_ohe_clean)\n",
        "y_val_ohe_clean = to_categorical(y_val_ohe_clean)\n",
        "\n",
        "y_test_ohe_clean = to_categorical(y_test_ohe_clean)\n",
        "\n",
        "\n",
        "print(\"train data after cleaning:\", len(X_train_seq_clean))\n",
        "print(\"develop(val) data after cleaning:\", len(X_val_seq_clean))\n",
        "print(\"test(val) data after cleaning:\", len(X_test_seq_clean))\n"
      ]
    },
    {
      "cell_type": "code",
      "execution_count": null,
      "metadata": {
        "id": "RzmHmN8YyIew"
      },
      "outputs": [],
      "source": [
        "\n",
        "\n",
        "# Get the pre-trained word embeddings\n",
        "word_embeddings = word2vec_model.wv\n",
        "\n",
        "# Get the embedding matrix\n",
        "embedding_matrix = word_embeddings.vectors\n",
        "\n",
        "# Get the vocabulary size\n",
        "vocab_size = len(word_embeddings.key_to_index)\n",
        "\n",
        "# Update the embedding layer in your neural network model\n",
        "embedding_layer = Embedding(input_dim=vocab_size,\n",
        "                            output_dim=128,\n",
        "                            weights=[embedding_matrix],\n",
        "                            input_length=max_seq_length,\n",
        "                            trainable=False)\n",
        "\n",
        "\n"
      ]
    },
    {
      "cell_type": "code",
      "execution_count": null,
      "metadata": {
        "id": "DDpgL1fNPANC"
      },
      "outputs": [],
      "source": [
        "# Define the learning rate scheduler function\n",
        "\n",
        "\n",
        "\n",
        "def learning_rate_scheduler(epoch: int) -> float:\n",
        "\n",
        "    return 0.0001\n"
      ]
    },
    {
      "cell_type": "code",
      "execution_count": null,
      "metadata": {
        "id": "1PRQLxYMRJuI"
      },
      "outputs": [],
      "source": [
        "from nltk.sentiment import SentimentIntensityAnalyzer\n",
        "def get_sentiment_score(line: list[str]) -> list[float]:\n",
        "    \"\"\"\n",
        "    Get the sentiment score of the input text data.\n",
        "\n",
        "    Args:\n",
        "        line: list[str]: A line (list of str).\n",
        "\n",
        "    Returns:\n",
        "        list[float]: The compound score of 10 words in the sentence which has\n",
        "        the most significant score (far from 0). If the sentence has less than\n",
        "        10 words, the value of the remaining elements will be 0.\n",
        "        After that, the score for the whole line is added to the list.\n",
        "    \"\"\"\n",
        "    scores: list[float] = []\n",
        "    analyzer = SentimentIntensityAnalyzer()\n",
        "    for string in line:\n",
        "        score = analyzer.polarity_scores(string)[\"compound\"]\n",
        "        scores.append(score)\n",
        "    line_score = analyzer.polarity_scores(\" \".join(line))[\"compound\"]\n",
        "\n",
        "    # Get the 10 most significant scores and add the line score\n",
        "    if len(scores) > 10:\n",
        "        scores.sort(key=lambda x: abs(x), reverse=True)\n",
        "        result = scores[:10]\n",
        "        result.append(line_score)\n",
        "    else:\n",
        "        result = scores\n",
        "        result += [0] * (10 - len(scores))\n",
        "        result.append(line_score)\n",
        "\n",
        "    return result\n"
      ]
    },
    {
      "cell_type": "code",
      "execution_count": null,
      "metadata": {
        "colab": {
          "background_save": true,
          "base_uri": "https://localhost:8080/"
        },
        "id": "96ASZDeaRP6L",
        "outputId": "8db97a6c-61c2-421e-859e-8de4740ce194"
      },
      "outputs": [
        {
          "name": "stderr",
          "output_type": "stream",
          "text": [
            "[nltk_data] Downloading package vader_lexicon to /root/nltk_data...\n"
          ]
        }
      ],
      "source": [
        "# Get the sentiment score of the text data\n",
        "import nltk\n",
        "nltk.download('vader_lexicon')\n",
        "\n",
        "train_sentiment_score = np.array([get_sentiment_score(line) for line in train_data_processning])\n",
        "val_sentiment_score = np.array([get_sentiment_score(line) for line in val_data_processning])\n",
        "test_sentiment_score = np.array([get_sentiment_score(line) for line in test_data_processning])\n"
      ]
    },
    {
      "cell_type": "code",
      "execution_count": null,
      "metadata": {
        "colab": {
          "background_save": true
        },
        "id": "H0RIBKuOSckR"
      },
      "outputs": [],
      "source": [
        "\n",
        "invalid_indices_train = []\n",
        "invalid_indices_val = []\n",
        "invalid_indices_test = []\n",
        "\n",
        "\n",
        "for i, text in enumerate(train_data_processning):\n",
        "    if not text:\n",
        "        invalid_indices_train.append(i)\n",
        "\n",
        "\n",
        "train_data_processning = [text for i, text in enumerate(train_data_processning) if i not in invalid_indices_train]\n",
        "train_data1_label = np.delete(train_data1_label, invalid_indices_train, axis=0)\n",
        "\n",
        "\n",
        "invalid_indices_train = []\n",
        "\n",
        "\n",
        "for i, text in enumerate(val_data_processning):\n",
        "    if not text:\n",
        "        invalid_indices_val.append(i)\n",
        "\n",
        "\n",
        "val_data_processning = [text for i, text in enumerate(val_data_processning) if i not in invalid_indices_val]\n",
        "val_data1_label = np.delete(val_data1_label, invalid_indices_val, axis=0)\n",
        "\n",
        "\n",
        "\n",
        "for i, text in enumerate(test_data_processning):\n",
        "    if not text:\n",
        "        invalid_indices_test.append(i)\n",
        "\n",
        "\n",
        "test_data_processning = [text for i, text in enumerate(test_data_processning) if i not in invalid_indices_test]\n",
        "test_data1_label = np.delete(test_data1_label, invalid_indices_test, axis=0)\n",
        "\n",
        "\n",
        "# Get the sentiment score of the text data\n",
        "train_sentiment_score = np.array([get_sentiment_score(line) for line in train_data_processning])\n",
        "val_sentiment_score = np.array([get_sentiment_score(line) for line in val_data_processning])\n",
        "test_sentiment_score = np.array([get_sentiment_score(line) for line in test_data_processning])\n",
        "\n",
        "# Vectorize the text data\n",
        "tokenizer = Tokenizer(num_words=10000)\n",
        "tokenizer.fit_on_texts(train_data_processning)\n",
        "\n",
        "X_train_seq = tokenizer.texts_to_sequences(train_data_processning)\n",
        "X_val_seq = tokenizer.texts_to_sequences(val_data_processning)\n",
        "X_test_seq = tokenizer.texts_to_sequences(test_data_processning)\n",
        "\n",
        "# Convert the sequences to padded sequences\n",
        "max_seq_length = max(len(seq) for seq in X_train_seq + X_val_seq + X_test_seq)\n",
        "X_train_padded = pad_sequences(X_train_seq, maxlen=max_seq_length)\n",
        "X_val_padded = pad_sequences(X_val_seq, maxlen=max_seq_length)\n",
        "X_test_padded = pad_sequences(X_test_seq, maxlen=max_seq_length)\n",
        "\n",
        "# Add the sentiment score as a feature\n",
        "X_train_padded_with_sentiment = np.column_stack((X_train_padded, train_sentiment_score))\n",
        "X_val_padded_with_sentiment = np.column_stack((X_val_padded, val_sentiment_score))\n",
        "X_test_padded_with_sentiment = np.column_stack((X_test_padded, test_sentiment_score))\n"
      ]
    },
    {
      "cell_type": "code",
      "execution_count": null,
      "metadata": {
        "colab": {
          "background_save": true
        },
        "id": "f3Lo2qvnbBTz",
        "outputId": "7d4f817c-2f72-4697-c233-552894120150"
      },
      "outputs": [
        {
          "name": "stdout",
          "output_type": "stream",
          "text": [
            "Train Feature Shape: (45614, 43)\n",
            "Validation Feature Shape: (2000, 43)\n",
            "Test Feature Shape: (12264, 43)\n"
          ]
        }
      ],
      "source": [
        "from tensorflow.keras.preprocessing.text import Tokenizer\n",
        "from tensorflow.keras.preprocessing.sequence import pad_sequences\n",
        "import numpy as np\n",
        "\n",
        "tokenizer = Tokenizer(num_words=10000)\n",
        "tokenizer.fit_on_texts(train_data_processning)\n",
        "\n",
        "X_train_seq = tokenizer.texts_to_sequences(train_data_processning)\n",
        "X_val_seq = tokenizer.texts_to_sequences(val_data_processning)\n",
        "X_test_seq = tokenizer.texts_to_sequences(test_data_processning)\n",
        "\n",
        "\n",
        "max_seq_length = max(len(seq) for seq in X_train_seq + X_val_seq + X_test_seq)\n",
        "X_train_padded = pad_sequences(X_train_seq, maxlen=max_seq_length)\n",
        "X_val_padded = pad_sequences(X_val_seq, maxlen=max_seq_length)\n",
        "X_test_padded = pad_sequences(X_test_seq, maxlen=max_seq_length)\n",
        "\n",
        "\n",
        "X_train_padded_with_sentiment = np.column_stack((X_train_padded, train_sentiment_score))\n",
        "X_val_padded_with_sentiment = np.column_stack((X_val_padded, val_sentiment_score))\n",
        "X_test_padded_with_sentiment = np.column_stack((X_test_padded, test_sentiment_score))\n",
        "\n",
        "\n",
        "print(\"Train Feature Shape:\", X_train_padded_with_sentiment.shape)\n",
        "print(\"Validation Feature Shape:\", X_val_padded_with_sentiment.shape)\n",
        "print(\"Test Feature Shape:\", X_test_padded_with_sentiment.shape)\n"
      ]
    },
    {
      "cell_type": "code",
      "execution_count": 21,
      "metadata": {
        "colab": {
          "base_uri": "https://localhost:8080/",
          "height": 1000
        },
        "id": "EW7X8LsRpPrs",
        "outputId": "29ec6e7c-68f4-4efe-c2a6-f2dfb604c78d"
      },
      "outputs": [
        {
          "output_type": "stream",
          "name": "stdout",
          "text": [
            "Epoch 1/150\n",
            "179/179 [==============================] - 13s 64ms/step - loss: 1.0614 - accuracy: 0.4192 - val_loss: 1.0301 - val_accuracy: 0.4345 - lr: 1.0000e-04\n",
            "Epoch 2/150\n",
            "179/179 [==============================] - 10s 55ms/step - loss: 1.0166 - accuracy: 0.4567 - val_loss: 1.0129 - val_accuracy: 0.4345 - lr: 1.0000e-04\n",
            "Epoch 3/150\n",
            "179/179 [==============================] - 9s 52ms/step - loss: 1.0072 - accuracy: 0.4617 - val_loss: 1.0075 - val_accuracy: 0.4350 - lr: 1.0000e-04\n",
            "Epoch 4/150\n",
            "179/179 [==============================] - 10s 53ms/step - loss: 1.0013 - accuracy: 0.4695 - val_loss: 1.0003 - val_accuracy: 0.4570 - lr: 1.0000e-04\n",
            "Epoch 5/150\n",
            "179/179 [==============================] - 9s 49ms/step - loss: 0.9909 - accuracy: 0.5040 - val_loss: 0.9894 - val_accuracy: 0.4920 - lr: 1.0000e-04\n",
            "Epoch 6/150\n",
            "179/179 [==============================] - 9s 48ms/step - loss: 0.9748 - accuracy: 0.5422 - val_loss: 0.9715 - val_accuracy: 0.5715 - lr: 1.0000e-04\n",
            "Epoch 7/150\n",
            "179/179 [==============================] - 9s 50ms/step - loss: 0.9522 - accuracy: 0.5775 - val_loss: 0.9494 - val_accuracy: 0.5755 - lr: 1.0000e-04\n",
            "Epoch 8/150\n",
            "179/179 [==============================] - 9s 49ms/step - loss: 0.9245 - accuracy: 0.5987 - val_loss: 0.9237 - val_accuracy: 0.5905 - lr: 1.0000e-04\n",
            "Epoch 9/150\n",
            "179/179 [==============================] - 11s 61ms/step - loss: 0.8944 - accuracy: 0.6084 - val_loss: 0.8975 - val_accuracy: 0.6030 - lr: 1.0000e-04\n",
            "Epoch 10/150\n",
            "179/179 [==============================] - 10s 55ms/step - loss: 0.8650 - accuracy: 0.6183 - val_loss: 0.8739 - val_accuracy: 0.6035 - lr: 1.0000e-04\n",
            "Epoch 11/150\n",
            "179/179 [==============================] - 8s 46ms/step - loss: 0.8366 - accuracy: 0.6259 - val_loss: 0.8519 - val_accuracy: 0.6105 - lr: 1.0000e-04\n",
            "Epoch 12/150\n",
            "179/179 [==============================] - 9s 52ms/step - loss: 0.8129 - accuracy: 0.6355 - val_loss: 0.8330 - val_accuracy: 0.6135 - lr: 1.0000e-04\n",
            "Epoch 13/150\n",
            "179/179 [==============================] - 9s 52ms/step - loss: 0.7904 - accuracy: 0.6435 - val_loss: 0.8172 - val_accuracy: 0.6200 - lr: 1.0000e-04\n",
            "Epoch 14/150\n",
            "179/179 [==============================] - 8s 47ms/step - loss: 0.7701 - accuracy: 0.6520 - val_loss: 0.8045 - val_accuracy: 0.6295 - lr: 1.0000e-04\n",
            "Epoch 15/150\n",
            "179/179 [==============================] - 10s 54ms/step - loss: 0.7514 - accuracy: 0.6634 - val_loss: 0.7936 - val_accuracy: 0.6360 - lr: 1.0000e-04\n",
            "Epoch 16/150\n",
            "179/179 [==============================] - 9s 50ms/step - loss: 0.7358 - accuracy: 0.6711 - val_loss: 0.7845 - val_accuracy: 0.6440 - lr: 1.0000e-04\n",
            "Epoch 17/150\n",
            "179/179 [==============================] - 9s 51ms/step - loss: 0.7228 - accuracy: 0.6807 - val_loss: 0.7773 - val_accuracy: 0.6500 - lr: 1.0000e-04\n",
            "Epoch 18/150\n",
            "179/179 [==============================] - 10s 54ms/step - loss: 0.7110 - accuracy: 0.6860 - val_loss: 0.7713 - val_accuracy: 0.6585 - lr: 1.0000e-04\n",
            "Epoch 19/150\n",
            "179/179 [==============================] - 9s 52ms/step - loss: 0.6999 - accuracy: 0.6912 - val_loss: 0.7667 - val_accuracy: 0.6620 - lr: 1.0000e-04\n",
            "Epoch 20/150\n",
            "179/179 [==============================] - 11s 61ms/step - loss: 0.6889 - accuracy: 0.6963 - val_loss: 0.7630 - val_accuracy: 0.6650 - lr: 1.0000e-04\n",
            "Epoch 21/150\n",
            "179/179 [==============================] - 8s 47ms/step - loss: 0.6802 - accuracy: 0.7036 - val_loss: 0.7594 - val_accuracy: 0.6660 - lr: 1.0000e-04\n",
            "Epoch 22/150\n",
            "179/179 [==============================] - 9s 51ms/step - loss: 0.6726 - accuracy: 0.7061 - val_loss: 0.7565 - val_accuracy: 0.6675 - lr: 1.0000e-04\n",
            "Epoch 23/150\n",
            "179/179 [==============================] - 10s 54ms/step - loss: 0.6637 - accuracy: 0.7121 - val_loss: 0.7559 - val_accuracy: 0.6675 - lr: 1.0000e-04\n",
            "Epoch 24/150\n",
            "179/179 [==============================] - 10s 54ms/step - loss: 0.6569 - accuracy: 0.7144 - val_loss: 0.7534 - val_accuracy: 0.6705 - lr: 1.0000e-04\n",
            "Epoch 25/150\n",
            "179/179 [==============================] - 10s 56ms/step - loss: 0.6502 - accuracy: 0.7184 - val_loss: 0.7510 - val_accuracy: 0.6705 - lr: 1.0000e-04\n",
            "Epoch 26/150\n",
            "179/179 [==============================] - 10s 58ms/step - loss: 0.6427 - accuracy: 0.7228 - val_loss: 0.7500 - val_accuracy: 0.6675 - lr: 1.0000e-04\n",
            "Epoch 27/150\n",
            "179/179 [==============================] - 9s 49ms/step - loss: 0.6359 - accuracy: 0.7272 - val_loss: 0.7494 - val_accuracy: 0.6700 - lr: 1.0000e-04\n",
            "Epoch 28/150\n",
            "179/179 [==============================] - 8s 45ms/step - loss: 0.6316 - accuracy: 0.7273 - val_loss: 0.7488 - val_accuracy: 0.6665 - lr: 1.0000e-04\n",
            "Epoch 29/150\n",
            "179/179 [==============================] - 9s 48ms/step - loss: 0.6248 - accuracy: 0.7315 - val_loss: 0.7489 - val_accuracy: 0.6685 - lr: 1.0000e-04\n",
            "Epoch 30/150\n",
            "179/179 [==============================] - 9s 52ms/step - loss: 0.6207 - accuracy: 0.7331 - val_loss: 0.7489 - val_accuracy: 0.6685 - lr: 1.0000e-04\n",
            "Epoch 31/150\n",
            "179/179 [==============================] - 8s 45ms/step - loss: 0.6152 - accuracy: 0.7371 - val_loss: 0.7492 - val_accuracy: 0.6705 - lr: 1.0000e-04\n",
            "Epoch 32/150\n",
            "179/179 [==============================] - 10s 53ms/step - loss: 0.6098 - accuracy: 0.7386 - val_loss: 0.7519 - val_accuracy: 0.6655 - lr: 1.0000e-04\n",
            "Epoch 33/150\n",
            "179/179 [==============================] - 8s 45ms/step - loss: 0.6059 - accuracy: 0.7427 - val_loss: 0.7501 - val_accuracy: 0.6690 - lr: 1.0000e-04\n",
            "Epoch 34/150\n",
            "179/179 [==============================] - 9s 53ms/step - loss: 0.6013 - accuracy: 0.7438 - val_loss: 0.7508 - val_accuracy: 0.6705 - lr: 1.0000e-04\n",
            "Epoch 35/150\n",
            "179/179 [==============================] - 9s 48ms/step - loss: 0.5975 - accuracy: 0.7465 - val_loss: 0.7519 - val_accuracy: 0.6685 - lr: 1.0000e-04\n",
            "Epoch 36/150\n",
            "179/179 [==============================] - 9s 49ms/step - loss: 0.5920 - accuracy: 0.7497 - val_loss: 0.7529 - val_accuracy: 0.6715 - lr: 1.0000e-04\n",
            "Epoch 37/150\n",
            "179/179 [==============================] - 9s 50ms/step - loss: 0.5895 - accuracy: 0.7509 - val_loss: 0.7537 - val_accuracy: 0.6700 - lr: 1.0000e-04\n",
            "Epoch 37: early stopping\n"
          ]
        },
        {
          "output_type": "display_data",
          "data": {
            "text/plain": [
              "<Figure size 1500x500 with 2 Axes>"
            ],
            "image/png": "[encoded data removed]"
          },
          "metadata": {}
        }
      ],
      "source": [
        "\n",
        "sche = learning_rate_scheduler\n",
        "rate_scheduler = tf.keras.callbacks.LearningRateScheduler(sche)\n",
        "embedding_dim = 100\n",
        "\n",
        "# Define the input shape of the embedding layer\n",
        "import tensorflow as tf\n",
        "import pandas as pd\n",
        "import matplotlib.pyplot as plt\n",
        "import seaborn as sns\n",
        "\n",
        "# Define the input shape of the embedding layer\n",
        "input_length = 43  # Set the input length to match your sequence length\n",
        "\n",
        "# Define the embedding layer with the adjusted input shape\n",
        "embedding_layer = tf.keras.layers.Embedding(\n",
        "    input_dim=vocab_size,  # Assuming you have defined vocab_size\n",
        "    output_dim=embedding_dim,  # Assuming you have defined embedding_dim\n",
        "    input_length=input_length  # Adjusted input length\n",
        ")\n",
        "\n",
        "# Define the model\n",
        "model_nn = tf.keras.models.Sequential([\n",
        "    embedding_layer,\n",
        "    tf.keras.layers.GlobalAveragePooling1D(),  # Global average pooling layer\n",
        "    tf.keras.layers.Dense(64, activation='relu'),  # Fully connected layer\n",
        "    tf.keras.layers.Dropout(0.2),  # Dropout layer\n",
        "    tf.keras.layers.Dense(3, activation='softmax')  # Output layer\n",
        "])\n",
        "\n",
        "# Compile the model\n",
        "model_nn.compile(loss='categorical_crossentropy', optimizer='adam', metrics=['accuracy'])\n",
        "\n",
        "# Define the callbacks\n",
        "early_stopping = tf.keras.callbacks.EarlyStopping(\n",
        "    monitor=\"val_loss\", patience=9, mode=\"min\", verbose=1\n",
        ")\n",
        "rate_scheduler = tf.keras.callbacks.LearningRateScheduler(learning_rate_scheduler)\n",
        "\n",
        "# Fit the model\n",
        "batch_size = 256\n",
        "model_nn_hist = model_nn.fit(\n",
        "    X_train_padded_with_sentiment, y_train_ohe_clean,\n",
        "    epochs=150,\n",
        "    batch_size=batch_size,\n",
        "    validation_data=(X_val_padded_with_sentiment, y_val_ohe_clean),\n",
        "    callbacks=[early_stopping, rate_scheduler]\n",
        ")\n",
        "\n",
        "# Plot training results\n",
        "model_nn_hist_df = pd.DataFrame(model_nn_hist.history)\n",
        "\n",
        "plt.figure(figsize=(15, 5))\n",
        "plt.subplot(1, 2, 1)\n",
        "sns.lineplot(data=model_nn_hist_df[['accuracy', 'val_accuracy']])\n",
        "plt.grid()\n",
        "plt.title('Accuracy vs Val-Accuracy')\n",
        "\n",
        "plt.subplot(1, 2, 2)\n",
        "sns.lineplot(data=model_nn_hist_df[['loss', 'val_loss']])\n",
        "plt.grid()\n",
        "plt.title('Loss vs Val-Loss')\n",
        "plt.show()\n",
        "\n"
      ]
    },
    {
      "cell_type": "code",
      "execution_count": 22,
      "metadata": {
        "colab": {
          "base_uri": "https://localhost:8080/"
        },
        "id": "X_OYOjUsX-1k",
        "outputId": "9e17a76e-455d-42a0-b159-a62758f9a98c"
      },
      "outputs": [
        {
          "output_type": "stream",
          "name": "stdout",
          "text": [
            "Best Model Epoch: 36\n",
            "Validation Accuracy: 0.671500027179718\n",
            "Validation Loss: 0.7528921365737915\n",
            "\n",
            "Best Model Summary:\n",
            "{\"class_name\": \"Sequential\", \"config\": {\"name\": \"sequential_1\", \"layers\": [{\"module\": \"keras.layers\", \"class_name\": \"InputLayer\", \"config\": {\"batch_input_shape\": [null, 43], \"dtype\": \"float32\", \"sparse\": false, \"ragged\": false, \"name\": \"embedding_2_input\"}, \"registered_name\": null}, {\"module\": \"keras.layers\", \"class_name\": \"Embedding\", \"config\": {\"name\": \"embedding_2\", \"trainable\": true, \"dtype\": \"float32\", \"batch_input_shape\": [null, 43], \"input_dim\": 27764, \"output_dim\": 100, \"embeddings_initializer\": {\"module\": \"keras.initializers\", \"class_name\": \"RandomUniform\", \"config\": {\"minval\": -0.05, \"maxval\": 0.05, \"seed\": null}, \"registered_name\": null}, \"embeddings_regularizer\": null, \"activity_regularizer\": null, \"embeddings_constraint\": null, \"mask_zero\": false, \"input_length\": 43}, \"registered_name\": null, \"build_config\": {\"input_shape\": [null, 43]}}, {\"module\": \"keras.layers\", \"class_name\": \"GlobalAveragePooling1D\", \"config\": {\"name\": \"global_average_pooling1d\", \"trainable\": true, \"dtype\": \"float32\", \"data_format\": \"channels_last\", \"keepdims\": false}, \"registered_name\": null, \"build_config\": {\"input_shape\": [null, 43, 100]}}, {\"module\": \"keras.layers\", \"class_name\": \"Dense\", \"config\": {\"name\": \"dense_1\", \"trainable\": true, \"dtype\": \"float32\", \"units\": 64, \"activation\": \"relu\", \"use_bias\": true, \"kernel_initializer\": {\"module\": \"keras.initializers\", \"class_name\": \"GlorotUniform\", \"config\": {\"seed\": null}, \"registered_name\": null}, \"bias_initializer\": {\"module\": \"keras.initializers\", \"class_name\": \"Zeros\", \"config\": {}, \"registered_name\": null}, \"kernel_regularizer\": null, \"bias_regularizer\": null, \"activity_regularizer\": null, \"kernel_constraint\": null, \"bias_constraint\": null}, \"registered_name\": null, \"build_config\": {\"input_shape\": [null, 100]}}, {\"module\": \"keras.layers\", \"class_name\": \"Dropout\", \"config\": {\"name\": \"dropout_2\", \"trainable\": true, \"dtype\": \"float32\", \"rate\": 0.2, \"noise_shape\": null, \"seed\": null}, \"registered_name\": null, \"build_config\": {\"input_shape\": [null, 64]}}, {\"module\": \"keras.layers\", \"class_name\": \"Dense\", \"config\": {\"name\": \"dense_2\", \"trainable\": true, \"dtype\": \"float32\", \"units\": 3, \"activation\": \"softmax\", \"use_bias\": true, \"kernel_initializer\": {\"module\": \"keras.initializers\", \"class_name\": \"GlorotUniform\", \"config\": {\"seed\": null}, \"registered_name\": null}, \"bias_initializer\": {\"module\": \"keras.initializers\", \"class_name\": \"Zeros\", \"config\": {}, \"registered_name\": null}, \"kernel_regularizer\": null, \"bias_regularizer\": null, \"activity_regularizer\": null, \"kernel_constraint\": null, \"bias_constraint\": null}, \"registered_name\": null, \"build_config\": {\"input_shape\": [null, 64]}}]}, \"keras_version\": \"2.15.0\", \"backend\": \"tensorflow\"}\n",
            "Best model saved to: /content/best_model_nn.h5\n"
          ]
        },
        {
          "output_type": "stream",
          "name": "stderr",
          "text": [
            "/usr/local/lib/python3.10/dist-packages/keras/src/engine/training.py:3103: UserWarning: You are saving your model as an HDF5 file via `model.save()`. This file format is considered legacy. We recommend using instead the native Keras format, e.g. `model.save('my_model.keras')`.\n",
            "  saving_api.save_model(\n"
          ]
        }
      ],
      "source": [
        "# best_model_index = model_lstm_1_hist_df['val_accuracy'].idxmax()\n",
        "# best_model = model_lstm_1_hist_df.iloc[best_model_index]\n",
        "# print(\"Best Model Epoch:\", best_model_index + 1)\n",
        "# print(\"Validation Accuracy:\", best_model['val_accuracy'])\n",
        "# print(\"Validation Loss:\", best_model['val_loss'])\n",
        "\n",
        "# # the best model information\n",
        "# print(\"\\nBest Model Summary:\")\n",
        "# best_model_summary = model_lstm_1.to_json()\n",
        "# print(best_model_summary)\n",
        "# # saving\n",
        "\n",
        "# # best_model.save(\"best_model_lstm_1.h5\")\n",
        "\n",
        "# model_lstm_1.save(\"/content/best_model_lstm_1.h5\")\n",
        "\n",
        "# Choose the best model based on validation accuracy\n",
        "best_model_index = model_nn_hist_df['val_accuracy'].idxmax()\n",
        "best_model = model_nn_hist_df.iloc[best_model_index]\n",
        "print(\"Best Model Epoch:\", best_model_index + 1)\n",
        "print(\"Validation Accuracy:\", best_model['val_accuracy'])\n",
        "print(\"Validation Loss:\", best_model['val_loss'])\n",
        "\n",
        "# Get the best model architecture\n",
        "best_model_summary = model_nn.to_json()\n",
        "print(\"\\nBest Model Summary:\")\n",
        "print(best_model_summary)\n",
        "\n",
        "# Save the best model\n",
        "best_model_path = \"/content/best_model_nn.h5\"\n",
        "model_nn.save(best_model_path)\n",
        "print(\"Best model saved to:\", best_model_path)\n"
      ]
    },
    {
      "cell_type": "code",
      "execution_count": 25,
      "metadata": {
        "colab": {
          "base_uri": "https://localhost:8080/"
        },
        "id": "51TY3iX_HMaR",
        "outputId": "e6bbd2dd-a5f3-4128-f44b-79b227f68054"
      },
      "outputs": [
        {
          "output_type": "stream",
          "name": "stdout",
          "text": [
            "384/384 [==============================] - 2s 4ms/step - loss: 0.8772 - accuracy: 0.6018\n",
            "Test Accuracy: 0.6017612814903259\n"
          ]
        }
      ],
      "source": [
        "from keras.models import load_model\n",
        "from keras.utils import to_categorical\n",
        "\n",
        "# Load the best neural network model\n",
        "best_model_nn = load_model(\"/content/best_model_nn.h5\")\n",
        "\n",
        "# Convert test labels to one-hot encoding\n",
        "y_test_ohe = to_categorical(test_data1_label)\n",
        "\n",
        "# Evaluate the model on the test data\n",
        "test_loss, test_accuracy = best_model_nn.evaluate(X_test_padded_with_sentiment, y_test_ohe, verbose=1)\n",
        "\n",
        "# Print the test accuracy\n",
        "print(\"Test Accuracy:\", test_accuracy)\n"
      ]
    }
  ],
  "metadata": {
    "colab": {
      "provenance": []
    },
    "kernelspec": {
      "display_name": "Python 3",
      "name": "python3"
    },
    "language_info": {
      "name": "python"
    }
  },
  "nbformat": 4,
  "nbformat_minor": 0
}