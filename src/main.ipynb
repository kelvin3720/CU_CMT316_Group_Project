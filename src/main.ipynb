{
 "cells": [
  {
   "cell_type": "markdown",
   "id": "28d182dc",
   "metadata": {},
   "source": [
    "### Imports"
   ]
  },
  {
   "cell_type": "code",
   "execution_count": 1,
   "id": "5fb147de",
   "metadata": {},
   "outputs": [
    {
     "name": "stdout",
     "output_type": "stream",
     "text": [
      "\u001b[33mWARNING: Running pip as the 'root' user can result in broken permissions and conflicting behaviour with the system package manager. It is recommended to use a virtual environment instead: https://pip.pypa.io/warnings/venv\u001b[0m\u001b[33m\n",
      "\u001b[0m\u001b[33mWARNING: Running pip as the 'root' user can result in broken permissions and conflicting behaviour with the system package manager. It is recommended to use a virtual environment instead: https://pip.pypa.io/warnings/venv\u001b[0m\u001b[33m\n",
      "\u001b[0m\u001b[33mWARNING: Running pip as the 'root' user can result in broken permissions and conflicting behaviour with the system package manager. It is recommended to use a virtual environment instead: https://pip.pypa.io/warnings/venv\u001b[0m\u001b[33m\n",
      "\u001b[0m\u001b[33mWARNING: Running pip as the 'root' user can result in broken permissions and conflicting behaviour with the system package manager. It is recommended to use a virtual environment instead: https://pip.pypa.io/warnings/venv\u001b[0m\u001b[33m\n",
      "\u001b[0m\u001b[33mWARNING: Running pip as the 'root' user can result in broken permissions and conflicting behaviour with the system package manager. It is recommended to use a virtual environment instead: https://pip.pypa.io/warnings/venv\u001b[0m\u001b[33m\n",
      "\u001b[0m"
     ]
    }
   ],
   "source": [
    "# For Docker image tensorflow/tensorflow:2.14.0-gpu-juptyer and latest-gpu-jupyter \n",
    "# About the latest tag: sha256:efc25f8ad0ec337e8f4e2de9e7e8e391e6729481c7a7cae4bdea3137da7822c6\n",
    "!pip install -q emoji\n",
    "!pip install -q nltk\n",
    "!pip install -q transformers\n",
    "!pip install -q tf-keras\n",
    "!pip install -q scikit-learn"
   ]
  },
  {
   "cell_type": "code",
   "execution_count": 2,
   "id": "26a959c0",
   "metadata": {},
   "outputs": [
    {
     "name": "stderr",
     "output_type": "stream",
     "text": [
      "2024-04-26 22:00:56.421876: I tensorflow/core/platform/cpu_feature_guard.cc:210] This TensorFlow binary is optimized to use available CPU instructions in performance-critical operations.\n",
      "To enable the following instructions: AVX2 FMA, in other operations, rebuild TensorFlow with the appropriate compiler flags.\n"
     ]
    }
   ],
   "source": [
    "from emoji import demojize, is_emoji\n",
    "from typing import Union\n",
    "import matplotlib.pyplot as plt\n",
    "import nltk\n",
    "from nltk.stem import WordNetLemmatizer\n",
    "from nltk.tokenize import TweetTokenizer\n",
    "import numpy as np\n",
    "from numpy import ndarray\n",
    "from sklearn.metrics import f1_score\n",
    "import tensorflow as tf"
   ]
  },
  {
   "cell_type": "code",
   "execution_count": 3,
   "id": "61904ce3",
   "metadata": {},
   "outputs": [
    {
     "name": "stdout",
     "output_type": "stream",
     "text": [
      "GPU available, using GPU\n"
     ]
    },
    {
     "name": "stderr",
     "output_type": "stream",
     "text": [
      "2024-04-26 22:00:57.537323: I external/local_xla/xla/stream_executor/cuda/cuda_executor.cc:984] could not open file to read NUMA node: /sys/bus/pci/devices/0000:01:00.0/numa_node\n",
      "Your kernel may have been built without NUMA support.\n",
      "2024-04-26 22:00:57.541463: I external/local_xla/xla/stream_executor/cuda/cuda_executor.cc:984] could not open file to read NUMA node: /sys/bus/pci/devices/0000:01:00.0/numa_node\n",
      "Your kernel may have been built without NUMA support.\n",
      "2024-04-26 22:00:57.541500: I external/local_xla/xla/stream_executor/cuda/cuda_executor.cc:984] could not open file to read NUMA node: /sys/bus/pci/devices/0000:01:00.0/numa_node\n",
      "Your kernel may have been built without NUMA support.\n"
     ]
    }
   ],
   "source": [
    "# The device_name will be used in model.fit()\n",
    "gpu_devices = tf.config.experimental.list_physical_devices(\"GPU\")\n",
    "\n",
    "if gpu_devices:\n",
    "    print(\"GPU available, using GPU\")\n",
    "    tf.config.experimental.set_visible_devices(gpu_devices[0], \"GPU\")\n",
    "    device_name = \"/GPU:0\"\n",
    "else:\n",
    "    print(\"GPU not available, using CPU\")\n",
    "    device_name = \"/CPU:0\""
   ]
  },
  {
   "cell_type": "markdown",
   "id": "46b3f7e8",
   "metadata": {},
   "source": [
    "### Function for loading data set"
   ]
  },
  {
   "cell_type": "code",
   "execution_count": 4,
   "id": "29c7661b",
   "metadata": {},
   "outputs": [],
   "source": [
    "def load_text_file(file_path: str) -> list[str]:\n",
    "    \"\"\"\n",
    "    Load a text file and return an array of lines from the file.\n",
    "\n",
    "    Args:\n",
    "        file_path: str: The path to the file to load.\n",
    "\n",
    "    Returns:\n",
    "        list[str]: An array of lines from the file.\n",
    "    \"\"\"\n",
    "    with open(file_path, \"r\", encoding=\"utf-8\") as file:\n",
    "        lines = file.readlines()\n",
    "    return [line.strip() for line in lines]"
   ]
  },
  {
   "cell_type": "markdown",
   "id": "4751e373",
   "metadata": {},
   "source": [
    "### Load the text files"
   ]
  },
  {
   "cell_type": "code",
   "execution_count": 5,
   "id": "819ff3c4",
   "metadata": {},
   "outputs": [],
   "source": [
    "train_text_path: str = \"../dataset/train_text.txt\"\n",
    "train_label_path: str = \"../dataset/train_labels.txt\"\n",
    "\n",
    "test_text_path: str = \"../dataset/test_text.txt\"\n",
    "test_label_path: str = \"../dataset/test_labels.txt\"\n",
    "\n",
    "validationt_text_path: str = \"../dataset/val_text.txt\"\n",
    "validationt_label_path: str = \"../dataset/val_labels.txt\"\n",
    "\n",
    "train_text: list[str] = load_text_file(train_text_path)\n",
    "train_label: list[str] = load_text_file(train_label_path)\n",
    "\n",
    "test_text: list[str] = load_text_file(test_text_path)\n",
    "test_label: list[str] = load_text_file(test_label_path)\n",
    "\n",
    "validation_text: list[str] = load_text_file(validationt_text_path)\n",
    "validation_label: list[str] = load_text_file(validationt_label_path)"
   ]
  },
  {
   "cell_type": "markdown",
   "id": "c6cd336c",
   "metadata": {},
   "source": [
    "### Preprocessing"
   ]
  },
  {
   "cell_type": "markdown",
   "id": "a5da2e83",
   "metadata": {},
   "source": [
    "#### Download the NLTK resources and declere global variables"
   ]
  },
  {
   "cell_type": "code",
   "execution_count": 6,
   "id": "3bc75d8f",
   "metadata": {},
   "outputs": [],
   "source": [
    "# Set stopwords\n",
    "nltk.download(\"stopwords\", quiet=True)\n",
    "nltk.download(\"punkt\", quiet=True)\n",
    "nltk.download(\"wordnet\", quiet=True)\n",
    "nltk.download(\"omw-1.4\", quiet=True)\n",
    "nltk.download(\"vader_lexicon\", quiet=True)\n",
    "nltk.download('averaged_perceptron_tagger', quiet=True)\n",
    "stopwords = set(nltk.corpus.stopwords.words(\"english\"))\n",
    "lemmatizer = WordNetLemmatizer()\n",
    "tokenizer = TweetTokenizer()"
   ]
  },
  {
   "cell_type": "markdown",
   "id": "3db4ecc5",
   "metadata": {},
   "source": [
    "### Functions for preprocessing"
   ]
  },
  {
   "cell_type": "code",
   "execution_count": 7,
   "id": "b14f5776",
   "metadata": {},
   "outputs": [],
   "source": [
    "def text_processing(text: list[str]) -> list[str]:\n",
    "    \"\"\"\n",
    "    Process text data:    \n",
    "    - Remove \"@user\"\n",
    "    - Remove \"#\".\n",
    "    - Replace \"’\" and triple dots in one character (…).\n",
    "    - Tokenize and lowercase.\n",
    "    - Normalize the tokens and join the line.\n",
    "    - Replace specific strings.\n",
    "    - Remove excess space after processing.\n",
    "\n",
    "    Args:\n",
    "        text: list[str]: A list of text data.\n",
    "\n",
    "    Returns:\n",
    "        list[str]: A list of processed sentences\n",
    "    \"\"\"\n",
    "    processed_text = []\n",
    "    for line in text:\n",
    "        # Remove @user\n",
    "        line = line.replace(\"@user\", \"\")\n",
    "        # Remove #\n",
    "        line = line.replace(\"#\", \"\")\n",
    "        # Replace \"’\" and triple dots in one character (…)\n",
    "        line = line.replace(\"’\", \"'\").replace(\"…\", \"...\")\n",
    "        # Tokenize and lowercase\n",
    "        tokens = tokenizer.tokenize(line.lower())\n",
    "        # Normalize the tokens and join the line\n",
    "        line = \" \".join([normalize_token(token) for token in tokens])\n",
    "        # Replace specific strings\n",
    "        line = (\n",
    "            line.replace(\"cannot\", \"can not\")\n",
    "            .replace(\"can't\", \"can not\")\n",
    "            .replace(\"n't \", \" not \")\n",
    "            # Handle cases in English, where when \"n't\" is replace with\n",
    "            # \" not \", the meaning of the word will be invalid\n",
    "            .replace(\"wo not \", \"will not \")\n",
    "            .replace(\"sha not\", \"shall not\")\n",
    "            # \"ain't\" can be \"am/is/are not\", so it stays\n",
    "            .replace(\"ai not \", \"ain't \")\n",
    "        )\n",
    "        line = (\n",
    "            line.replace(\"'m \", \" am \")\n",
    "            .replace(\"'re \", \" are \")\n",
    "            .replace(\"'ll \", \" will \")\n",
    "            .replace(\"'ve \", \" have \")\n",
    "            # 's can mean ownership or \"is\"\n",
    "            .replace(\"'s \", \" 's \")\n",
    "            # 'd can mean \"would\" or \"had\"\n",
    "            .replace(\"'d \", \" 'd \")\n",
    "        )\n",
    "        # Remove excess spaces\n",
    "        line = \" \".join(line.split())\n",
    "        processed_text.append(line)\n",
    "    \n",
    "    return processed_text\n",
    "\n",
    "\n",
    "def normalize_token(token: str) -> str:\n",
    "    \"\"\"\n",
    "    Normalize the provided token.\n",
    "    - Replace URLs with \"HTTPURL\".\n",
    "    - Replace emojis with respective string.\n",
    "\n",
    "    Args:\n",
    "        token: str: The string being normalized\n",
    "\n",
    "    Return:\n",
    "        str: The normalized string\n",
    "    \"\"\"\n",
    "    if token.startswith(\"http\") or token.startswith(\"www\"):\n",
    "        return \"HTTPURL\"\n",
    "    elif is_emoji(token):\n",
    "        return demojize(token)\n",
    "    else:\n",
    "        return token"
   ]
  },
  {
   "cell_type": "markdown",
   "id": "0aed5bf3",
   "metadata": {},
   "source": [
    "### Process the text data"
   ]
  },
  {
   "cell_type": "markdown",
   "id": "deba10fa",
   "metadata": {},
   "source": [
    "#### Process all text data\n",
    "\n",
    "See function docstring from text_processing()"
   ]
  },
  {
   "cell_type": "code",
   "execution_count": 8,
   "id": "1634a5eb",
   "metadata": {},
   "outputs": [],
   "source": [
    "train_text: list[str] = text_processing(train_text)\n",
    "test_text: list[str] = text_processing(test_text)\n",
    "validation_text: list[str] = text_processing(validation_text)"
   ]
  },
  {
   "cell_type": "markdown",
   "id": "c41216d7",
   "metadata": {},
   "source": [
    "##### Convert the labels to integers"
   ]
  },
  {
   "cell_type": "code",
   "execution_count": 9,
   "id": "ed72b814-f6f8-4cdf-931b-edb903b16db0",
   "metadata": {},
   "outputs": [],
   "source": [
    "validation_labels = [int(x) for x in validation_label]\n",
    "train_labels = [int(x) for x in train_label]\n",
    "test_labels = [int(x) for x in test_label]"
   ]
  },
  {
   "cell_type": "markdown",
   "id": "ebbc89e5-0ca5-4251-9be6-af7efa937b3c",
   "metadata": {},
   "source": [
    "### Transformer"
   ]
  },
  {
   "cell_type": "code",
   "execution_count": 10,
   "id": "1ac68c4e-8658-4341-8640-c55d1404e931",
   "metadata": {},
   "outputs": [],
   "source": [
    "from transformers import BertConfig, BertTokenizer, TFBertForSequenceClassification"
   ]
  },
  {
   "cell_type": "code",
   "execution_count": 11,
   "id": "1b9de556-1ef9-41dd-a82e-821995a0fa05",
   "metadata": {},
   "outputs": [],
   "source": [
    "# Configurable parameters\n",
    "number_of_epochs: int = 2\n",
    "batch_size: int = 16\n",
    "dropout_rate = 0.3\n",
    "learning_rate = 0.00001\n",
    "\n",
    "tf.random.set_seed(2024)\n",
    "\n",
    "custom_config = BertConfig.from_pretrained('bert-base-uncased')\n",
    "custom_config.hidden_dropout_prob = dropout_rate\n",
    "custom_config.num_labels = 3"
   ]
  },
  {
   "cell_type": "code",
   "execution_count": 12,
   "id": "8643c148-a1cb-4e4c-a6e5-e9dd36e1c9fa",
   "metadata": {},
   "outputs": [
    {
     "name": "stderr",
     "output_type": "stream",
     "text": [
      "2024-04-26 22:01:02.387183: I external/local_xla/xla/stream_executor/cuda/cuda_executor.cc:984] could not open file to read NUMA node: /sys/bus/pci/devices/0000:01:00.0/numa_node\n",
      "Your kernel may have been built without NUMA support.\n",
      "2024-04-26 22:01:02.387250: I external/local_xla/xla/stream_executor/cuda/cuda_executor.cc:984] could not open file to read NUMA node: /sys/bus/pci/devices/0000:01:00.0/numa_node\n",
      "Your kernel may have been built without NUMA support.\n",
      "2024-04-26 22:01:02.387266: I external/local_xla/xla/stream_executor/cuda/cuda_executor.cc:984] could not open file to read NUMA node: /sys/bus/pci/devices/0000:01:00.0/numa_node\n",
      "Your kernel may have been built without NUMA support.\n",
      "2024-04-26 22:01:02.486273: I external/local_xla/xla/stream_executor/cuda/cuda_executor.cc:984] could not open file to read NUMA node: /sys/bus/pci/devices/0000:01:00.0/numa_node\n",
      "Your kernel may have been built without NUMA support.\n",
      "2024-04-26 22:01:02.486321: I external/local_xla/xla/stream_executor/cuda/cuda_executor.cc:984] could not open file to read NUMA node: /sys/bus/pci/devices/0000:01:00.0/numa_node\n",
      "Your kernel may have been built without NUMA support.\n",
      "2024-04-26 22:01:02.486327: I tensorflow/core/common_runtime/gpu/gpu_device.cc:2019] Could not identify NUMA node of platform GPU id 0, defaulting to 0.  Your kernel may not have been built with NUMA support.\n",
      "2024-04-26 22:01:02.486351: I external/local_xla/xla/stream_executor/cuda/cuda_executor.cc:984] could not open file to read NUMA node: /sys/bus/pci/devices/0000:01:00.0/numa_node\n",
      "Your kernel may have been built without NUMA support.\n",
      "2024-04-26 22:01:02.486370: I tensorflow/core/common_runtime/gpu/gpu_device.cc:1928] Created device /job:localhost/replica:0/task:0/device:GPU:0 with 5564 MB memory:  -> device: 0, name: NVIDIA GeForce RTX 3070, pci bus id: 0000:01:00.0, compute capability: 8.6\n",
      "All PyTorch model weights were used when initializing TFBertForSequenceClassification.\n",
      "\n",
      "Some weights or buffers of the TF 2.0 model TFBertForSequenceClassification were not initialized from the PyTorch model and are newly initialized: ['classifier.weight', 'classifier.bias']\n",
      "You should probably TRAIN this model on a down-stream task to be able to use it for predictions and inference.\n"
     ]
    }
   ],
   "source": [
    "# Load pre-trained BERT model and tokenizer\n",
    "tokenizer = BertTokenizer.from_pretrained('bert-base-uncased')\n",
    "model = TFBertForSequenceClassification.from_pretrained('bert-base-uncased', config=custom_config)"
   ]
  },
  {
   "cell_type": "code",
   "execution_count": 13,
   "id": "4e663579-f6e6-4d97-a767-bd6ef48bf315",
   "metadata": {},
   "outputs": [],
   "source": [
    "# Tokenize and pad sequences\n",
    "train_encodings = tokenizer(train_text, padding=True, truncation=True, return_tensors='tf')\n",
    "validation_encodings = tokenizer(validation_text, padding=True, truncation=True, return_tensors='tf')"
   ]
  },
  {
   "cell_type": "code",
   "execution_count": 14,
   "id": "be0a6012-10f2-4204-aef4-aa14ca493c9f",
   "metadata": {},
   "outputs": [],
   "source": [
    "# Convert labels to TensorFlow tensors\n",
    "train_labels = tf.convert_to_tensor(tf.one_hot(train_labels, 3))\n",
    "validation_labels = tf.convert_to_tensor(tf.one_hot(validation_labels, 3))"
   ]
  },
  {
   "cell_type": "code",
   "execution_count": 15,
   "id": "39cd4674-92d9-4188-8743-2656d14cc988",
   "metadata": {},
   "outputs": [],
   "source": [
    "# Define the model\n",
    "optimizer = tf.keras.optimizers.Adam(learning_rate=learning_rate)\n",
    "loss = tf.keras.losses.CategoricalCrossentropy(from_logits=True)\n",
    "model.compile(optimizer=optimizer, loss=loss, metrics=['accuracy'])"
   ]
  },
  {
   "cell_type": "code",
   "execution_count": 16,
   "id": "67224cf8-f5d4-44ab-936a-b403e171e3e9",
   "metadata": {},
   "outputs": [],
   "source": [
    "# For the history\n",
    "train_loss: list[float] = []\n",
    "train_accuracy: list[float] = []\n",
    "validation_loss: list[float] = []\n",
    "validation_accuracy: list[float] = []"
   ]
  },
  {
   "cell_type": "code",
   "execution_count": 17,
   "id": "2e6c2410-2120-4d93-8fb8-45cfe146d846",
   "metadata": {},
   "outputs": [
    {
     "name": "stdout",
     "output_type": "stream",
     "text": [
      "WARNING:tensorflow:AutoGraph could not transform <function infer_framework at 0x7f1272bb60c0> and will run it as-is.\n",
      "Cause: for/else statement not yet supported\n",
      "To silence this warning, decorate the function with @tf.autograph.experimental.do_not_convert\n",
      "WARNING: AutoGraph could not transform <function infer_framework at 0x7f1272bb60c0> and will run it as-is.\n",
      "Cause: for/else statement not yet supported\n",
      "To silence this warning, decorate the function with @tf.autograph.experimental.do_not_convert\n"
     ]
    },
    {
     "name": "stderr",
     "output_type": "stream",
     "text": [
      "WARNING: All log messages before absl::InitializeLog() is called are written to STDERR\n",
      "I0000 00:00:1714168917.631328   68002 service.cc:145] XLA service 0x7f11d8a56b20 initialized for platform CUDA (this does not guarantee that XLA will be used). Devices:\n",
      "I0000 00:00:1714168917.631366   68002 service.cc:153]   StreamExecutor device (0): NVIDIA GeForce RTX 3070, Compute Capability 8.6\n",
      "2024-04-26 22:01:57.636994: I tensorflow/compiler/mlir/tensorflow/utils/dump_mlir_util.cc:268] disabling MLIR crash reproducer, set env var `MLIR_CRASH_REPRODUCER_DIRECTORY` to enable.\n",
      "2024-04-26 22:01:57.649197: I external/local_xla/xla/stream_executor/cuda/cuda_dnn.cc:465] Loaded cuDNN version 8906\n",
      "I0000 00:00:1714168917.689789   68002 device_compiler.h:188] Compiled cluster using XLA!  This line is logged at most once for the lifetime of the process.\n"
     ]
    },
    {
     "name": "stdout",
     "output_type": "stream",
     "text": [
      "2851/2851 [==============================] - 556s 178ms/step - loss: 0.7120 - accuracy: 0.6739\n",
      "Epoch 1 done. Validation accuracy: 0.7245000004768372, loss: 0.6204398274421692\n",
      "2851/2851 [==============================] - 503s 176ms/step - loss: 0.6016 - accuracy: 0.7299\n",
      "Epoch 2 done. Validation accuracy: 0.7354999780654907, loss: 0.6163877248764038\n"
     ]
    }
   ],
   "source": [
    "# Train the model\n",
    "# Because model.fit() will crash if I put validation_data inside\n",
    "# I created a manual version of history = model.fit(), with validation data\n",
    "with tf.device(device_name):\n",
    "    for i in range(number_of_epochs):\n",
    "        model.fit(train_encodings, train_labels, batch_size=batch_size)\n",
    "        # Get the loss and accuracy after the current epoch\n",
    "        loss, accuracy = model.evaluate(train_encodings, train_labels, verbose=0)\n",
    "        train_loss.append(loss)\n",
    "        train_accuracy.append(accuracy)\n",
    "        loss, accuracy = model.evaluate(validation_encodings, validation_labels, verbose=0)\n",
    "        validation_loss.append(loss)\n",
    "        validation_accuracy.append(accuracy)\n",
    "        print(f\"Epoch {i+1} done. Validation accuracy: {accuracy}, loss: {loss}\")"
   ]
  },
  {
   "cell_type": "code",
   "execution_count": 18,
   "id": "364fb8cd-06eb-44b4-ad71-f885d7edd80e",
   "metadata": {},
   "outputs": [
    {
     "data": {
      "image/png": "[encoded data removed]",
      "text/plain": [
       "<Figure size 640x480 with 1 Axes>"
      ]
     },
     "metadata": {},
     "output_type": "display_data"
    },
    {
     "data": {
      "image/png": "[encoded data removed]",
      "text/plain": [
       "<Figure size 640x480 with 1 Axes>"
      ]
     },
     "metadata": {},
     "output_type": "display_data"
    }
   ],
   "source": [
    "# Plot the graph\n",
    "epochs = range(1, number_of_epochs+1)\n",
    "plt.plot(epochs, train_loss, label='Training Loss')\n",
    "plt.plot(epochs, validation_loss, label='Validation Loss')\n",
    "plt.xlabel('Epoch')\n",
    "plt.ylabel('Loss')\n",
    "plt.legend()\n",
    "plt.show()\n",
    "\n",
    "# Plot training and validation accuracy\n",
    "plt.plot(epochs, train_accuracy, label='Training Accuracy')\n",
    "plt.plot(epochs, validation_accuracy, label='Validation Accuracy')\n",
    "plt.xlabel('Epoch')\n",
    "plt.ylabel('Accuracy')\n",
    "plt.legend()\n",
    "plt.show()"
   ]
  },
  {
   "cell_type": "markdown",
   "id": "f8ad99d8-2dd0-4d4e-85e4-4491bae046ac",
   "metadata": {},
   "source": [
    "### Final test on the trained model"
   ]
  },
  {
   "cell_type": "code",
   "execution_count": 19,
   "id": "9b77244b-8367-422d-bb2c-0d034dffcca9",
   "metadata": {},
   "outputs": [
    {
     "name": "stdout",
     "output_type": "stream",
     "text": [
      "384/384 [==============================] - 51s 133ms/step - loss: 0.6669 - accuracy: 0.7019\n",
      "Test Loss: 0.6669390201568604, Test Accuracy: 0.7018886208534241\n"
     ]
    }
   ],
   "source": [
    "# Encode the test labels and convert them to tensors\n",
    "test_encodings = tokenizer(test_text, padding=True, truncation=True, return_tensors='tf')\n",
    "test_labels = tf.convert_to_tensor(tf.one_hot(test_labels, 3))\n",
    "\n",
    "loss, accuracy = model.evaluate(test_encodings, test_labels)\n",
    "print(f\"Test Loss: {loss}, Test Accuracy: {accuracy}\")"
   ]
  },
  {
   "cell_type": "code",
   "execution_count": 20,
   "id": "8f6031f5-c109-4451-bcca-c3653bbb5e69",
   "metadata": {},
   "outputs": [
    {
     "name": "stdout",
     "output_type": "stream",
     "text": [
      "384/384 [==============================] - 55s 129ms/step\n",
      "F1 scores for each class: [0.70190329 0.70720378 0.68915371]\n",
      "Macro-averaged F1 score: 0.6994202606557532\n"
     ]
    }
   ],
   "source": [
    "# Find the marco f1 score\n",
    "prediction = model.predict(test_encodings)\n",
    "converted_prediction = np.argmax(prediction.logits, axis=1)\n",
    "test_labels = np.argmax(test_labels, axis=1)\n",
    "f1_scores = f1_score(test_labels, converted_prediction, average=None)\n",
    "macro_average_f1 = np.mean(f1_scores)\n",
    "print(\"F1 scores for each class:\", f1_scores)\n",
    "print(\"Macro-averaged F1 score:\", macro_average_f1)"
   ]
  },
  {
   "cell_type": "markdown",
   "id": "cf6dfa21-4d50-48b9-8d01-84f2ee8f756b",
   "metadata": {},
   "source": [
    "## Experiment Zone"
   ]
  },
  {
   "cell_type": "code",
   "execution_count": 21,
   "id": "d373f82a-13ae-4ff7-bcdc-efae7724661d",
   "metadata": {},
   "outputs": [],
   "source": [
    "prediction_matrix: np.ndarray = prediction.logits"
   ]
  },
  {
   "cell_type": "code",
   "execution_count": 22,
   "id": "7a00b408-f6dc-4f94-94cf-9392df44da66",
   "metadata": {},
   "outputs": [
    {
     "name": "stdout",
     "output_type": "stream",
     "text": [
      "[[ 2.8045814   0.9401121  -2.5055816 ]\n",
      " [-0.50557226  0.95278114  0.1970147 ]\n",
      " [ 1.2571694   1.3093456  -1.3292245 ]\n",
      " ...\n",
      " [ 0.20808825  2.1616862  -1.0023472 ]\n",
      " [ 2.8933647  -0.8647859  -1.8788793 ]\n",
      " [-2.7946093   0.535397    2.4822125 ]]\n"
     ]
    }
   ],
   "source": [
    "print(prediction_matrix)"
   ]
  },
  {
   "cell_type": "code",
   "execution_count": 35,
   "id": "bab44ecb-b1c9-4d87-b358-7004f6fcb8e6",
   "metadata": {},
   "outputs": [
    {
     "name": "stdout",
     "output_type": "stream",
     "text": [
      "F1 scores for each class: [0.70190329 0.70720378 0.68915371]\n",
      "Macro-averaged F1 score: 0.6994202606557532\n"
     ]
    }
   ],
   "source": [
    "final_result: list[int] = []\n",
    "netural_range: float =  0.00\n",
    "\n",
    "# Adjust decision method, make the model tend to predict\n",
    "# \"Netural\" more, according to the distribution of the dataset\n",
    "for row in prediction_matrix:\n",
    "    # If either the score of positive or negative class is in the\n",
    "    # +-50% range of the netural score, and the remaining class is\n",
    "    # not significant higher that the netural class ()\n",
    "    # It will be classified as netural\n",
    "\n",
    "    # If the class with the highest score is netural\n",
    "    if np.max(row) == row[1]:\n",
    "        final_result.append(1)\n",
    "        continue\n",
    "    \n",
    "    negative: float = row[0]\n",
    "    netural: float = row[1]\n",
    "    positive: float = row[2]\n",
    "\n",
    "    # Get the netural score range\n",
    "    min_netural: float = netural * (1 - netural_range)\n",
    "    max_netural: float = netural * (1 + netural_range)\n",
    "\n",
    "    # If score for negative is in netural range and it is the class with highest score\n",
    "    if min_netural <= negative <= max_netural and np.max(row) == negative:\n",
    "        final_result.append(1)\n",
    "    # If score for positive is in netural range and it is the class with highest score\n",
    "    elif min_netural <= positive <= max_netural and np.max(row) == positive:\n",
    "        final_result.append(1)\n",
    "    elif np.max(row) == negative:\n",
    "        final_result.append(0)\n",
    "    elif np.max(row) == positive:\n",
    "        final_result.append(2)\n",
    "\n",
    "f1_scores_processed = f1_score(test_labels, final_result, average=None)\n",
    "macro_average_f1_processed = np.mean(f1_scores_processed)\n",
    "print(\"F1 scores for each class:\", f1_scores_processed)\n",
    "print(\"Macro-averaged F1 score:\", macro_average_f1_processed)"
   ]
  },
  {
   "cell_type": "markdown",
   "id": "28151b2c-952a-444a-9a1e-1b161201e857",
   "metadata": {},
   "source": [
    "## TODO\n",
    "\n",
    "other transformers\n",
    "\n",
    "effect on processings"
   ]
  },
  {
   "cell_type": "raw",
   "id": "0d01aba7-5207-44a3-a23f-d881c7b44f91",
   "metadata": {},
   "source": [
    "Records (Will be removed before pushing to main)\n",
    "\n",
    "number_of_epochs: int = 3\n",
    "batch_size: int = 16\n",
    "dropout_rate = 0.3\n",
    "learning_rate = 0.00001\n",
    "bert-base-uncased\n",
    "New processing (after and not include commit 0fa0c9d)\n",
    "-> 74.5/69.8, 74.5/69.6, 74.7, 69.2\n",
    "\n",
    "number_of_epochs: int = 2\n",
    "batch_size: int = 16\n",
    "dropout_rate = 0.3\n",
    "learning_rate = 0.00001\n",
    "bert-base-uncased\n",
    "New processing (after and not include commit 0fa0c9d)\n",
    "-> 73.3/69.7/NA, 73.7/69.5/69.5, 73.5/69.6/69.6"
   ]
  }
 ],
 "metadata": {
  "kernelspec": {
   "display_name": "Python 3 (ipykernel)",
   "language": "python",
   "name": "python3"
  },
  "language_info": {
   "codemirror_mode": {
    "name": "ipython",
    "version": 3
   },
   "file_extension": ".py",
   "mimetype": "text/x-python",
   "name": "python",
   "nbconvert_exporter": "python",
   "pygments_lexer": "ipython3",
   "version": "3.11.0rc1"
  }
 },
 "nbformat": 4,
 "nbformat_minor": 5
}
